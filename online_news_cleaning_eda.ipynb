{
 "cells": [
  {
   "cell_type": "code",
   "execution_count": 1,
   "metadata": {},
   "outputs": [],
   "source": [
    "import pandas as pd\n",
    "import numpy as np\n",
    "\n",
    "import statsmodels.api as sm\n",
    "from statsmodels.formula.api import ols\n",
    "from statsmodels.stats.outliers_influence import variance_inflation_factor\n",
    "\n",
    "from matplotlib import pyplot as plt\n",
    "\n",
    "from sklearn import linear_model\n",
    "from sklearn.linear_model import LinearRegression\n",
    "\n",
    "from sklearn.model_selection import cross_val_score\n",
    "from sklearn.model_selection import KFold\n",
    "from itertools import combinations\n",
    "\n",
    "from sklearn.model_selection import train_test_split\n",
    "from sklearn import metrics\n",
    "from sklearn.preprocessing import PolynomialFeatures\n",
    "from sklearn.preprocessing import StandardScaler\n",
    "\n",
    "from sklearn.feature_selection import RFECV\n",
    "\n",
    "import seaborn as sns\n",
    "import pickle"
   ]
  },
  {
   "cell_type": "code",
   "execution_count": 2,
   "metadata": {
    "scrolled": true
   },
   "outputs": [],
   "source": [
    "news = pd.read_csv('OnlineNewsPopularity.csv')"
   ]
  },
  {
   "cell_type": "code",
   "execution_count": null,
   "metadata": {},
   "outputs": [],
   "source": [
    "news.shape"
   ]
  },
  {
   "cell_type": "code",
   "execution_count": null,
   "metadata": {},
   "outputs": [],
   "source": [
    "news.columns"
   ]
  },
  {
   "cell_type": "code",
   "execution_count": null,
   "metadata": {},
   "outputs": [],
   "source": [
    "news.head()"
   ]
  },
  {
   "cell_type": "code",
   "execution_count": null,
   "metadata": {},
   "outputs": [],
   "source": [
    "news[news[' average_token_length'] == 0].url.head()\n",
    "# checked why the average word length for these articles is 0 by going to the url manually "
   ]
  },
  {
   "cell_type": "code",
   "execution_count": 3,
   "metadata": {
    "scrolled": true
   },
   "outputs": [],
   "source": [
    "#  dropping columns that do not give me average data and where attribute information is unclear\n",
    "dropped_news = news.drop(columns=['url', ' timedelta', ' kw_min_min', ' kw_max_min', ' kw_avg_min', ' kw_min_max',\n",
    "                                  ' kw_max_max', ' kw_avg_max', ' kw_min_avg', ' kw_max_avg', ' kw_avg_avg',\n",
    "                                  ' min_positive_polarity', ' max_positive_polarity', ' min_negative_polarity',\n",
    "                                  ' max_negative_polarity', ' self_reference_min_shares',\n",
    "                                  ' self_reference_max_shares'])"
   ]
  },
  {
   "cell_type": "code",
   "execution_count": 5,
   "metadata": {},
   "outputs": [],
   "source": [
    "dropped_news.rename(columns=lambda x: x.lstrip(), inplace=True)"
   ]
  },
  {
   "cell_type": "code",
   "execution_count": 6,
   "metadata": {},
   "outputs": [],
   "source": [
    "dropped_news['average_token_length'].replace(0, np.nan, inplace=True)\n",
    "dropped_news.dropna(subset=['average_token_length'], inplace=True)\n",
    "# dropped rows where average token(word) length is 0 because Mashable could not find the page (as in it doesn't\n",
    "# exist anymore)"
   ]
  },
  {
   "cell_type": "code",
   "execution_count": null,
   "metadata": {},
   "outputs": [],
   "source": [
    "dropped_news.shape"
   ]
  },
  {
   "cell_type": "code",
   "execution_count": null,
   "metadata": {},
   "outputs": [],
   "source": [
    "dropped_news['shares'].describe()"
   ]
  },
  {
   "cell_type": "code",
   "execution_count": null,
   "metadata": {},
   "outputs": [],
   "source": [
    "dropped_news.isnull().nunique()\n",
    "# check to see if my data has null values --> it does not"
   ]
  },
  {
   "cell_type": "code",
   "execution_count": null,
   "metadata": {},
   "outputs": [],
   "source": [
    "dropped_news.describe()"
   ]
  },
  {
   "cell_type": "code",
   "execution_count": null,
   "metadata": {},
   "outputs": [],
   "source": []
  },
  {
   "cell_type": "markdown",
   "metadata": {},
   "source": [
    "# removing features with VIF coefficient higher than 10"
   ]
  },
  {
   "cell_type": "code",
   "execution_count": 7,
   "metadata": {},
   "outputs": [],
   "source": [
    "dropped_news.drop(columns=['n_unique_tokens', 'n_non_stop_unique_tokens', 'rate_positive_words',\n",
    "                           'rate_negative_words'], inplace=True)\n"
   ]
  },
  {
   "cell_type": "code",
   "execution_count": null,
   "metadata": {},
   "outputs": [],
   "source": [
    "with open('dropped_news_df', 'wb') as handle:\n",
    "    pickle.dump(dropped_news, handle, protocol=pickle.HIGHEST_PROTOCOL)"
   ]
  },
  {
   "cell_type": "code",
   "execution_count": null,
   "metadata": {},
   "outputs": [],
   "source": []
  },
  {
   "cell_type": "markdown",
   "metadata": {},
   "source": [
    "# EDA looking at relationship between 'shares' and other variables"
   ]
  },
  {
   "cell_type": "code",
   "execution_count": null,
   "metadata": {},
   "outputs": [],
   "source": [
    "sns.pairplot(dropped_news)\n",
    "# pairplot is unreadable so I decided to look at the relationships between shares and the rest of the variables"
   ]
  },
  {
   "cell_type": "code",
   "execution_count": null,
   "metadata": {},
   "outputs": [],
   "source": [
    "dropped_news.hist(figsize=(20,20))\n",
    "plt.show"
   ]
  },
  {
   "cell_type": "code",
   "execution_count": null,
   "metadata": {},
   "outputs": [],
   "source": [
    "sns.distplot(dropped_news.shares)\n",
    "# this distribution is not normally distributed so i graphed the log of the target in the cell below, which \n",
    "# normalized the graph"
   ]
  },
  {
   "cell_type": "code",
   "execution_count": null,
   "metadata": {},
   "outputs": [],
   "source": [
    "sns.distplot(np.log(dropped_news.shares))"
   ]
  },
  {
   "cell_type": "code",
   "execution_count": null,
   "metadata": {},
   "outputs": [],
   "source": [
    "dropped_news.plot.scatter('n_tokens_title', 'shares')"
   ]
  },
  {
   "cell_type": "code",
   "execution_count": null,
   "metadata": {},
   "outputs": [],
   "source": [
    "dropped_news.plot.scatter('n_tokens_content', 'shares')"
   ]
  },
  {
   "cell_type": "code",
   "execution_count": null,
   "metadata": {},
   "outputs": [],
   "source": [
    "dropped_news.plot.scatter('n_unique_tokens', 'shares')"
   ]
  },
  {
   "cell_type": "code",
   "execution_count": null,
   "metadata": {},
   "outputs": [],
   "source": [
    "dropped_news.plot.scatter('num_hrefs', 'shares')"
   ]
  },
  {
   "cell_type": "code",
   "execution_count": null,
   "metadata": {},
   "outputs": [],
   "source": [
    "dropped_news.plot.scatter('num_self_hrefs', 'shares')"
   ]
  },
  {
   "cell_type": "code",
   "execution_count": null,
   "metadata": {},
   "outputs": [],
   "source": [
    "dropped_news.plot.scatter('num_imgs', 'shares')"
   ]
  },
  {
   "cell_type": "code",
   "execution_count": null,
   "metadata": {},
   "outputs": [],
   "source": [
    "dropped_news.plot.scatter('num_videos', 'shares')"
   ]
  },
  {
   "cell_type": "code",
   "execution_count": null,
   "metadata": {},
   "outputs": [],
   "source": [
    "dropped_news.plot.scatter('average_token_length', 'shares')\n",
    "# what does it mean when the average length of words in the content is 0"
   ]
  },
  {
   "cell_type": "code",
   "execution_count": null,
   "metadata": {},
   "outputs": [],
   "source": [
    "dropped_news.plot.scatter('data_channel_is_lifestyle', 'shares')"
   ]
  },
  {
   "cell_type": "code",
   "execution_count": null,
   "metadata": {},
   "outputs": [],
   "source": [
    "dropped_news.plot.scatter('data_channel_is_entertainment', 'shares')"
   ]
  },
  {
   "cell_type": "code",
   "execution_count": null,
   "metadata": {},
   "outputs": [],
   "source": [
    "dropped_news.plot.scatter('data_channel_is_bus', 'shares')"
   ]
  },
  {
   "cell_type": "code",
   "execution_count": null,
   "metadata": {},
   "outputs": [],
   "source": [
    "dropped_news.plot.scatter('data_channel_is_socmed', 'shares')"
   ]
  },
  {
   "cell_type": "code",
   "execution_count": null,
   "metadata": {},
   "outputs": [],
   "source": [
    "dropped_news.plot.scatter('is_weekend', 'shares')"
   ]
  },
  {
   "cell_type": "code",
   "execution_count": null,
   "metadata": {},
   "outputs": [],
   "source": [
    "dropped_news.plot.scatter('weekday_is_monday', 'shares')"
   ]
  },
  {
   "cell_type": "code",
   "execution_count": null,
   "metadata": {},
   "outputs": [],
   "source": [
    "dropped_news.plot.scatter('weekday_is_tuesday', 'shares')"
   ]
  },
  {
   "cell_type": "code",
   "execution_count": null,
   "metadata": {},
   "outputs": [],
   "source": [
    "dropped_news.plot.scatter('weekday_is_wednesday', 'shares')"
   ]
  },
  {
   "cell_type": "code",
   "execution_count": null,
   "metadata": {},
   "outputs": [],
   "source": [
    "dropped_news.plot.scatter('weekday_is_thursday', 'shares')"
   ]
  },
  {
   "cell_type": "code",
   "execution_count": null,
   "metadata": {},
   "outputs": [],
   "source": [
    "dropped_news.plot.scatter('weekday_is_friday', 'shares')"
   ]
  },
  {
   "cell_type": "code",
   "execution_count": null,
   "metadata": {},
   "outputs": [],
   "source": [
    "dropped_news.plot.scatter('LDA_00', 'shares')"
   ]
  },
  {
   "cell_type": "code",
   "execution_count": null,
   "metadata": {},
   "outputs": [],
   "source": [
    "dropped_news.plot.scatter('LDA_01', 'shares')"
   ]
  },
  {
   "cell_type": "code",
   "execution_count": null,
   "metadata": {},
   "outputs": [],
   "source": [
    "dropped_news.plot.scatter('LDA_02', 'shares')"
   ]
  },
  {
   "cell_type": "code",
   "execution_count": null,
   "metadata": {},
   "outputs": [],
   "source": [
    "dropped_news.plot.scatter('LDA_03', 'shares')"
   ]
  },
  {
   "cell_type": "code",
   "execution_count": null,
   "metadata": {},
   "outputs": [],
   "source": [
    "dropped_news.plot.scatter('LDA_04', 'shares')"
   ]
  },
  {
   "cell_type": "code",
   "execution_count": null,
   "metadata": {},
   "outputs": [],
   "source": [
    "dropped_news.plot.scatter('self_reference_avg_sharess', 'shares')"
   ]
  },
  {
   "cell_type": "markdown",
   "metadata": {},
   "source": [
    "do people value opinion pieces less than pieces based on fact?"
   ]
  },
  {
   "cell_type": "code",
   "execution_count": null,
   "metadata": {},
   "outputs": [],
   "source": [
    "dropped_news.plot.scatter('global_subjectivity', 'shares')\n",
    "# text subjectivity\n",
    "# if the text has no subjectivity then, on average it receives more shares than subjective text"
   ]
  },
  {
   "cell_type": "code",
   "execution_count": null,
   "metadata": {},
   "outputs": [],
   "source": [
    "dropped_news.plot.scatter('global_sentiment_polarity', 'shares')\n",
    "# text sentiment polarity"
   ]
  },
  {
   "cell_type": "markdown",
   "metadata": {},
   "source": [
    "what affect does the wording have on the amount of shares?"
   ]
  },
  {
   "cell_type": "code",
   "execution_count": null,
   "metadata": {},
   "outputs": [],
   "source": [
    "dropped_news.plot.scatter('global_rate_positive_words', 'shares')\n",
    "\n",
    "# an article is on average more likely to be shared if there are no positive words in the article, but\n",
    "# articles with more positive words are shared more often than articles with negative words (on average)"
   ]
  },
  {
   "cell_type": "code",
   "execution_count": null,
   "metadata": {},
   "outputs": [],
   "source": [
    "dropped_news.plot.scatter('global_rate_negative_words', 'shares')"
   ]
  },
  {
   "cell_type": "markdown",
   "metadata": {},
   "source": [
    "does the authors of the news stories having a bias towards a certain polarity of word choice have an affect on the number of shares the article receives?"
   ]
  },
  {
   "cell_type": "code",
   "execution_count": null,
   "metadata": {},
   "outputs": [],
   "source": [
    "dropped_news.plot.scatter('rate_positive_words', 'shares')\n",
    "# higher rate of positive words than negative words"
   ]
  },
  {
   "cell_type": "code",
   "execution_count": null,
   "metadata": {},
   "outputs": [],
   "source": [
    "dropped_news.plot.scatter('rate_negative_words', 'shares')"
   ]
  },
  {
   "cell_type": "code",
   "execution_count": null,
   "metadata": {},
   "outputs": [],
   "source": [
    "dropped_news.plot.scatter('avg_positive_polarity', 'shares')"
   ]
  },
  {
   "cell_type": "code",
   "execution_count": null,
   "metadata": {},
   "outputs": [],
   "source": [
    "dropped_news.plot.scatter('avg_negative_polarity', 'shares')"
   ]
  },
  {
   "cell_type": "code",
   "execution_count": null,
   "metadata": {},
   "outputs": [],
   "source": [
    "dropped_news.plot.scatter('title_subjectivity', 'shares')"
   ]
  },
  {
   "cell_type": "code",
   "execution_count": null,
   "metadata": {},
   "outputs": [],
   "source": [
    "dropped_news.plot.scatter('title_sentiment_polarity', 'shares')"
   ]
  },
  {
   "cell_type": "code",
   "execution_count": null,
   "metadata": {},
   "outputs": [],
   "source": [
    "dropped_news.plot.scatter('abs_title_subjectivity', 'shares')"
   ]
  },
  {
   "cell_type": "code",
   "execution_count": null,
   "metadata": {},
   "outputs": [],
   "source": [
    "dropped_news.plot.scatter('abs_title_sentiment_polarity', 'shares')"
   ]
  },
  {
   "cell_type": "code",
   "execution_count": null,
   "metadata": {},
   "outputs": [],
   "source": [
    "dropped_news.corr()"
   ]
  },
  {
   "cell_type": "code",
   "execution_count": null,
   "metadata": {},
   "outputs": [],
   "source": []
  },
  {
   "cell_type": "markdown",
   "metadata": {},
   "source": [
    "# Meaningful EDAs"
   ]
  },
  {
   "cell_type": "code",
   "execution_count": 14,
   "metadata": {},
   "outputs": [],
   "source": [
    "day_conditions = [dropped_news.weekday_is_monday == 1, dropped_news.weekday_is_tuesday == 1,\n",
    "              dropped_news.weekday_is_wednesday == 1, dropped_news.weekday_is_thursday == 1,\n",
    "              dropped_news.weekday_is_friday == 1, dropped_news.weekday_is_saturday == 1,\n",
    "              dropped_news.weekday_is_sunday == 1]\n",
    "day_choices = ['Monday', 'Tuesday', 'Wednesday', 'Thursday', 'Friday', 'Saturday', 'Sunday']\n",
    "dropped_news['day_of_week'] = np.select(day_conditions, day_choices, np.nan)"
   ]
  },
  {
   "cell_type": "code",
   "execution_count": null,
   "metadata": {},
   "outputs": [],
   "source": [
    "# dropped_news.day_of_week.isnull().nunique()\n",
    "## checked for null values"
   ]
  },
  {
   "cell_type": "code",
   "execution_count": 15,
   "metadata": {},
   "outputs": [
    {
     "data": {
      "text/plain": [
       "Text(0, 0.5, 'Number of Shares')"
      ]
     },
     "execution_count": 15,
     "metadata": {},
     "output_type": "execute_result"
    },
    {
     "data": {
      "image/png": "[encoded data removed]",
      "text/plain": [
       "<Figure size 576x432 with 1 Axes>"
      ]
     },
     "metadata": {
      "needs_background": "light"
     },
     "output_type": "display_data"
    }
   ],
   "source": [
    "fig, ax = plt.subplots(figsize=(8,6))\n",
    "sns.set(style='whitegrid')\n",
    "sns.set_context('notebook')\n",
    "ax = sns.countplot(x=\"day_of_week\", data=dropped_news, palette='Set2')\n",
    "plt.title('Number of Shares per Day of the Week')\n",
    "plt.xlabel('Day of the Week')\n",
    "plt.ylabel('Number of Shares')"
   ]
  },
  {
   "cell_type": "markdown",
   "metadata": {},
   "source": [
    "Articles are less likely to be shared during the weekend; more likely to be shared in the middle of the week rather than the beginning or end of the week"
   ]
  },
  {
   "cell_type": "code",
   "execution_count": null,
   "metadata": {},
   "outputs": [],
   "source": [
    "lda_conditions = [dropped_news['LDA_00'] == 1, dropped_news.LDA_01 == 1, dropped_news.LDA_02 == 1,\n",
    "                  dropped_news.LDA_03 == 1, dropped_news.LDA_04 == 1]\n",
    "lda_choices = ['LDA_00', 'LDA_01', 'LDA_02', 'LDA_03', 'LDA_04']\n",
    "dropped_news['lda'] = np.select(lda_conditions, lda_choices, np.nan)"
   ]
  },
  {
   "cell_type": "code",
   "execution_count": null,
   "metadata": {},
   "outputs": [],
   "source": [
    "# attempt at graphing LDA\n",
    "fig, ax = plt.subplots(figsize=(8,6))\n",
    "sns.set(style='whitegrid')\n",
    "sns.set_context('notebook')\n",
    "ax = sns.scatterplot(x='lda', y='shares', data=dropped_news)"
   ]
  },
  {
   "cell_type": "code",
   "execution_count": 18,
   "metadata": {},
   "outputs": [],
   "source": [
    "channel_conditions = [dropped_news.data_channel_is_lifestyle == 1, dropped_news.data_channel_is_entertainment == 1,\n",
    "                      dropped_news.data_channel_is_bus == 1, dropped_news.data_channel_is_socmed == 1,\n",
    "                      dropped_news.data_channel_is_tech == 1, dropped_news.data_channel_is_world == 1]\n",
    "channel_choices = ['Lifestyle', 'Entertainment', 'Business', 'Social Media', 'Tech', 'World']\n",
    "dropped_news['channels'] = np.select(channel_conditions, channel_choices, 'No Genre')"
   ]
  },
  {
   "cell_type": "code",
   "execution_count": 19,
   "metadata": {},
   "outputs": [
    {
     "data": {
      "text/plain": [
       "Text(0, 0.5, 'Number of Shares')"
      ]
     },
     "execution_count": 19,
     "metadata": {},
     "output_type": "execute_result"
    },
    {
     "data": {
      "image/png": "[encoded data removed]",
      "text/plain": [
       "<Figure size 576x432 with 1 Axes>"
      ]
     },
     "metadata": {},
     "output_type": "display_data"
    }
   ],
   "source": [
    "fig, ax = plt.subplots(figsize=(8,6))\n",
    "sns.set(style='whitegrid')\n",
    "sns.set_context('notebook')\n",
    "ax = sns.countplot(x=\"channels\", data=dropped_news, palette='Set1')\n",
    "plt.title('Number of Shares per Article Genre')\n",
    "plt.xlabel('Genres')\n",
    "plt.ylabel('Number of Shares')"
   ]
  },
  {
   "cell_type": "markdown",
   "metadata": {},
   "source": [
    "Mashable's readers tend to value world and tech news more than entertainment, but still value \"professional-type\" news stories over \"leisure-type\" stories"
   ]
  },
  {
   "cell_type": "code",
   "execution_count": 12,
   "metadata": {},
   "outputs": [],
   "source": [
    "# attempt at graphing visuals"
   ]
  },
  {
   "cell_type": "code",
   "execution_count": null,
   "metadata": {},
   "outputs": [],
   "source": [
    "fig, ax = plt.subplots(ncols=2, figsize=(8,6))\n",
    "sns.set(style='whitegrid')\n",
    "sns.set_context('notebook')\n",
    "ax = sns.lineplot(x=[dropped_news['num_imgs'], dropped_news['num_videos']], y=dropped_news['shares'], data=dropped_news)"
   ]
  },
  {
   "cell_type": "code",
   "execution_count": null,
   "metadata": {},
   "outputs": [],
   "source": [
    "fig, ax = plt.subplots(figsize=(8,6))\n",
    "ax = sns.catplot(x=[dropped_news['num_imgs'], dropped_news['num_videos']], y=dropped_news.shares, data=dropped_news)\n"
   ]
  },
  {
   "cell_type": "code",
   "execution_count": null,
   "metadata": {},
   "outputs": [],
   "source": [
    "melted = visuals_df.melt('shares', var_name='num',  value_name='vals')\n",
    "g = sns.catplot(x='shares', y=\"vals\", hue='num', data=visuals_df)"
   ]
  },
  {
   "cell_type": "code",
   "execution_count": null,
   "metadata": {},
   "outputs": [],
   "source": [
    "visuals_df = dropped_news[['shares', 'num_imgs', 'num_videos', 'num_hrefs', 'num_self_hrefs',]]"
   ]
  },
  {
   "cell_type": "code",
   "execution_count": null,
   "metadata": {},
   "outputs": [],
   "source": []
  },
  {
   "cell_type": "markdown",
   "metadata": {},
   "source": [
    "I initially looked at the pairplot, which was completely unreadable, so I moved on to visualizations of the variables to the target variable. I used the 4 categories that I felt would have the most impact on the number of shares. I was mostly surprised by the \"Genres\" EDA because World news shares outnumbered Tech news shares by nearly a thousand (knowing that Mashable is a tech-oriented publisher)."
   ]
  }
 ],
 "metadata": {
  "kernelspec": {
   "display_name": "Python 3",
   "language": "python",
   "name": "python3"
  },
  "language_info": {
   "codemirror_mode": {
    "name": "ipython",
    "version": 3
   },
   "file_extension": ".py",
   "mimetype": "text/x-python",
   "name": "python",
   "nbconvert_exporter": "python",
   "pygments_lexer": "ipython3",
   "version": "3.7.4"
  }
 },
 "nbformat": 4,
 "nbformat_minor": 2
}
