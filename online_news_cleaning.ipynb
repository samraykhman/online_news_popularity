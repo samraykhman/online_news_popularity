{
 "cells": [
  {
   "cell_type": "code",
   "execution_count": 38,
   "metadata": {},
   "outputs": [],
   "source": [
    "import pandas as pd\n",
    "import numpy as np\n",
    "\n",
    "import statsmodels.api as sm\n",
    "from statsmodels.formula.api import ols\n",
    "from statsmodels.stats.outliers_influence import variance_inflation_factor\n",
    "\n",
    "from matplotlib import pyplot as plt\n",
    "\n",
    "from sklearn import linear_model\n",
    "from sklearn.linear_model import LinearRegression\n",
    "\n",
    "from sklearn.model_selection import train_test_split\n",
    "from sklearn import metrics\n",
    "from sklearn.preprocessing import PolynomialFeatures\n",
    "from sklearn.preprocessing import StandardScaler\n",
    "\n",
    "import seaborn as sns\n",
    "import pickle"
   ]
  },
  {
   "cell_type": "code",
   "execution_count": 2,
   "metadata": {
    "scrolled": true
   },
   "outputs": [],
   "source": [
    "news = pd.read_csv('OnlineNewsPopularity.csv')"
   ]
  },
  {
   "cell_type": "code",
   "execution_count": 6,
   "metadata": {
    "collapsed": true
   },
   "outputs": [
    {
     "data": {
      "text/plain": [
       "Index(['url', ' timedelta', ' n_tokens_title', ' n_tokens_content',\n",
       "       ' n_unique_tokens', ' n_non_stop_words', ' n_non_stop_unique_tokens',\n",
       "       ' num_hrefs', ' num_self_hrefs', ' num_imgs', ' num_videos',\n",
       "       ' average_token_length', ' num_keywords', ' data_channel_is_lifestyle',\n",
       "       ' data_channel_is_entertainment', ' data_channel_is_bus',\n",
       "       ' data_channel_is_socmed', ' data_channel_is_tech',\n",
       "       ' data_channel_is_world', ' kw_min_min', ' kw_max_min', ' kw_avg_min',\n",
       "       ' kw_min_max', ' kw_max_max', ' kw_avg_max', ' kw_min_avg',\n",
       "       ' kw_max_avg', ' kw_avg_avg', ' self_reference_min_shares',\n",
       "       ' self_reference_max_shares', ' self_reference_avg_sharess',\n",
       "       ' weekday_is_monday', ' weekday_is_tuesday', ' weekday_is_wednesday',\n",
       "       ' weekday_is_thursday', ' weekday_is_friday', ' weekday_is_saturday',\n",
       "       ' weekday_is_sunday', ' is_weekend', ' LDA_00', ' LDA_01', ' LDA_02',\n",
       "       ' LDA_03', ' LDA_04', ' global_subjectivity',\n",
       "       ' global_sentiment_polarity', ' global_rate_positive_words',\n",
       "       ' global_rate_negative_words', ' rate_positive_words',\n",
       "       ' rate_negative_words', ' avg_positive_polarity',\n",
       "       ' min_positive_polarity', ' max_positive_polarity',\n",
       "       ' avg_negative_polarity', ' min_negative_polarity',\n",
       "       ' max_negative_polarity', ' title_subjectivity',\n",
       "       ' title_sentiment_polarity', ' abs_title_subjectivity',\n",
       "       ' abs_title_sentiment_polarity', ' shares'],\n",
       "      dtype='object')"
      ]
     },
     "execution_count": 6,
     "metadata": {},
     "output_type": "execute_result"
    }
   ],
   "source": [
    "news.columns"
   ]
  },
  {
   "cell_type": "code",
   "execution_count": 40,
   "metadata": {
    "collapsed": true
   },
   "outputs": [
    {
     "data": {
      "text/html": [
       "<div>\n",
       "<style scoped>\n",
       "    .dataframe tbody tr th:only-of-type {\n",
       "        vertical-align: middle;\n",
       "    }\n",
       "\n",
       "    .dataframe tbody tr th {\n",
       "        vertical-align: top;\n",
       "    }\n",
       "\n",
       "    .dataframe thead th {\n",
       "        text-align: right;\n",
       "    }\n",
       "</style>\n",
       "<table border=\"1\" class=\"dataframe\">\n",
       "  <thead>\n",
       "    <tr style=\"text-align: right;\">\n",
       "      <th></th>\n",
       "      <th>url</th>\n",
       "      <th>timedelta</th>\n",
       "      <th>n_tokens_title</th>\n",
       "      <th>n_tokens_content</th>\n",
       "      <th>n_unique_tokens</th>\n",
       "      <th>n_non_stop_words</th>\n",
       "      <th>n_non_stop_unique_tokens</th>\n",
       "      <th>num_hrefs</th>\n",
       "      <th>num_self_hrefs</th>\n",
       "      <th>num_imgs</th>\n",
       "      <th>...</th>\n",
       "      <th>min_positive_polarity</th>\n",
       "      <th>max_positive_polarity</th>\n",
       "      <th>avg_negative_polarity</th>\n",
       "      <th>min_negative_polarity</th>\n",
       "      <th>max_negative_polarity</th>\n",
       "      <th>title_subjectivity</th>\n",
       "      <th>title_sentiment_polarity</th>\n",
       "      <th>abs_title_subjectivity</th>\n",
       "      <th>abs_title_sentiment_polarity</th>\n",
       "      <th>shares</th>\n",
       "    </tr>\n",
       "  </thead>\n",
       "  <tbody>\n",
       "    <tr>\n",
       "      <td>0</td>\n",
       "      <td>http://mashable.com/2013/01/07/amazon-instant-...</td>\n",
       "      <td>731.0</td>\n",
       "      <td>12.0</td>\n",
       "      <td>219.0</td>\n",
       "      <td>0.663594</td>\n",
       "      <td>1.0</td>\n",
       "      <td>0.815385</td>\n",
       "      <td>4.0</td>\n",
       "      <td>2.0</td>\n",
       "      <td>1.0</td>\n",
       "      <td>...</td>\n",
       "      <td>0.100000</td>\n",
       "      <td>0.7</td>\n",
       "      <td>-0.350000</td>\n",
       "      <td>-0.600</td>\n",
       "      <td>-0.200000</td>\n",
       "      <td>0.500000</td>\n",
       "      <td>-0.187500</td>\n",
       "      <td>0.000000</td>\n",
       "      <td>0.187500</td>\n",
       "      <td>593</td>\n",
       "    </tr>\n",
       "    <tr>\n",
       "      <td>1</td>\n",
       "      <td>http://mashable.com/2013/01/07/ap-samsung-spon...</td>\n",
       "      <td>731.0</td>\n",
       "      <td>9.0</td>\n",
       "      <td>255.0</td>\n",
       "      <td>0.604743</td>\n",
       "      <td>1.0</td>\n",
       "      <td>0.791946</td>\n",
       "      <td>3.0</td>\n",
       "      <td>1.0</td>\n",
       "      <td>1.0</td>\n",
       "      <td>...</td>\n",
       "      <td>0.033333</td>\n",
       "      <td>0.7</td>\n",
       "      <td>-0.118750</td>\n",
       "      <td>-0.125</td>\n",
       "      <td>-0.100000</td>\n",
       "      <td>0.000000</td>\n",
       "      <td>0.000000</td>\n",
       "      <td>0.500000</td>\n",
       "      <td>0.000000</td>\n",
       "      <td>711</td>\n",
       "    </tr>\n",
       "    <tr>\n",
       "      <td>2</td>\n",
       "      <td>http://mashable.com/2013/01/07/apple-40-billio...</td>\n",
       "      <td>731.0</td>\n",
       "      <td>9.0</td>\n",
       "      <td>211.0</td>\n",
       "      <td>0.575130</td>\n",
       "      <td>1.0</td>\n",
       "      <td>0.663866</td>\n",
       "      <td>3.0</td>\n",
       "      <td>1.0</td>\n",
       "      <td>1.0</td>\n",
       "      <td>...</td>\n",
       "      <td>0.100000</td>\n",
       "      <td>1.0</td>\n",
       "      <td>-0.466667</td>\n",
       "      <td>-0.800</td>\n",
       "      <td>-0.133333</td>\n",
       "      <td>0.000000</td>\n",
       "      <td>0.000000</td>\n",
       "      <td>0.500000</td>\n",
       "      <td>0.000000</td>\n",
       "      <td>1500</td>\n",
       "    </tr>\n",
       "    <tr>\n",
       "      <td>3</td>\n",
       "      <td>http://mashable.com/2013/01/07/astronaut-notre...</td>\n",
       "      <td>731.0</td>\n",
       "      <td>9.0</td>\n",
       "      <td>531.0</td>\n",
       "      <td>0.503788</td>\n",
       "      <td>1.0</td>\n",
       "      <td>0.665635</td>\n",
       "      <td>9.0</td>\n",
       "      <td>0.0</td>\n",
       "      <td>1.0</td>\n",
       "      <td>...</td>\n",
       "      <td>0.136364</td>\n",
       "      <td>0.8</td>\n",
       "      <td>-0.369697</td>\n",
       "      <td>-0.600</td>\n",
       "      <td>-0.166667</td>\n",
       "      <td>0.000000</td>\n",
       "      <td>0.000000</td>\n",
       "      <td>0.500000</td>\n",
       "      <td>0.000000</td>\n",
       "      <td>1200</td>\n",
       "    </tr>\n",
       "    <tr>\n",
       "      <td>4</td>\n",
       "      <td>http://mashable.com/2013/01/07/att-u-verse-apps/</td>\n",
       "      <td>731.0</td>\n",
       "      <td>13.0</td>\n",
       "      <td>1072.0</td>\n",
       "      <td>0.415646</td>\n",
       "      <td>1.0</td>\n",
       "      <td>0.540890</td>\n",
       "      <td>19.0</td>\n",
       "      <td>19.0</td>\n",
       "      <td>20.0</td>\n",
       "      <td>...</td>\n",
       "      <td>0.033333</td>\n",
       "      <td>1.0</td>\n",
       "      <td>-0.220192</td>\n",
       "      <td>-0.500</td>\n",
       "      <td>-0.050000</td>\n",
       "      <td>0.454545</td>\n",
       "      <td>0.136364</td>\n",
       "      <td>0.045455</td>\n",
       "      <td>0.136364</td>\n",
       "      <td>505</td>\n",
       "    </tr>\n",
       "  </tbody>\n",
       "</table>\n",
       "<p>5 rows × 61 columns</p>\n",
       "</div>"
      ],
      "text/plain": [
       "                                                 url   timedelta  \\\n",
       "0  http://mashable.com/2013/01/07/amazon-instant-...       731.0   \n",
       "1  http://mashable.com/2013/01/07/ap-samsung-spon...       731.0   \n",
       "2  http://mashable.com/2013/01/07/apple-40-billio...       731.0   \n",
       "3  http://mashable.com/2013/01/07/astronaut-notre...       731.0   \n",
       "4   http://mashable.com/2013/01/07/att-u-verse-apps/       731.0   \n",
       "\n",
       "    n_tokens_title   n_tokens_content   n_unique_tokens   n_non_stop_words  \\\n",
       "0             12.0              219.0          0.663594                1.0   \n",
       "1              9.0              255.0          0.604743                1.0   \n",
       "2              9.0              211.0          0.575130                1.0   \n",
       "3              9.0              531.0          0.503788                1.0   \n",
       "4             13.0             1072.0          0.415646                1.0   \n",
       "\n",
       "    n_non_stop_unique_tokens   num_hrefs   num_self_hrefs   num_imgs  ...  \\\n",
       "0                   0.815385         4.0              2.0        1.0  ...   \n",
       "1                   0.791946         3.0              1.0        1.0  ...   \n",
       "2                   0.663866         3.0              1.0        1.0  ...   \n",
       "3                   0.665635         9.0              0.0        1.0  ...   \n",
       "4                   0.540890        19.0             19.0       20.0  ...   \n",
       "\n",
       "    min_positive_polarity   max_positive_polarity   avg_negative_polarity  \\\n",
       "0                0.100000                     0.7               -0.350000   \n",
       "1                0.033333                     0.7               -0.118750   \n",
       "2                0.100000                     1.0               -0.466667   \n",
       "3                0.136364                     0.8               -0.369697   \n",
       "4                0.033333                     1.0               -0.220192   \n",
       "\n",
       "    min_negative_polarity   max_negative_polarity   title_subjectivity  \\\n",
       "0                  -0.600               -0.200000             0.500000   \n",
       "1                  -0.125               -0.100000             0.000000   \n",
       "2                  -0.800               -0.133333             0.000000   \n",
       "3                  -0.600               -0.166667             0.000000   \n",
       "4                  -0.500               -0.050000             0.454545   \n",
       "\n",
       "    title_sentiment_polarity   abs_title_subjectivity  \\\n",
       "0                  -0.187500                 0.000000   \n",
       "1                   0.000000                 0.500000   \n",
       "2                   0.000000                 0.500000   \n",
       "3                   0.000000                 0.500000   \n",
       "4                   0.136364                 0.045455   \n",
       "\n",
       "    abs_title_sentiment_polarity   shares  \n",
       "0                       0.187500      593  \n",
       "1                       0.000000      711  \n",
       "2                       0.000000     1500  \n",
       "3                       0.000000     1200  \n",
       "4                       0.136364      505  \n",
       "\n",
       "[5 rows x 61 columns]"
      ]
     },
     "execution_count": 40,
     "metadata": {},
     "output_type": "execute_result"
    }
   ],
   "source": [
    "news.head()"
   ]
  },
  {
   "cell_type": "code",
   "execution_count": 37,
   "metadata": {
    "collapsed": true
   },
   "outputs": [
    {
     "data": {
      "text/plain": [
       "893     http://mashable.com/2013/01/23/actual-facebook...\n",
       "917     http://mashable.com/2013/01/23/fitness-gadget-...\n",
       "1062    http://mashable.com/2013/01/25/data-vs-nature-...\n",
       "1121    http://mashable.com/2013/01/26/infographics-ma...\n",
       "1312    http://mashable.com/2013/01/29/social-tv-chart...\n",
       "Name: url, dtype: object"
      ]
     },
     "execution_count": 37,
     "metadata": {},
     "output_type": "execute_result"
    }
   ],
   "source": [
    "news[news[' average_token_length'] == 0].url.head()\n",
    "# checked why the average word length for these articles is 0 by going to the url manually "
   ]
  },
  {
   "cell_type": "code",
   "execution_count": 3,
   "metadata": {
    "scrolled": true
   },
   "outputs": [],
   "source": [
    "#  dropping columns that do not give me average data and where attribute information is unclear\n",
    "dropped_news = news.drop(columns=['url', ' timedelta', ' kw_min_min', ' kw_max_min', ' kw_avg_min', ' kw_min_max', ' kw_max_max',\n",
    "                   ' kw_avg_max', ' kw_min_avg', ' kw_max_avg', ' kw_avg_avg', ' min_positive_polarity',\n",
    "                   ' max_positive_polarity', ' min_negative_polarity', ' max_negative_polarity',\n",
    "                   ' self_reference_min_shares', ' self_reference_max_shares'])"
   ]
  },
  {
   "cell_type": "code",
   "execution_count": 33,
   "metadata": {},
   "outputs": [],
   "source": [
    "dropped_news.rename(columns=lambda x: x.lstrip(), inplace=True)"
   ]
  },
  {
   "cell_type": "code",
   "execution_count": null,
   "metadata": {},
   "outputs": [],
   "source": [
    "'''NEED TO REMOVE ROWS WHERE AVERAGE TOKEN LENGTH == 0 BECAUSE THESE MASHABLE  ('COULD NOT FIND THE PAGE')'''"
   ]
  },
  {
   "cell_type": "code",
   "execution_count": 138,
   "metadata": {
    "collapsed": true
   },
   "outputs": [
    {
     "data": {
      "text/plain": [
       "0         593\n",
       "1         711\n",
       "2        1500\n",
       "3        1200\n",
       "4         505\n",
       "         ... \n",
       "39639    1800\n",
       "39640    1900\n",
       "39641    1900\n",
       "39642    1100\n",
       "39643    1300\n",
       "Name: shares, Length: 39644, dtype: int64"
      ]
     },
     "execution_count": 138,
     "metadata": {},
     "output_type": "execute_result"
    }
   ],
   "source": [
    "dropped_news['shares']"
   ]
  },
  {
   "cell_type": "code",
   "execution_count": 63,
   "metadata": {
    "collapsed": true
   },
   "outputs": [
    {
     "data": {
      "text/plain": [
       " n_tokens_title                   1\n",
       " n_tokens_content                 1\n",
       " n_unique_tokens                  1\n",
       " n_non_stop_words                 1\n",
       " n_non_stop_unique_tokens         1\n",
       " num_hrefs                        1\n",
       " num_self_hrefs                   1\n",
       " num_imgs                         1\n",
       " num_videos                       1\n",
       " average_token_length             1\n",
       " num_keywords                     1\n",
       " data_channel_is_lifestyle        1\n",
       " data_channel_is_entertainment    1\n",
       " data_channel_is_bus              1\n",
       " data_channel_is_socmed           1\n",
       " data_channel_is_tech             1\n",
       " data_channel_is_world            1\n",
       " self_reference_avg_sharess       1\n",
       " weekday_is_monday                1\n",
       " weekday_is_tuesday               1\n",
       " weekday_is_wednesday             1\n",
       " weekday_is_thursday              1\n",
       " weekday_is_friday                1\n",
       " weekday_is_saturday              1\n",
       " weekday_is_sunday                1\n",
       " is_weekend                       1\n",
       " LDA_00                           1\n",
       " LDA_01                           1\n",
       " LDA_02                           1\n",
       " LDA_03                           1\n",
       " LDA_04                           1\n",
       " global_subjectivity              1\n",
       " global_sentiment_polarity        1\n",
       " global_rate_positive_words       1\n",
       " global_rate_negative_words       1\n",
       " rate_positive_words              1\n",
       " rate_negative_words              1\n",
       " avg_positive_polarity            1\n",
       " avg_negative_polarity            1\n",
       " title_subjectivity               1\n",
       " title_sentiment_polarity         1\n",
       " abs_title_subjectivity           1\n",
       " abs_title_sentiment_polarity     1\n",
       " shares                           1\n",
       "dtype: int64"
      ]
     },
     "execution_count": 63,
     "metadata": {},
     "output_type": "execute_result"
    }
   ],
   "source": [
    "dropped_news.isnull().nunique()\n",
    "# check to see if my data has null values --> it does not"
   ]
  },
  {
   "cell_type": "code",
   "execution_count": 64,
   "metadata": {
    "collapsed": true
   },
   "outputs": [
    {
     "data": {
      "text/html": [
       "<div>\n",
       "<style scoped>\n",
       "    .dataframe tbody tr th:only-of-type {\n",
       "        vertical-align: middle;\n",
       "    }\n",
       "\n",
       "    .dataframe tbody tr th {\n",
       "        vertical-align: top;\n",
       "    }\n",
       "\n",
       "    .dataframe thead th {\n",
       "        text-align: right;\n",
       "    }\n",
       "</style>\n",
       "<table border=\"1\" class=\"dataframe\">\n",
       "  <thead>\n",
       "    <tr style=\"text-align: right;\">\n",
       "      <th></th>\n",
       "      <th>n_tokens_title</th>\n",
       "      <th>n_tokens_content</th>\n",
       "      <th>n_unique_tokens</th>\n",
       "      <th>n_non_stop_words</th>\n",
       "      <th>n_non_stop_unique_tokens</th>\n",
       "      <th>num_hrefs</th>\n",
       "      <th>num_self_hrefs</th>\n",
       "      <th>num_imgs</th>\n",
       "      <th>num_videos</th>\n",
       "      <th>average_token_length</th>\n",
       "      <th>...</th>\n",
       "      <th>global_rate_negative_words</th>\n",
       "      <th>rate_positive_words</th>\n",
       "      <th>rate_negative_words</th>\n",
       "      <th>avg_positive_polarity</th>\n",
       "      <th>avg_negative_polarity</th>\n",
       "      <th>title_subjectivity</th>\n",
       "      <th>title_sentiment_polarity</th>\n",
       "      <th>abs_title_subjectivity</th>\n",
       "      <th>abs_title_sentiment_polarity</th>\n",
       "      <th>shares</th>\n",
       "    </tr>\n",
       "  </thead>\n",
       "  <tbody>\n",
       "    <tr>\n",
       "      <td>count</td>\n",
       "      <td>39644.000000</td>\n",
       "      <td>39644.000000</td>\n",
       "      <td>39644.000000</td>\n",
       "      <td>39644.000000</td>\n",
       "      <td>39644.000000</td>\n",
       "      <td>39644.000000</td>\n",
       "      <td>39644.000000</td>\n",
       "      <td>39644.000000</td>\n",
       "      <td>39644.000000</td>\n",
       "      <td>39644.000000</td>\n",
       "      <td>...</td>\n",
       "      <td>39644.000000</td>\n",
       "      <td>39644.000000</td>\n",
       "      <td>39644.000000</td>\n",
       "      <td>39644.000000</td>\n",
       "      <td>39644.000000</td>\n",
       "      <td>39644.000000</td>\n",
       "      <td>39644.000000</td>\n",
       "      <td>39644.000000</td>\n",
       "      <td>39644.000000</td>\n",
       "      <td>39644.000000</td>\n",
       "    </tr>\n",
       "    <tr>\n",
       "      <td>mean</td>\n",
       "      <td>10.398749</td>\n",
       "      <td>546.514731</td>\n",
       "      <td>0.548216</td>\n",
       "      <td>0.996469</td>\n",
       "      <td>0.689175</td>\n",
       "      <td>10.883690</td>\n",
       "      <td>3.293638</td>\n",
       "      <td>4.544143</td>\n",
       "      <td>1.249874</td>\n",
       "      <td>4.548239</td>\n",
       "      <td>...</td>\n",
       "      <td>0.016612</td>\n",
       "      <td>0.682150</td>\n",
       "      <td>0.287934</td>\n",
       "      <td>0.353825</td>\n",
       "      <td>-0.259524</td>\n",
       "      <td>0.282353</td>\n",
       "      <td>0.071425</td>\n",
       "      <td>0.341843</td>\n",
       "      <td>0.156064</td>\n",
       "      <td>3395.380184</td>\n",
       "    </tr>\n",
       "    <tr>\n",
       "      <td>std</td>\n",
       "      <td>2.114037</td>\n",
       "      <td>471.107508</td>\n",
       "      <td>3.520708</td>\n",
       "      <td>5.231231</td>\n",
       "      <td>3.264816</td>\n",
       "      <td>11.332017</td>\n",
       "      <td>3.855141</td>\n",
       "      <td>8.309434</td>\n",
       "      <td>4.107855</td>\n",
       "      <td>0.844406</td>\n",
       "      <td>...</td>\n",
       "      <td>0.010828</td>\n",
       "      <td>0.190206</td>\n",
       "      <td>0.156156</td>\n",
       "      <td>0.104542</td>\n",
       "      <td>0.127726</td>\n",
       "      <td>0.324247</td>\n",
       "      <td>0.265450</td>\n",
       "      <td>0.188791</td>\n",
       "      <td>0.226294</td>\n",
       "      <td>11626.950749</td>\n",
       "    </tr>\n",
       "    <tr>\n",
       "      <td>min</td>\n",
       "      <td>2.000000</td>\n",
       "      <td>0.000000</td>\n",
       "      <td>0.000000</td>\n",
       "      <td>0.000000</td>\n",
       "      <td>0.000000</td>\n",
       "      <td>0.000000</td>\n",
       "      <td>0.000000</td>\n",
       "      <td>0.000000</td>\n",
       "      <td>0.000000</td>\n",
       "      <td>0.000000</td>\n",
       "      <td>...</td>\n",
       "      <td>0.000000</td>\n",
       "      <td>0.000000</td>\n",
       "      <td>0.000000</td>\n",
       "      <td>0.000000</td>\n",
       "      <td>-1.000000</td>\n",
       "      <td>0.000000</td>\n",
       "      <td>-1.000000</td>\n",
       "      <td>0.000000</td>\n",
       "      <td>0.000000</td>\n",
       "      <td>1.000000</td>\n",
       "    </tr>\n",
       "    <tr>\n",
       "      <td>25%</td>\n",
       "      <td>9.000000</td>\n",
       "      <td>246.000000</td>\n",
       "      <td>0.470870</td>\n",
       "      <td>1.000000</td>\n",
       "      <td>0.625739</td>\n",
       "      <td>4.000000</td>\n",
       "      <td>1.000000</td>\n",
       "      <td>1.000000</td>\n",
       "      <td>0.000000</td>\n",
       "      <td>4.478404</td>\n",
       "      <td>...</td>\n",
       "      <td>0.009615</td>\n",
       "      <td>0.600000</td>\n",
       "      <td>0.185185</td>\n",
       "      <td>0.306244</td>\n",
       "      <td>-0.328383</td>\n",
       "      <td>0.000000</td>\n",
       "      <td>0.000000</td>\n",
       "      <td>0.166667</td>\n",
       "      <td>0.000000</td>\n",
       "      <td>946.000000</td>\n",
       "    </tr>\n",
       "    <tr>\n",
       "      <td>50%</td>\n",
       "      <td>10.000000</td>\n",
       "      <td>409.000000</td>\n",
       "      <td>0.539226</td>\n",
       "      <td>1.000000</td>\n",
       "      <td>0.690476</td>\n",
       "      <td>8.000000</td>\n",
       "      <td>3.000000</td>\n",
       "      <td>1.000000</td>\n",
       "      <td>0.000000</td>\n",
       "      <td>4.664082</td>\n",
       "      <td>...</td>\n",
       "      <td>0.015337</td>\n",
       "      <td>0.710526</td>\n",
       "      <td>0.280000</td>\n",
       "      <td>0.358755</td>\n",
       "      <td>-0.253333</td>\n",
       "      <td>0.150000</td>\n",
       "      <td>0.000000</td>\n",
       "      <td>0.500000</td>\n",
       "      <td>0.000000</td>\n",
       "      <td>1400.000000</td>\n",
       "    </tr>\n",
       "    <tr>\n",
       "      <td>75%</td>\n",
       "      <td>12.000000</td>\n",
       "      <td>716.000000</td>\n",
       "      <td>0.608696</td>\n",
       "      <td>1.000000</td>\n",
       "      <td>0.754630</td>\n",
       "      <td>14.000000</td>\n",
       "      <td>4.000000</td>\n",
       "      <td>4.000000</td>\n",
       "      <td>1.000000</td>\n",
       "      <td>4.854839</td>\n",
       "      <td>...</td>\n",
       "      <td>0.021739</td>\n",
       "      <td>0.800000</td>\n",
       "      <td>0.384615</td>\n",
       "      <td>0.411428</td>\n",
       "      <td>-0.186905</td>\n",
       "      <td>0.500000</td>\n",
       "      <td>0.150000</td>\n",
       "      <td>0.500000</td>\n",
       "      <td>0.250000</td>\n",
       "      <td>2800.000000</td>\n",
       "    </tr>\n",
       "    <tr>\n",
       "      <td>max</td>\n",
       "      <td>23.000000</td>\n",
       "      <td>8474.000000</td>\n",
       "      <td>701.000000</td>\n",
       "      <td>1042.000000</td>\n",
       "      <td>650.000000</td>\n",
       "      <td>304.000000</td>\n",
       "      <td>116.000000</td>\n",
       "      <td>128.000000</td>\n",
       "      <td>91.000000</td>\n",
       "      <td>8.041534</td>\n",
       "      <td>...</td>\n",
       "      <td>0.184932</td>\n",
       "      <td>1.000000</td>\n",
       "      <td>1.000000</td>\n",
       "      <td>1.000000</td>\n",
       "      <td>0.000000</td>\n",
       "      <td>1.000000</td>\n",
       "      <td>1.000000</td>\n",
       "      <td>0.500000</td>\n",
       "      <td>1.000000</td>\n",
       "      <td>843300.000000</td>\n",
       "    </tr>\n",
       "  </tbody>\n",
       "</table>\n",
       "<p>8 rows × 44 columns</p>\n",
       "</div>"
      ],
      "text/plain": [
       "        n_tokens_title   n_tokens_content   n_unique_tokens  \\\n",
       "count     39644.000000       39644.000000      39644.000000   \n",
       "mean         10.398749         546.514731          0.548216   \n",
       "std           2.114037         471.107508          3.520708   \n",
       "min           2.000000           0.000000          0.000000   \n",
       "25%           9.000000         246.000000          0.470870   \n",
       "50%          10.000000         409.000000          0.539226   \n",
       "75%          12.000000         716.000000          0.608696   \n",
       "max          23.000000        8474.000000        701.000000   \n",
       "\n",
       "        n_non_stop_words   n_non_stop_unique_tokens     num_hrefs  \\\n",
       "count       39644.000000               39644.000000  39644.000000   \n",
       "mean            0.996469                   0.689175     10.883690   \n",
       "std             5.231231                   3.264816     11.332017   \n",
       "min             0.000000                   0.000000      0.000000   \n",
       "25%             1.000000                   0.625739      4.000000   \n",
       "50%             1.000000                   0.690476      8.000000   \n",
       "75%             1.000000                   0.754630     14.000000   \n",
       "max          1042.000000                 650.000000    304.000000   \n",
       "\n",
       "        num_self_hrefs      num_imgs    num_videos   average_token_length  \\\n",
       "count     39644.000000  39644.000000  39644.000000           39644.000000   \n",
       "mean          3.293638      4.544143      1.249874               4.548239   \n",
       "std           3.855141      8.309434      4.107855               0.844406   \n",
       "min           0.000000      0.000000      0.000000               0.000000   \n",
       "25%           1.000000      1.000000      0.000000               4.478404   \n",
       "50%           3.000000      1.000000      0.000000               4.664082   \n",
       "75%           4.000000      4.000000      1.000000               4.854839   \n",
       "max         116.000000    128.000000     91.000000               8.041534   \n",
       "\n",
       "       ...   global_rate_negative_words   rate_positive_words  \\\n",
       "count  ...                 39644.000000          39644.000000   \n",
       "mean   ...                     0.016612              0.682150   \n",
       "std    ...                     0.010828              0.190206   \n",
       "min    ...                     0.000000              0.000000   \n",
       "25%    ...                     0.009615              0.600000   \n",
       "50%    ...                     0.015337              0.710526   \n",
       "75%    ...                     0.021739              0.800000   \n",
       "max    ...                     0.184932              1.000000   \n",
       "\n",
       "        rate_negative_words   avg_positive_polarity   avg_negative_polarity  \\\n",
       "count          39644.000000            39644.000000            39644.000000   \n",
       "mean               0.287934                0.353825               -0.259524   \n",
       "std                0.156156                0.104542                0.127726   \n",
       "min                0.000000                0.000000               -1.000000   \n",
       "25%                0.185185                0.306244               -0.328383   \n",
       "50%                0.280000                0.358755               -0.253333   \n",
       "75%                0.384615                0.411428               -0.186905   \n",
       "max                1.000000                1.000000                0.000000   \n",
       "\n",
       "        title_subjectivity   title_sentiment_polarity  \\\n",
       "count         39644.000000               39644.000000   \n",
       "mean              0.282353                   0.071425   \n",
       "std               0.324247                   0.265450   \n",
       "min               0.000000                  -1.000000   \n",
       "25%               0.000000                   0.000000   \n",
       "50%               0.150000                   0.000000   \n",
       "75%               0.500000                   0.150000   \n",
       "max               1.000000                   1.000000   \n",
       "\n",
       "        abs_title_subjectivity   abs_title_sentiment_polarity         shares  \n",
       "count             39644.000000                   39644.000000   39644.000000  \n",
       "mean                  0.341843                       0.156064    3395.380184  \n",
       "std                   0.188791                       0.226294   11626.950749  \n",
       "min                   0.000000                       0.000000       1.000000  \n",
       "25%                   0.166667                       0.000000     946.000000  \n",
       "50%                   0.500000                       0.000000    1400.000000  \n",
       "75%                   0.500000                       0.250000    2800.000000  \n",
       "max                   0.500000                       1.000000  843300.000000  \n",
       "\n",
       "[8 rows x 44 columns]"
      ]
     },
     "execution_count": 64,
     "metadata": {},
     "output_type": "execute_result"
    }
   ],
   "source": [
    "dropped_news.describe()"
   ]
  },
  {
   "cell_type": "markdown",
   "metadata": {},
   "source": [
    "# creating log and sqrt of my feature variable to get it ready for testing"
   ]
  },
  {
   "cell_type": "code",
   "execution_count": 5,
   "metadata": {},
   "outputs": [],
   "source": [
    "dropped_news['shares_log'] = np.log(dropped_news['shares'])\n",
    "dropped_news['shares_sqrt'] = np.log(dropped_news['shares'])"
   ]
  },
  {
   "cell_type": "code",
   "execution_count": 6,
   "metadata": {
    "collapsed": true
   },
   "outputs": [
    {
     "data": {
      "text/html": [
       "<div>\n",
       "<style scoped>\n",
       "    .dataframe tbody tr th:only-of-type {\n",
       "        vertical-align: middle;\n",
       "    }\n",
       "\n",
       "    .dataframe tbody tr th {\n",
       "        vertical-align: top;\n",
       "    }\n",
       "\n",
       "    .dataframe thead th {\n",
       "        text-align: right;\n",
       "    }\n",
       "</style>\n",
       "<table border=\"1\" class=\"dataframe\">\n",
       "  <thead>\n",
       "    <tr style=\"text-align: right;\">\n",
       "      <th></th>\n",
       "      <th>n_tokens_title</th>\n",
       "      <th>n_tokens_content</th>\n",
       "      <th>n_unique_tokens</th>\n",
       "      <th>n_non_stop_words</th>\n",
       "      <th>n_non_stop_unique_tokens</th>\n",
       "      <th>num_hrefs</th>\n",
       "      <th>num_self_hrefs</th>\n",
       "      <th>num_imgs</th>\n",
       "      <th>num_videos</th>\n",
       "      <th>average_token_length</th>\n",
       "      <th>...</th>\n",
       "      <th>rate_negative_words</th>\n",
       "      <th>avg_positive_polarity</th>\n",
       "      <th>avg_negative_polarity</th>\n",
       "      <th>title_subjectivity</th>\n",
       "      <th>title_sentiment_polarity</th>\n",
       "      <th>abs_title_subjectivity</th>\n",
       "      <th>abs_title_sentiment_polarity</th>\n",
       "      <th>shares</th>\n",
       "      <th>shares_log</th>\n",
       "      <th>shares_sqrt</th>\n",
       "    </tr>\n",
       "  </thead>\n",
       "  <tbody>\n",
       "    <tr>\n",
       "      <td>n_tokens_title</td>\n",
       "      <td>1.000000</td>\n",
       "      <td>0.018160</td>\n",
       "      <td>-0.005318</td>\n",
       "      <td>-0.004754</td>\n",
       "      <td>-0.005420</td>\n",
       "      <td>-0.053496</td>\n",
       "      <td>-0.014856</td>\n",
       "      <td>-0.008858</td>\n",
       "      <td>0.051460</td>\n",
       "      <td>-0.071403</td>\n",
       "      <td>...</td>\n",
       "      <td>0.034186</td>\n",
       "      <td>-0.049619</td>\n",
       "      <td>-0.017096</td>\n",
       "      <td>0.077245</td>\n",
       "      <td>0.000240</td>\n",
       "      <td>-0.146954</td>\n",
       "      <td>0.040550</td>\n",
       "      <td>0.008783</td>\n",
       "      <td>-0.019030</td>\n",
       "      <td>-0.019030</td>\n",
       "    </tr>\n",
       "    <tr>\n",
       "      <td>n_tokens_content</td>\n",
       "      <td>0.018160</td>\n",
       "      <td>1.000000</td>\n",
       "      <td>-0.004737</td>\n",
       "      <td>0.017512</td>\n",
       "      <td>0.000373</td>\n",
       "      <td>0.423065</td>\n",
       "      <td>0.304682</td>\n",
       "      <td>0.342600</td>\n",
       "      <td>0.103699</td>\n",
       "      <td>0.167789</td>\n",
       "      <td>...</td>\n",
       "      <td>0.101053</td>\n",
       "      <td>0.135123</td>\n",
       "      <td>-0.130375</td>\n",
       "      <td>0.004484</td>\n",
       "      <td>0.023358</td>\n",
       "      <td>0.007136</td>\n",
       "      <td>0.013439</td>\n",
       "      <td>0.002459</td>\n",
       "      <td>0.024842</td>\n",
       "      <td>0.024842</td>\n",
       "    </tr>\n",
       "    <tr>\n",
       "      <td>n_unique_tokens</td>\n",
       "      <td>-0.005318</td>\n",
       "      <td>-0.004737</td>\n",
       "      <td>1.000000</td>\n",
       "      <td>0.999572</td>\n",
       "      <td>0.999852</td>\n",
       "      <td>-0.004352</td>\n",
       "      <td>0.006620</td>\n",
       "      <td>0.018802</td>\n",
       "      <td>-0.000597</td>\n",
       "      <td>0.026407</td>\n",
       "      <td>...</td>\n",
       "      <td>-0.001657</td>\n",
       "      <td>-0.000487</td>\n",
       "      <td>0.001453</td>\n",
       "      <td>-0.004678</td>\n",
       "      <td>-0.002333</td>\n",
       "      <td>-0.009242</td>\n",
       "      <td>-0.004217</td>\n",
       "      <td>0.000806</td>\n",
       "      <td>0.004971</td>\n",
       "      <td>0.004971</td>\n",
       "    </tr>\n",
       "    <tr>\n",
       "      <td>n_non_stop_words</td>\n",
       "      <td>-0.004754</td>\n",
       "      <td>0.017512</td>\n",
       "      <td>0.999572</td>\n",
       "      <td>1.000000</td>\n",
       "      <td>0.999532</td>\n",
       "      <td>0.005521</td>\n",
       "      <td>0.013598</td>\n",
       "      <td>0.028486</td>\n",
       "      <td>-0.000899</td>\n",
       "      <td>0.031554</td>\n",
       "      <td>...</td>\n",
       "      <td>0.001245</td>\n",
       "      <td>0.002285</td>\n",
       "      <td>-0.001372</td>\n",
       "      <td>-0.005389</td>\n",
       "      <td>-0.001650</td>\n",
       "      <td>-0.008511</td>\n",
       "      <td>-0.004391</td>\n",
       "      <td>0.000443</td>\n",
       "      <td>0.005406</td>\n",
       "      <td>0.005406</td>\n",
       "    </tr>\n",
       "    <tr>\n",
       "      <td>n_non_stop_unique_tokens</td>\n",
       "      <td>-0.005420</td>\n",
       "      <td>0.000373</td>\n",
       "      <td>0.999852</td>\n",
       "      <td>0.999532</td>\n",
       "      <td>1.000000</td>\n",
       "      <td>-0.004983</td>\n",
       "      <td>0.007584</td>\n",
       "      <td>0.014230</td>\n",
       "      <td>-0.000963</td>\n",
       "      <td>0.034185</td>\n",
       "      <td>...</td>\n",
       "      <td>0.001709</td>\n",
       "      <td>0.004671</td>\n",
       "      <td>-0.001972</td>\n",
       "      <td>-0.005860</td>\n",
       "      <td>-0.002910</td>\n",
       "      <td>-0.008572</td>\n",
       "      <td>-0.005342</td>\n",
       "      <td>0.000114</td>\n",
       "      <td>0.003709</td>\n",
       "      <td>0.003709</td>\n",
       "    </tr>\n",
       "    <tr>\n",
       "      <td>num_hrefs</td>\n",
       "      <td>-0.053496</td>\n",
       "      <td>0.423065</td>\n",
       "      <td>-0.004352</td>\n",
       "      <td>0.005521</td>\n",
       "      <td>-0.004983</td>\n",
       "      <td>1.000000</td>\n",
       "      <td>0.396452</td>\n",
       "      <td>0.342633</td>\n",
       "      <td>0.114518</td>\n",
       "      <td>0.222588</td>\n",
       "      <td>...</td>\n",
       "      <td>0.059817</td>\n",
       "      <td>0.188236</td>\n",
       "      <td>-0.152146</td>\n",
       "      <td>0.043950</td>\n",
       "      <td>0.039041</td>\n",
       "      <td>0.009443</td>\n",
       "      <td>0.056525</td>\n",
       "      <td>0.045404</td>\n",
       "      <td>0.105105</td>\n",
       "      <td>0.105105</td>\n",
       "    </tr>\n",
       "    <tr>\n",
       "      <td>num_self_hrefs</td>\n",
       "      <td>-0.014856</td>\n",
       "      <td>0.304682</td>\n",
       "      <td>0.006620</td>\n",
       "      <td>0.013598</td>\n",
       "      <td>0.007584</td>\n",
       "      <td>0.396452</td>\n",
       "      <td>1.000000</td>\n",
       "      <td>0.238586</td>\n",
       "      <td>0.077458</td>\n",
       "      <td>0.126879</td>\n",
       "      <td>...</td>\n",
       "      <td>-0.010187</td>\n",
       "      <td>0.098062</td>\n",
       "      <td>-0.058222</td>\n",
       "      <td>-0.011239</td>\n",
       "      <td>0.026224</td>\n",
       "      <td>0.008961</td>\n",
       "      <td>-0.006709</td>\n",
       "      <td>-0.001900</td>\n",
       "      <td>0.029148</td>\n",
       "      <td>0.029148</td>\n",
       "    </tr>\n",
       "    <tr>\n",
       "      <td>num_imgs</td>\n",
       "      <td>-0.008858</td>\n",
       "      <td>0.342600</td>\n",
       "      <td>0.018802</td>\n",
       "      <td>0.028486</td>\n",
       "      <td>0.014230</td>\n",
       "      <td>0.342633</td>\n",
       "      <td>0.238586</td>\n",
       "      <td>1.000000</td>\n",
       "      <td>-0.067336</td>\n",
       "      <td>0.033924</td>\n",
       "      <td>...</td>\n",
       "      <td>0.040029</td>\n",
       "      <td>0.096446</td>\n",
       "      <td>-0.072500</td>\n",
       "      <td>0.056815</td>\n",
       "      <td>0.046310</td>\n",
       "      <td>-0.013759</td>\n",
       "      <td>0.063307</td>\n",
       "      <td>0.039388</td>\n",
       "      <td>0.091518</td>\n",
       "      <td>0.091518</td>\n",
       "    </tr>\n",
       "    <tr>\n",
       "      <td>num_videos</td>\n",
       "      <td>0.051460</td>\n",
       "      <td>0.103699</td>\n",
       "      <td>-0.000597</td>\n",
       "      <td>-0.000899</td>\n",
       "      <td>-0.000963</td>\n",
       "      <td>0.114518</td>\n",
       "      <td>0.077458</td>\n",
       "      <td>-0.067336</td>\n",
       "      <td>1.000000</td>\n",
       "      <td>-0.002940</td>\n",
       "      <td>...</td>\n",
       "      <td>0.074067</td>\n",
       "      <td>0.097440</td>\n",
       "      <td>-0.115976</td>\n",
       "      <td>0.061028</td>\n",
       "      <td>0.021980</td>\n",
       "      <td>-0.021982</td>\n",
       "      <td>0.055231</td>\n",
       "      <td>0.023936</td>\n",
       "      <td>0.032049</td>\n",
       "      <td>0.032049</td>\n",
       "    </tr>\n",
       "    <tr>\n",
       "      <td>average_token_length</td>\n",
       "      <td>-0.071403</td>\n",
       "      <td>0.167789</td>\n",
       "      <td>0.026407</td>\n",
       "      <td>0.031554</td>\n",
       "      <td>0.034185</td>\n",
       "      <td>0.222588</td>\n",
       "      <td>0.126879</td>\n",
       "      <td>0.033924</td>\n",
       "      <td>-0.002940</td>\n",
       "      <td>1.000000</td>\n",
       "      <td>...</td>\n",
       "      <td>0.322505</td>\n",
       "      <td>0.540117</td>\n",
       "      <td>-0.324529</td>\n",
       "      <td>-0.040406</td>\n",
       "      <td>-0.016718</td>\n",
       "      <td>0.026586</td>\n",
       "      <td>-0.036953</td>\n",
       "      <td>-0.022007</td>\n",
       "      <td>-0.045283</td>\n",
       "      <td>-0.045283</td>\n",
       "    </tr>\n",
       "    <tr>\n",
       "      <td>num_keywords</td>\n",
       "      <td>-0.006077</td>\n",
       "      <td>0.072845</td>\n",
       "      <td>-0.003679</td>\n",
       "      <td>-0.001439</td>\n",
       "      <td>-0.004440</td>\n",
       "      <td>0.125890</td>\n",
       "      <td>0.099578</td>\n",
       "      <td>0.088432</td>\n",
       "      <td>-0.022257</td>\n",
       "      <td>-0.016814</td>\n",
       "      <td>...</td>\n",
       "      <td>-0.070873</td>\n",
       "      <td>0.033700</td>\n",
       "      <td>0.021114</td>\n",
       "      <td>0.016014</td>\n",
       "      <td>0.031705</td>\n",
       "      <td>-0.010992</td>\n",
       "      <td>0.023533</td>\n",
       "      <td>0.021818</td>\n",
       "      <td>0.065948</td>\n",
       "      <td>0.065948</td>\n",
       "    </tr>\n",
       "    <tr>\n",
       "      <td>data_channel_is_lifestyle</td>\n",
       "      <td>-0.070815</td>\n",
       "      <td>0.037548</td>\n",
       "      <td>-0.001653</td>\n",
       "      <td>-0.000314</td>\n",
       "      <td>-0.000417</td>\n",
       "      <td>0.052906</td>\n",
       "      <td>-0.047668</td>\n",
       "      <td>0.010260</td>\n",
       "      <td>-0.044602</td>\n",
       "      <td>0.011161</td>\n",
       "      <td>...</td>\n",
       "      <td>-0.031871</td>\n",
       "      <td>0.065715</td>\n",
       "      <td>-0.006529</td>\n",
       "      <td>0.002736</td>\n",
       "      <td>0.033536</td>\n",
       "      <td>0.006861</td>\n",
       "      <td>0.017966</td>\n",
       "      <td>0.005831</td>\n",
       "      <td>0.033225</td>\n",
       "      <td>0.033225</td>\n",
       "    </tr>\n",
       "    <tr>\n",
       "      <td>data_channel_is_entertainment</td>\n",
       "      <td>0.132791</td>\n",
       "      <td>0.060200</td>\n",
       "      <td>0.011016</td>\n",
       "      <td>0.010903</td>\n",
       "      <td>0.010554</td>\n",
       "      <td>-0.007968</td>\n",
       "      <td>0.024594</td>\n",
       "      <td>0.099327</td>\n",
       "      <td>0.146816</td>\n",
       "      <td>-0.039363</td>\n",
       "      <td>...</td>\n",
       "      <td>0.050992</td>\n",
       "      <td>0.053275</td>\n",
       "      <td>-0.126114</td>\n",
       "      <td>0.047998</td>\n",
       "      <td>-0.011935</td>\n",
       "      <td>-0.051300</td>\n",
       "      <td>0.032396</td>\n",
       "      <td>-0.017006</td>\n",
       "      <td>-0.082504</td>\n",
       "      <td>-0.082504</td>\n",
       "    </tr>\n",
       "    <tr>\n",
       "      <td>data_channel_is_bus</td>\n",
       "      <td>-0.023902</td>\n",
       "      <td>-0.006105</td>\n",
       "      <td>-0.000264</td>\n",
       "      <td>-0.000012</td>\n",
       "      <td>0.001840</td>\n",
       "      <td>-0.058360</td>\n",
       "      <td>-0.055104</td>\n",
       "      <td>-0.142542</td>\n",
       "      <td>-0.064651</td>\n",
       "      <td>0.071671</td>\n",
       "      <td>...</td>\n",
       "      <td>-0.082161</td>\n",
       "      <td>-0.002238</td>\n",
       "      <td>0.056621</td>\n",
       "      <td>-0.044445</td>\n",
       "      <td>0.014296</td>\n",
       "      <td>-0.002488</td>\n",
       "      <td>-0.032490</td>\n",
       "      <td>-0.012376</td>\n",
       "      <td>-0.030599</td>\n",
       "      <td>-0.030599</td>\n",
       "    </tr>\n",
       "    <tr>\n",
       "      <td>data_channel_is_socmed</td>\n",
       "      <td>-0.090394</td>\n",
       "      <td>0.033424</td>\n",
       "      <td>-0.000945</td>\n",
       "      <td>-0.000078</td>\n",
       "      <td>-0.000526</td>\n",
       "      <td>0.050470</td>\n",
       "      <td>0.092126</td>\n",
       "      <td>-0.007626</td>\n",
       "      <td>-0.008038</td>\n",
       "      <td>0.024920</td>\n",
       "      <td>...</td>\n",
       "      <td>-0.060136</td>\n",
       "      <td>0.010062</td>\n",
       "      <td>0.004235</td>\n",
       "      <td>-0.016793</td>\n",
       "      <td>0.024436</td>\n",
       "      <td>0.011669</td>\n",
       "      <td>-0.003181</td>\n",
       "      <td>0.005021</td>\n",
       "      <td>0.081106</td>\n",
       "      <td>0.081106</td>\n",
       "    </tr>\n",
       "    <tr>\n",
       "      <td>data_channel_is_tech</td>\n",
       "      <td>-0.046716</td>\n",
       "      <td>0.025408</td>\n",
       "      <td>-0.002328</td>\n",
       "      <td>0.000061</td>\n",
       "      <td>-0.000921</td>\n",
       "      <td>-0.061734</td>\n",
       "      <td>0.166668</td>\n",
       "      <td>-0.006292</td>\n",
       "      <td>-0.093192</td>\n",
       "      <td>0.019138</td>\n",
       "      <td>...</td>\n",
       "      <td>-0.114082</td>\n",
       "      <td>0.014761</td>\n",
       "      <td>0.114834</td>\n",
       "      <td>-0.043031</td>\n",
       "      <td>0.026831</td>\n",
       "      <td>0.007188</td>\n",
       "      <td>-0.042207</td>\n",
       "      <td>-0.013253</td>\n",
       "      <td>0.054573</td>\n",
       "      <td>0.054573</td>\n",
       "    </tr>\n",
       "    <tr>\n",
       "      <td>data_channel_is_world</td>\n",
       "      <td>0.049223</td>\n",
       "      <td>0.055989</td>\n",
       "      <td>-0.005535</td>\n",
       "      <td>-0.002702</td>\n",
       "      <td>-0.003801</td>\n",
       "      <td>-0.031567</td>\n",
       "      <td>-0.118837</td>\n",
       "      <td>-0.106480</td>\n",
       "      <td>-0.088580</td>\n",
       "      <td>0.079918</td>\n",
       "      <td>...</td>\n",
       "      <td>0.192848</td>\n",
       "      <td>-0.145500</td>\n",
       "      <td>0.029447</td>\n",
       "      <td>-0.062115</td>\n",
       "      <td>-0.080964</td>\n",
       "      <td>0.053145</td>\n",
       "      <td>-0.065068</td>\n",
       "      <td>-0.049497</td>\n",
       "      <td>-0.151651</td>\n",
       "      <td>-0.151651</td>\n",
       "    </tr>\n",
       "    <tr>\n",
       "      <td>self_reference_avg_sharess</td>\n",
       "      <td>0.000661</td>\n",
       "      <td>-0.013809</td>\n",
       "      <td>0.001992</td>\n",
       "      <td>0.001614</td>\n",
       "      <td>0.002009</td>\n",
       "      <td>0.025239</td>\n",
       "      <td>0.022157</td>\n",
       "      <td>0.020898</td>\n",
       "      <td>0.034494</td>\n",
       "      <td>0.040468</td>\n",
       "      <td>...</td>\n",
       "      <td>0.019033</td>\n",
       "      <td>0.043946</td>\n",
       "      <td>-0.054093</td>\n",
       "      <td>0.010175</td>\n",
       "      <td>0.000930</td>\n",
       "      <td>-0.001442</td>\n",
       "      <td>0.006897</td>\n",
       "      <td>0.057789</td>\n",
       "      <td>0.087217</td>\n",
       "      <td>0.087217</td>\n",
       "    </tr>\n",
       "    <tr>\n",
       "      <td>weekday_is_monday</td>\n",
       "      <td>0.004274</td>\n",
       "      <td>-0.002484</td>\n",
       "      <td>-0.002142</td>\n",
       "      <td>-0.002147</td>\n",
       "      <td>-0.002042</td>\n",
       "      <td>-0.005759</td>\n",
       "      <td>0.012129</td>\n",
       "      <td>-0.005249</td>\n",
       "      <td>0.009453</td>\n",
       "      <td>-0.000563</td>\n",
       "      <td>...</td>\n",
       "      <td>0.008066</td>\n",
       "      <td>0.002689</td>\n",
       "      <td>0.000464</td>\n",
       "      <td>-0.009642</td>\n",
       "      <td>-0.010047</td>\n",
       "      <td>-0.002393</td>\n",
       "      <td>-0.010282</td>\n",
       "      <td>0.009726</td>\n",
       "      <td>-0.008287</td>\n",
       "      <td>-0.008287</td>\n",
       "    </tr>\n",
       "    <tr>\n",
       "      <td>weekday_is_tuesday</td>\n",
       "      <td>0.009322</td>\n",
       "      <td>-0.004027</td>\n",
       "      <td>0.010538</td>\n",
       "      <td>0.010501</td>\n",
       "      <td>0.010510</td>\n",
       "      <td>-0.010691</td>\n",
       "      <td>0.001210</td>\n",
       "      <td>-0.003767</td>\n",
       "      <td>0.006740</td>\n",
       "      <td>-0.003225</td>\n",
       "      <td>...</td>\n",
       "      <td>-0.013357</td>\n",
       "      <td>-0.013772</td>\n",
       "      <td>0.011395</td>\n",
       "      <td>-0.003977</td>\n",
       "      <td>0.003275</td>\n",
       "      <td>0.011584</td>\n",
       "      <td>-0.002879</td>\n",
       "      <td>-0.007941</td>\n",
       "      <td>-0.031073</td>\n",
       "      <td>-0.031073</td>\n",
       "    </tr>\n",
       "    <tr>\n",
       "      <td>weekday_is_wednesday</td>\n",
       "      <td>0.008935</td>\n",
       "      <td>-0.016891</td>\n",
       "      <td>-0.002224</td>\n",
       "      <td>-0.002517</td>\n",
       "      <td>-0.002070</td>\n",
       "      <td>-0.032437</td>\n",
       "      <td>-0.020353</td>\n",
       "      <td>-0.024674</td>\n",
       "      <td>-0.001397</td>\n",
       "      <td>-0.004062</td>\n",
       "      <td>...</td>\n",
       "      <td>-0.010927</td>\n",
       "      <td>-0.007413</td>\n",
       "      <td>0.009808</td>\n",
       "      <td>-0.010825</td>\n",
       "      <td>-0.013845</td>\n",
       "      <td>0.008071</td>\n",
       "      <td>-0.011989</td>\n",
       "      <td>-0.003801</td>\n",
       "      <td>-0.036590</td>\n",
       "      <td>-0.036590</td>\n",
       "    </tr>\n",
       "    <tr>\n",
       "      <td>weekday_is_thursday</td>\n",
       "      <td>-0.015472</td>\n",
       "      <td>-0.007395</td>\n",
       "      <td>-0.002248</td>\n",
       "      <td>-0.002360</td>\n",
       "      <td>-0.002283</td>\n",
       "      <td>-0.012776</td>\n",
       "      <td>-0.014457</td>\n",
       "      <td>-0.005824</td>\n",
       "      <td>-0.003663</td>\n",
       "      <td>0.002535</td>\n",
       "      <td>...</td>\n",
       "      <td>-0.000523</td>\n",
       "      <td>-0.007547</td>\n",
       "      <td>0.008962</td>\n",
       "      <td>0.003116</td>\n",
       "      <td>-0.002120</td>\n",
       "      <td>0.004394</td>\n",
       "      <td>-0.004450</td>\n",
       "      <td>-0.008833</td>\n",
       "      <td>-0.028171</td>\n",
       "      <td>-0.028171</td>\n",
       "    </tr>\n",
       "    <tr>\n",
       "      <td>weekday_is_friday</td>\n",
       "      <td>-0.002015</td>\n",
       "      <td>-0.015949</td>\n",
       "      <td>-0.001398</td>\n",
       "      <td>-0.001963</td>\n",
       "      <td>-0.001301</td>\n",
       "      <td>-0.001306</td>\n",
       "      <td>-0.021631</td>\n",
       "      <td>-0.007537</td>\n",
       "      <td>0.003473</td>\n",
       "      <td>0.002644</td>\n",
       "      <td>...</td>\n",
       "      <td>0.020494</td>\n",
       "      <td>0.002151</td>\n",
       "      <td>-0.009267</td>\n",
       "      <td>0.000266</td>\n",
       "      <td>-0.006281</td>\n",
       "      <td>0.009530</td>\n",
       "      <td>-0.002683</td>\n",
       "      <td>-0.003884</td>\n",
       "      <td>0.005125</td>\n",
       "      <td>0.005125</td>\n",
       "    </tr>\n",
       "    <tr>\n",
       "      <td>weekday_is_saturday</td>\n",
       "      <td>-0.015013</td>\n",
       "      <td>0.034538</td>\n",
       "      <td>-0.002563</td>\n",
       "      <td>-0.001508</td>\n",
       "      <td>-0.002623</td>\n",
       "      <td>0.054661</td>\n",
       "      <td>0.044341</td>\n",
       "      <td>0.028970</td>\n",
       "      <td>-0.007135</td>\n",
       "      <td>-0.004404</td>\n",
       "      <td>...</td>\n",
       "      <td>-0.005700</td>\n",
       "      <td>0.012488</td>\n",
       "      <td>-0.015478</td>\n",
       "      <td>0.007701</td>\n",
       "      <td>0.025164</td>\n",
       "      <td>-0.019946</td>\n",
       "      <td>0.015463</td>\n",
       "      <td>0.015082</td>\n",
       "      <td>0.079147</td>\n",
       "      <td>0.079147</td>\n",
       "    </tr>\n",
       "    <tr>\n",
       "      <td>weekday_is_sunday</td>\n",
       "      <td>0.006289</td>\n",
       "      <td>0.036394</td>\n",
       "      <td>-0.001803</td>\n",
       "      <td>-0.001338</td>\n",
       "      <td>-0.002167</td>\n",
       "      <td>0.044220</td>\n",
       "      <td>0.021455</td>\n",
       "      <td>0.043306</td>\n",
       "      <td>-0.014579</td>\n",
       "      <td>0.008697</td>\n",
       "      <td>...</td>\n",
       "      <td>0.003298</td>\n",
       "      <td>0.025277</td>\n",
       "      <td>-0.019432</td>\n",
       "      <td>0.024554</td>\n",
       "      <td>0.019118</td>\n",
       "      <td>-0.027632</td>\n",
       "      <td>0.033855</td>\n",
       "      <td>0.008230</td>\n",
       "      <td>0.076975</td>\n",
       "      <td>0.076975</td>\n",
       "    </tr>\n",
       "    <tr>\n",
       "      <td>is_weekend</td>\n",
       "      <td>-0.005996</td>\n",
       "      <td>0.052024</td>\n",
       "      <td>-0.003186</td>\n",
       "      <td>-0.002082</td>\n",
       "      <td>-0.003502</td>\n",
       "      <td>0.072279</td>\n",
       "      <td>0.047798</td>\n",
       "      <td>0.053242</td>\n",
       "      <td>-0.016054</td>\n",
       "      <td>0.003390</td>\n",
       "      <td>...</td>\n",
       "      <td>-0.001592</td>\n",
       "      <td>0.027918</td>\n",
       "      <td>-0.025661</td>\n",
       "      <td>0.023956</td>\n",
       "      <td>0.032343</td>\n",
       "      <td>-0.035015</td>\n",
       "      <td>0.036490</td>\n",
       "      <td>0.016958</td>\n",
       "      <td>0.114387</td>\n",
       "      <td>0.114387</td>\n",
       "    </tr>\n",
       "    <tr>\n",
       "      <td>LDA_00</td>\n",
       "      <td>-0.070038</td>\n",
       "      <td>0.026218</td>\n",
       "      <td>-0.002213</td>\n",
       "      <td>-0.001031</td>\n",
       "      <td>0.000342</td>\n",
       "      <td>-0.020100</td>\n",
       "      <td>-0.021692</td>\n",
       "      <td>-0.150439</td>\n",
       "      <td>-0.070489</td>\n",
       "      <td>0.078901</td>\n",
       "      <td>...</td>\n",
       "      <td>-0.113682</td>\n",
       "      <td>0.006287</td>\n",
       "      <td>0.041026</td>\n",
       "      <td>-0.048812</td>\n",
       "      <td>0.027982</td>\n",
       "      <td>0.001337</td>\n",
       "      <td>-0.028023</td>\n",
       "      <td>-0.003793</td>\n",
       "      <td>0.030588</td>\n",
       "      <td>0.030588</td>\n",
       "    </tr>\n",
       "    <tr>\n",
       "      <td>LDA_01</td>\n",
       "      <td>0.063568</td>\n",
       "      <td>-0.009724</td>\n",
       "      <td>-0.000827</td>\n",
       "      <td>-0.002869</td>\n",
       "      <td>-0.000965</td>\n",
       "      <td>-0.053803</td>\n",
       "      <td>-0.004631</td>\n",
       "      <td>0.050080</td>\n",
       "      <td>0.011875</td>\n",
       "      <td>-0.022011</td>\n",
       "      <td>...</td>\n",
       "      <td>0.029148</td>\n",
       "      <td>0.045091</td>\n",
       "      <td>-0.102900</td>\n",
       "      <td>0.054447</td>\n",
       "      <td>-0.006426</td>\n",
       "      <td>-0.071821</td>\n",
       "      <td>0.034438</td>\n",
       "      <td>-0.010183</td>\n",
       "      <td>-0.052993</td>\n",
       "      <td>-0.052993</td>\n",
       "    </tr>\n",
       "    <tr>\n",
       "      <td>LDA_02</td>\n",
       "      <td>0.038365</td>\n",
       "      <td>0.087266</td>\n",
       "      <td>-0.006855</td>\n",
       "      <td>-0.003286</td>\n",
       "      <td>-0.004965</td>\n",
       "      <td>-0.012531</td>\n",
       "      <td>-0.085045</td>\n",
       "      <td>-0.094515</td>\n",
       "      <td>-0.092962</td>\n",
       "      <td>0.099121</td>\n",
       "      <td>...</td>\n",
       "      <td>0.189376</td>\n",
       "      <td>-0.138263</td>\n",
       "      <td>0.038317</td>\n",
       "      <td>-0.076511</td>\n",
       "      <td>-0.074275</td>\n",
       "      <td>0.059309</td>\n",
       "      <td>-0.081729</td>\n",
       "      <td>-0.059163</td>\n",
       "      <td>-0.165034</td>\n",
       "      <td>-0.165034</td>\n",
       "    </tr>\n",
       "    <tr>\n",
       "      <td>LDA_03</td>\n",
       "      <td>0.042208</td>\n",
       "      <td>-0.140141</td>\n",
       "      <td>-0.003689</td>\n",
       "      <td>-0.009761</td>\n",
       "      <td>-0.009781</td>\n",
       "      <td>0.123786</td>\n",
       "      <td>-0.028775</td>\n",
       "      <td>0.208924</td>\n",
       "      <td>0.267673</td>\n",
       "      <td>-0.181714</td>\n",
       "      <td>...</td>\n",
       "      <td>0.005984</td>\n",
       "      <td>0.071775</td>\n",
       "      <td>-0.114381</td>\n",
       "      <td>0.129062</td>\n",
       "      <td>0.027687</td>\n",
       "      <td>-0.013784</td>\n",
       "      <td>0.122120</td>\n",
       "      <td>0.083771</td>\n",
       "      <td>0.125962</td>\n",
       "      <td>0.125962</td>\n",
       "    </tr>\n",
       "    <tr>\n",
       "      <td>LDA_04</td>\n",
       "      <td>-0.065063</td>\n",
       "      <td>0.041265</td>\n",
       "      <td>-0.004260</td>\n",
       "      <td>-0.001072</td>\n",
       "      <td>-0.002097</td>\n",
       "      <td>-0.054977</td>\n",
       "      <td>0.135441</td>\n",
       "      <td>-0.022780</td>\n",
       "      <td>-0.127429</td>\n",
       "      <td>0.033738</td>\n",
       "      <td>...</td>\n",
       "      <td>-0.109480</td>\n",
       "      <td>0.021952</td>\n",
       "      <td>0.120066</td>\n",
       "      <td>-0.053996</td>\n",
       "      <td>0.023665</td>\n",
       "      <td>0.009713</td>\n",
       "      <td>-0.045538</td>\n",
       "      <td>-0.016622</td>\n",
       "      <td>0.044772</td>\n",
       "      <td>0.044772</td>\n",
       "    </tr>\n",
       "    <tr>\n",
       "      <td>global_subjectivity</td>\n",
       "      <td>-0.056804</td>\n",
       "      <td>0.127879</td>\n",
       "      <td>-0.000180</td>\n",
       "      <td>0.002565</td>\n",
       "      <td>0.005498</td>\n",
       "      <td>0.203464</td>\n",
       "      <td>0.115285</td>\n",
       "      <td>0.080468</td>\n",
       "      <td>0.082052</td>\n",
       "      <td>0.597629</td>\n",
       "      <td>...</td>\n",
       "      <td>0.132940</td>\n",
       "      <td>0.631749</td>\n",
       "      <td>-0.443187</td>\n",
       "      <td>0.114123</td>\n",
       "      <td>0.034075</td>\n",
       "      <td>-0.003758</td>\n",
       "      <td>0.091067</td>\n",
       "      <td>0.031604</td>\n",
       "      <td>0.075145</td>\n",
       "      <td>0.075145</td>\n",
       "    </tr>\n",
       "    <tr>\n",
       "      <td>global_sentiment_polarity</td>\n",
       "      <td>-0.072226</td>\n",
       "      <td>0.021937</td>\n",
       "      <td>0.000523</td>\n",
       "      <td>0.000831</td>\n",
       "      <td>0.002043</td>\n",
       "      <td>0.086859</td>\n",
       "      <td>0.090070</td>\n",
       "      <td>0.021082</td>\n",
       "      <td>-0.028434</td>\n",
       "      <td>0.178537</td>\n",
       "      <td>...</td>\n",
       "      <td>-0.650717</td>\n",
       "      <td>0.496704</td>\n",
       "      <td>0.229764</td>\n",
       "      <td>0.023620</td>\n",
       "      <td>0.238266</td>\n",
       "      <td>-0.028717</td>\n",
       "      <td>0.071898</td>\n",
       "      <td>0.004163</td>\n",
       "      <td>0.048922</td>\n",
       "      <td>0.048922</td>\n",
       "    </tr>\n",
       "    <tr>\n",
       "      <td>global_rate_positive_words</td>\n",
       "      <td>-0.064951</td>\n",
       "      <td>0.133979</td>\n",
       "      <td>0.000014</td>\n",
       "      <td>0.001535</td>\n",
       "      <td>0.005002</td>\n",
       "      <td>0.056428</td>\n",
       "      <td>0.121140</td>\n",
       "      <td>-0.041582</td>\n",
       "      <td>0.072290</td>\n",
       "      <td>0.322929</td>\n",
       "      <td>...</td>\n",
       "      <td>-0.330125</td>\n",
       "      <td>0.331326</td>\n",
       "      <td>-0.131794</td>\n",
       "      <td>0.109938</td>\n",
       "      <td>0.136469</td>\n",
       "      <td>-0.137288</td>\n",
       "      <td>0.103391</td>\n",
       "      <td>0.000543</td>\n",
       "      <td>0.040968</td>\n",
       "      <td>0.040968</td>\n",
       "    </tr>\n",
       "    <tr>\n",
       "      <td>global_rate_negative_words</td>\n",
       "      <td>0.015530</td>\n",
       "      <td>0.125013</td>\n",
       "      <td>-0.000877</td>\n",
       "      <td>0.001036</td>\n",
       "      <td>0.002590</td>\n",
       "      <td>0.032515</td>\n",
       "      <td>0.011433</td>\n",
       "      <td>0.024772</td>\n",
       "      <td>0.179167</td>\n",
       "      <td>0.228655</td>\n",
       "      <td>...</td>\n",
       "      <td>0.779556</td>\n",
       "      <td>0.192985</td>\n",
       "      <td>-0.352242</td>\n",
       "      <td>0.090229</td>\n",
       "      <td>-0.138152</td>\n",
       "      <td>-0.055071</td>\n",
       "      <td>0.055872</td>\n",
       "      <td>0.006615</td>\n",
       "      <td>-0.006037</td>\n",
       "      <td>-0.006037</td>\n",
       "    </tr>\n",
       "    <tr>\n",
       "      <td>rate_positive_words</td>\n",
       "      <td>-0.066589</td>\n",
       "      <td>0.098960</td>\n",
       "      <td>-0.000667</td>\n",
       "      <td>0.002421</td>\n",
       "      <td>0.005258</td>\n",
       "      <td>0.101663</td>\n",
       "      <td>0.142088</td>\n",
       "      <td>-0.021734</td>\n",
       "      <td>-0.043459</td>\n",
       "      <td>0.578894</td>\n",
       "      <td>...</td>\n",
       "      <td>-0.530962</td>\n",
       "      <td>0.412733</td>\n",
       "      <td>-0.034753</td>\n",
       "      <td>-0.024194</td>\n",
       "      <td>0.144467</td>\n",
       "      <td>-0.017876</td>\n",
       "      <td>-0.003356</td>\n",
       "      <td>-0.013241</td>\n",
       "      <td>0.009027</td>\n",
       "      <td>0.009027</td>\n",
       "    </tr>\n",
       "    <tr>\n",
       "      <td>rate_negative_words</td>\n",
       "      <td>0.034186</td>\n",
       "      <td>0.101053</td>\n",
       "      <td>-0.001657</td>\n",
       "      <td>0.001245</td>\n",
       "      <td>0.001709</td>\n",
       "      <td>0.059817</td>\n",
       "      <td>-0.010187</td>\n",
       "      <td>0.040029</td>\n",
       "      <td>0.074067</td>\n",
       "      <td>0.322505</td>\n",
       "      <td>...</td>\n",
       "      <td>1.000000</td>\n",
       "      <td>0.145689</td>\n",
       "      <td>-0.346947</td>\n",
       "      <td>-0.003934</td>\n",
       "      <td>-0.185787</td>\n",
       "      <td>0.040898</td>\n",
       "      <td>-0.026495</td>\n",
       "      <td>-0.005183</td>\n",
       "      <td>-0.048171</td>\n",
       "      <td>-0.048171</td>\n",
       "    </tr>\n",
       "    <tr>\n",
       "      <td>avg_positive_polarity</td>\n",
       "      <td>-0.049619</td>\n",
       "      <td>0.135123</td>\n",
       "      <td>-0.000487</td>\n",
       "      <td>0.002285</td>\n",
       "      <td>0.004671</td>\n",
       "      <td>0.188236</td>\n",
       "      <td>0.098062</td>\n",
       "      <td>0.096446</td>\n",
       "      <td>0.097440</td>\n",
       "      <td>0.540117</td>\n",
       "      <td>...</td>\n",
       "      <td>0.145689</td>\n",
       "      <td>1.000000</td>\n",
       "      <td>-0.275705</td>\n",
       "      <td>0.052364</td>\n",
       "      <td>0.079529</td>\n",
       "      <td>0.015141</td>\n",
       "      <td>0.101191</td>\n",
       "      <td>0.012142</td>\n",
       "      <td>0.034453</td>\n",
       "      <td>0.034453</td>\n",
       "    </tr>\n",
       "    <tr>\n",
       "      <td>avg_negative_polarity</td>\n",
       "      <td>-0.017096</td>\n",
       "      <td>-0.130375</td>\n",
       "      <td>0.001453</td>\n",
       "      <td>-0.001372</td>\n",
       "      <td>-0.001972</td>\n",
       "      <td>-0.152146</td>\n",
       "      <td>-0.058222</td>\n",
       "      <td>-0.072500</td>\n",
       "      <td>-0.115976</td>\n",
       "      <td>-0.324529</td>\n",
       "      <td>...</td>\n",
       "      <td>-0.346947</td>\n",
       "      <td>-0.275705</td>\n",
       "      <td>1.000000</td>\n",
       "      <td>-0.075814</td>\n",
       "      <td>0.085878</td>\n",
       "      <td>-0.006573</td>\n",
       "      <td>-0.075594</td>\n",
       "      <td>-0.032029</td>\n",
       "      <td>-0.034310</td>\n",
       "      <td>-0.034310</td>\n",
       "    </tr>\n",
       "    <tr>\n",
       "      <td>title_subjectivity</td>\n",
       "      <td>0.077245</td>\n",
       "      <td>0.004484</td>\n",
       "      <td>-0.004678</td>\n",
       "      <td>-0.005389</td>\n",
       "      <td>-0.005860</td>\n",
       "      <td>0.043950</td>\n",
       "      <td>-0.011239</td>\n",
       "      <td>0.056815</td>\n",
       "      <td>0.061028</td>\n",
       "      <td>-0.040406</td>\n",
       "      <td>...</td>\n",
       "      <td>-0.003934</td>\n",
       "      <td>0.052364</td>\n",
       "      <td>-0.075814</td>\n",
       "      <td>1.000000</td>\n",
       "      <td>0.232130</td>\n",
       "      <td>-0.487172</td>\n",
       "      <td>0.714528</td>\n",
       "      <td>0.021967</td>\n",
       "      <td>0.052714</td>\n",
       "      <td>0.052714</td>\n",
       "    </tr>\n",
       "    <tr>\n",
       "      <td>title_sentiment_polarity</td>\n",
       "      <td>0.000240</td>\n",
       "      <td>0.023358</td>\n",
       "      <td>-0.002333</td>\n",
       "      <td>-0.001650</td>\n",
       "      <td>-0.002910</td>\n",
       "      <td>0.039041</td>\n",
       "      <td>0.026224</td>\n",
       "      <td>0.046310</td>\n",
       "      <td>0.021980</td>\n",
       "      <td>-0.016718</td>\n",
       "      <td>...</td>\n",
       "      <td>-0.185787</td>\n",
       "      <td>0.079529</td>\n",
       "      <td>0.085878</td>\n",
       "      <td>0.232130</td>\n",
       "      <td>1.000000</td>\n",
       "      <td>-0.240112</td>\n",
       "      <td>0.410205</td>\n",
       "      <td>0.012772</td>\n",
       "      <td>0.051035</td>\n",
       "      <td>0.051035</td>\n",
       "    </tr>\n",
       "    <tr>\n",
       "      <td>abs_title_subjectivity</td>\n",
       "      <td>-0.146954</td>\n",
       "      <td>0.007136</td>\n",
       "      <td>-0.009242</td>\n",
       "      <td>-0.008511</td>\n",
       "      <td>-0.008572</td>\n",
       "      <td>0.009443</td>\n",
       "      <td>0.008961</td>\n",
       "      <td>-0.013759</td>\n",
       "      <td>-0.021982</td>\n",
       "      <td>0.026586</td>\n",
       "      <td>...</td>\n",
       "      <td>0.040898</td>\n",
       "      <td>0.015141</td>\n",
       "      <td>-0.006573</td>\n",
       "      <td>-0.487172</td>\n",
       "      <td>-0.240112</td>\n",
       "      <td>1.000000</td>\n",
       "      <td>-0.400272</td>\n",
       "      <td>0.001481</td>\n",
       "      <td>0.000739</td>\n",
       "      <td>0.000739</td>\n",
       "    </tr>\n",
       "    <tr>\n",
       "      <td>abs_title_sentiment_polarity</td>\n",
       "      <td>0.040550</td>\n",
       "      <td>0.013439</td>\n",
       "      <td>-0.004217</td>\n",
       "      <td>-0.004391</td>\n",
       "      <td>-0.005342</td>\n",
       "      <td>0.056525</td>\n",
       "      <td>-0.006709</td>\n",
       "      <td>0.063307</td>\n",
       "      <td>0.055231</td>\n",
       "      <td>-0.036953</td>\n",
       "      <td>...</td>\n",
       "      <td>-0.026495</td>\n",
       "      <td>0.101191</td>\n",
       "      <td>-0.075594</td>\n",
       "      <td>0.714528</td>\n",
       "      <td>0.410205</td>\n",
       "      <td>-0.400272</td>\n",
       "      <td>1.000000</td>\n",
       "      <td>0.027135</td>\n",
       "      <td>0.059191</td>\n",
       "      <td>0.059191</td>\n",
       "    </tr>\n",
       "    <tr>\n",
       "      <td>shares</td>\n",
       "      <td>0.008783</td>\n",
       "      <td>0.002459</td>\n",
       "      <td>0.000806</td>\n",
       "      <td>0.000443</td>\n",
       "      <td>0.000114</td>\n",
       "      <td>0.045404</td>\n",
       "      <td>-0.001900</td>\n",
       "      <td>0.039388</td>\n",
       "      <td>0.023936</td>\n",
       "      <td>-0.022007</td>\n",
       "      <td>...</td>\n",
       "      <td>-0.005183</td>\n",
       "      <td>0.012142</td>\n",
       "      <td>-0.032029</td>\n",
       "      <td>0.021967</td>\n",
       "      <td>0.012772</td>\n",
       "      <td>0.001481</td>\n",
       "      <td>0.027135</td>\n",
       "      <td>1.000000</td>\n",
       "      <td>0.509906</td>\n",
       "      <td>0.509906</td>\n",
       "    </tr>\n",
       "    <tr>\n",
       "      <td>shares_log</td>\n",
       "      <td>-0.019030</td>\n",
       "      <td>0.024842</td>\n",
       "      <td>0.004971</td>\n",
       "      <td>0.005406</td>\n",
       "      <td>0.003709</td>\n",
       "      <td>0.105105</td>\n",
       "      <td>0.029148</td>\n",
       "      <td>0.091518</td>\n",
       "      <td>0.032049</td>\n",
       "      <td>-0.045283</td>\n",
       "      <td>...</td>\n",
       "      <td>-0.048171</td>\n",
       "      <td>0.034453</td>\n",
       "      <td>-0.034310</td>\n",
       "      <td>0.052714</td>\n",
       "      <td>0.051035</td>\n",
       "      <td>0.000739</td>\n",
       "      <td>0.059191</td>\n",
       "      <td>0.509906</td>\n",
       "      <td>1.000000</td>\n",
       "      <td>1.000000</td>\n",
       "    </tr>\n",
       "    <tr>\n",
       "      <td>shares_sqrt</td>\n",
       "      <td>-0.019030</td>\n",
       "      <td>0.024842</td>\n",
       "      <td>0.004971</td>\n",
       "      <td>0.005406</td>\n",
       "      <td>0.003709</td>\n",
       "      <td>0.105105</td>\n",
       "      <td>0.029148</td>\n",
       "      <td>0.091518</td>\n",
       "      <td>0.032049</td>\n",
       "      <td>-0.045283</td>\n",
       "      <td>...</td>\n",
       "      <td>-0.048171</td>\n",
       "      <td>0.034453</td>\n",
       "      <td>-0.034310</td>\n",
       "      <td>0.052714</td>\n",
       "      <td>0.051035</td>\n",
       "      <td>0.000739</td>\n",
       "      <td>0.059191</td>\n",
       "      <td>0.509906</td>\n",
       "      <td>1.000000</td>\n",
       "      <td>1.000000</td>\n",
       "    </tr>\n",
       "  </tbody>\n",
       "</table>\n",
       "<p>46 rows × 46 columns</p>\n",
       "</div>"
      ],
      "text/plain": [
       "                               n_tokens_title  n_tokens_content  \\\n",
       "n_tokens_title                       1.000000          0.018160   \n",
       "n_tokens_content                     0.018160          1.000000   \n",
       "n_unique_tokens                     -0.005318         -0.004737   \n",
       "n_non_stop_words                    -0.004754          0.017512   \n",
       "n_non_stop_unique_tokens            -0.005420          0.000373   \n",
       "num_hrefs                           -0.053496          0.423065   \n",
       "num_self_hrefs                      -0.014856          0.304682   \n",
       "num_imgs                            -0.008858          0.342600   \n",
       "num_videos                           0.051460          0.103699   \n",
       "average_token_length                -0.071403          0.167789   \n",
       "num_keywords                        -0.006077          0.072845   \n",
       "data_channel_is_lifestyle           -0.070815          0.037548   \n",
       "data_channel_is_entertainment        0.132791          0.060200   \n",
       "data_channel_is_bus                 -0.023902         -0.006105   \n",
       "data_channel_is_socmed              -0.090394          0.033424   \n",
       "data_channel_is_tech                -0.046716          0.025408   \n",
       "data_channel_is_world                0.049223          0.055989   \n",
       "self_reference_avg_sharess           0.000661         -0.013809   \n",
       "weekday_is_monday                    0.004274         -0.002484   \n",
       "weekday_is_tuesday                   0.009322         -0.004027   \n",
       "weekday_is_wednesday                 0.008935         -0.016891   \n",
       "weekday_is_thursday                 -0.015472         -0.007395   \n",
       "weekday_is_friday                   -0.002015         -0.015949   \n",
       "weekday_is_saturday                 -0.015013          0.034538   \n",
       "weekday_is_sunday                    0.006289          0.036394   \n",
       "is_weekend                          -0.005996          0.052024   \n",
       "LDA_00                              -0.070038          0.026218   \n",
       "LDA_01                               0.063568         -0.009724   \n",
       "LDA_02                               0.038365          0.087266   \n",
       "LDA_03                               0.042208         -0.140141   \n",
       "LDA_04                              -0.065063          0.041265   \n",
       "global_subjectivity                 -0.056804          0.127879   \n",
       "global_sentiment_polarity           -0.072226          0.021937   \n",
       "global_rate_positive_words          -0.064951          0.133979   \n",
       "global_rate_negative_words           0.015530          0.125013   \n",
       "rate_positive_words                 -0.066589          0.098960   \n",
       "rate_negative_words                  0.034186          0.101053   \n",
       "avg_positive_polarity               -0.049619          0.135123   \n",
       "avg_negative_polarity               -0.017096         -0.130375   \n",
       "title_subjectivity                   0.077245          0.004484   \n",
       "title_sentiment_polarity             0.000240          0.023358   \n",
       "abs_title_subjectivity              -0.146954          0.007136   \n",
       "abs_title_sentiment_polarity         0.040550          0.013439   \n",
       "shares                               0.008783          0.002459   \n",
       "shares_log                          -0.019030          0.024842   \n",
       "shares_sqrt                         -0.019030          0.024842   \n",
       "\n",
       "                               n_unique_tokens  n_non_stop_words  \\\n",
       "n_tokens_title                       -0.005318         -0.004754   \n",
       "n_tokens_content                     -0.004737          0.017512   \n",
       "n_unique_tokens                       1.000000          0.999572   \n",
       "n_non_stop_words                      0.999572          1.000000   \n",
       "n_non_stop_unique_tokens              0.999852          0.999532   \n",
       "num_hrefs                            -0.004352          0.005521   \n",
       "num_self_hrefs                        0.006620          0.013598   \n",
       "num_imgs                              0.018802          0.028486   \n",
       "num_videos                           -0.000597         -0.000899   \n",
       "average_token_length                  0.026407          0.031554   \n",
       "num_keywords                         -0.003679         -0.001439   \n",
       "data_channel_is_lifestyle            -0.001653         -0.000314   \n",
       "data_channel_is_entertainment         0.011016          0.010903   \n",
       "data_channel_is_bus                  -0.000264         -0.000012   \n",
       "data_channel_is_socmed               -0.000945         -0.000078   \n",
       "data_channel_is_tech                 -0.002328          0.000061   \n",
       "data_channel_is_world                -0.005535         -0.002702   \n",
       "self_reference_avg_sharess            0.001992          0.001614   \n",
       "weekday_is_monday                    -0.002142         -0.002147   \n",
       "weekday_is_tuesday                    0.010538          0.010501   \n",
       "weekday_is_wednesday                 -0.002224         -0.002517   \n",
       "weekday_is_thursday                  -0.002248         -0.002360   \n",
       "weekday_is_friday                    -0.001398         -0.001963   \n",
       "weekday_is_saturday                  -0.002563         -0.001508   \n",
       "weekday_is_sunday                    -0.001803         -0.001338   \n",
       "is_weekend                           -0.003186         -0.002082   \n",
       "LDA_00                               -0.002213         -0.001031   \n",
       "LDA_01                               -0.000827         -0.002869   \n",
       "LDA_02                               -0.006855         -0.003286   \n",
       "LDA_03                               -0.003689         -0.009761   \n",
       "LDA_04                               -0.004260         -0.001072   \n",
       "global_subjectivity                  -0.000180          0.002565   \n",
       "global_sentiment_polarity             0.000523          0.000831   \n",
       "global_rate_positive_words            0.000014          0.001535   \n",
       "global_rate_negative_words           -0.000877          0.001036   \n",
       "rate_positive_words                  -0.000667          0.002421   \n",
       "rate_negative_words                  -0.001657          0.001245   \n",
       "avg_positive_polarity                -0.000487          0.002285   \n",
       "avg_negative_polarity                 0.001453         -0.001372   \n",
       "title_subjectivity                   -0.004678         -0.005389   \n",
       "title_sentiment_polarity             -0.002333         -0.001650   \n",
       "abs_title_subjectivity               -0.009242         -0.008511   \n",
       "abs_title_sentiment_polarity         -0.004217         -0.004391   \n",
       "shares                                0.000806          0.000443   \n",
       "shares_log                            0.004971          0.005406   \n",
       "shares_sqrt                           0.004971          0.005406   \n",
       "\n",
       "                               n_non_stop_unique_tokens  num_hrefs  \\\n",
       "n_tokens_title                                -0.005420  -0.053496   \n",
       "n_tokens_content                               0.000373   0.423065   \n",
       "n_unique_tokens                                0.999852  -0.004352   \n",
       "n_non_stop_words                               0.999532   0.005521   \n",
       "n_non_stop_unique_tokens                       1.000000  -0.004983   \n",
       "num_hrefs                                     -0.004983   1.000000   \n",
       "num_self_hrefs                                 0.007584   0.396452   \n",
       "num_imgs                                       0.014230   0.342633   \n",
       "num_videos                                    -0.000963   0.114518   \n",
       "average_token_length                           0.034185   0.222588   \n",
       "num_keywords                                  -0.004440   0.125890   \n",
       "data_channel_is_lifestyle                     -0.000417   0.052906   \n",
       "data_channel_is_entertainment                  0.010554  -0.007968   \n",
       "data_channel_is_bus                            0.001840  -0.058360   \n",
       "data_channel_is_socmed                        -0.000526   0.050470   \n",
       "data_channel_is_tech                          -0.000921  -0.061734   \n",
       "data_channel_is_world                         -0.003801  -0.031567   \n",
       "self_reference_avg_sharess                     0.002009   0.025239   \n",
       "weekday_is_monday                             -0.002042  -0.005759   \n",
       "weekday_is_tuesday                             0.010510  -0.010691   \n",
       "weekday_is_wednesday                          -0.002070  -0.032437   \n",
       "weekday_is_thursday                           -0.002283  -0.012776   \n",
       "weekday_is_friday                             -0.001301  -0.001306   \n",
       "weekday_is_saturday                           -0.002623   0.054661   \n",
       "weekday_is_sunday                             -0.002167   0.044220   \n",
       "is_weekend                                    -0.003502   0.072279   \n",
       "LDA_00                                         0.000342  -0.020100   \n",
       "LDA_01                                        -0.000965  -0.053803   \n",
       "LDA_02                                        -0.004965  -0.012531   \n",
       "LDA_03                                        -0.009781   0.123786   \n",
       "LDA_04                                        -0.002097  -0.054977   \n",
       "global_subjectivity                            0.005498   0.203464   \n",
       "global_sentiment_polarity                      0.002043   0.086859   \n",
       "global_rate_positive_words                     0.005002   0.056428   \n",
       "global_rate_negative_words                     0.002590   0.032515   \n",
       "rate_positive_words                            0.005258   0.101663   \n",
       "rate_negative_words                            0.001709   0.059817   \n",
       "avg_positive_polarity                          0.004671   0.188236   \n",
       "avg_negative_polarity                         -0.001972  -0.152146   \n",
       "title_subjectivity                            -0.005860   0.043950   \n",
       "title_sentiment_polarity                      -0.002910   0.039041   \n",
       "abs_title_subjectivity                        -0.008572   0.009443   \n",
       "abs_title_sentiment_polarity                  -0.005342   0.056525   \n",
       "shares                                         0.000114   0.045404   \n",
       "shares_log                                     0.003709   0.105105   \n",
       "shares_sqrt                                    0.003709   0.105105   \n",
       "\n",
       "                               num_self_hrefs  num_imgs  num_videos  \\\n",
       "n_tokens_title                      -0.014856 -0.008858    0.051460   \n",
       "n_tokens_content                     0.304682  0.342600    0.103699   \n",
       "n_unique_tokens                      0.006620  0.018802   -0.000597   \n",
       "n_non_stop_words                     0.013598  0.028486   -0.000899   \n",
       "n_non_stop_unique_tokens             0.007584  0.014230   -0.000963   \n",
       "num_hrefs                            0.396452  0.342633    0.114518   \n",
       "num_self_hrefs                       1.000000  0.238586    0.077458   \n",
       "num_imgs                             0.238586  1.000000   -0.067336   \n",
       "num_videos                           0.077458 -0.067336    1.000000   \n",
       "average_token_length                 0.126879  0.033924   -0.002940   \n",
       "num_keywords                         0.099578  0.088432   -0.022257   \n",
       "data_channel_is_lifestyle           -0.047668  0.010260   -0.044602   \n",
       "data_channel_is_entertainment        0.024594  0.099327    0.146816   \n",
       "data_channel_is_bus                 -0.055104 -0.142542   -0.064651   \n",
       "data_channel_is_socmed               0.092126 -0.007626   -0.008038   \n",
       "data_channel_is_tech                 0.166668 -0.006292   -0.093192   \n",
       "data_channel_is_world               -0.118837 -0.106480   -0.088580   \n",
       "self_reference_avg_sharess           0.022157  0.020898    0.034494   \n",
       "weekday_is_monday                    0.012129 -0.005249    0.009453   \n",
       "weekday_is_tuesday                   0.001210 -0.003767    0.006740   \n",
       "weekday_is_wednesday                -0.020353 -0.024674   -0.001397   \n",
       "weekday_is_thursday                 -0.014457 -0.005824   -0.003663   \n",
       "weekday_is_friday                   -0.021631 -0.007537    0.003473   \n",
       "weekday_is_saturday                  0.044341  0.028970   -0.007135   \n",
       "weekday_is_sunday                    0.021455  0.043306   -0.014579   \n",
       "is_weekend                           0.047798  0.053242   -0.016054   \n",
       "LDA_00                              -0.021692 -0.150439   -0.070489   \n",
       "LDA_01                              -0.004631  0.050080    0.011875   \n",
       "LDA_02                              -0.085045 -0.094515   -0.092962   \n",
       "LDA_03                              -0.028775  0.208924    0.267673   \n",
       "LDA_04                               0.135441 -0.022780   -0.127429   \n",
       "global_subjectivity                  0.115285  0.080468    0.082052   \n",
       "global_sentiment_polarity            0.090070  0.021082   -0.028434   \n",
       "global_rate_positive_words           0.121140 -0.041582    0.072290   \n",
       "global_rate_negative_words           0.011433  0.024772    0.179167   \n",
       "rate_positive_words                  0.142088 -0.021734   -0.043459   \n",
       "rate_negative_words                 -0.010187  0.040029    0.074067   \n",
       "avg_positive_polarity                0.098062  0.096446    0.097440   \n",
       "avg_negative_polarity               -0.058222 -0.072500   -0.115976   \n",
       "title_subjectivity                  -0.011239  0.056815    0.061028   \n",
       "title_sentiment_polarity             0.026224  0.046310    0.021980   \n",
       "abs_title_subjectivity               0.008961 -0.013759   -0.021982   \n",
       "abs_title_sentiment_polarity        -0.006709  0.063307    0.055231   \n",
       "shares                              -0.001900  0.039388    0.023936   \n",
       "shares_log                           0.029148  0.091518    0.032049   \n",
       "shares_sqrt                          0.029148  0.091518    0.032049   \n",
       "\n",
       "                               average_token_length  ...  rate_negative_words  \\\n",
       "n_tokens_title                            -0.071403  ...             0.034186   \n",
       "n_tokens_content                           0.167789  ...             0.101053   \n",
       "n_unique_tokens                            0.026407  ...            -0.001657   \n",
       "n_non_stop_words                           0.031554  ...             0.001245   \n",
       "n_non_stop_unique_tokens                   0.034185  ...             0.001709   \n",
       "num_hrefs                                  0.222588  ...             0.059817   \n",
       "num_self_hrefs                             0.126879  ...            -0.010187   \n",
       "num_imgs                                   0.033924  ...             0.040029   \n",
       "num_videos                                -0.002940  ...             0.074067   \n",
       "average_token_length                       1.000000  ...             0.322505   \n",
       "num_keywords                              -0.016814  ...            -0.070873   \n",
       "data_channel_is_lifestyle                  0.011161  ...            -0.031871   \n",
       "data_channel_is_entertainment             -0.039363  ...             0.050992   \n",
       "data_channel_is_bus                        0.071671  ...            -0.082161   \n",
       "data_channel_is_socmed                     0.024920  ...            -0.060136   \n",
       "data_channel_is_tech                       0.019138  ...            -0.114082   \n",
       "data_channel_is_world                      0.079918  ...             0.192848   \n",
       "self_reference_avg_sharess                 0.040468  ...             0.019033   \n",
       "weekday_is_monday                         -0.000563  ...             0.008066   \n",
       "weekday_is_tuesday                        -0.003225  ...            -0.013357   \n",
       "weekday_is_wednesday                      -0.004062  ...            -0.010927   \n",
       "weekday_is_thursday                        0.002535  ...            -0.000523   \n",
       "weekday_is_friday                          0.002644  ...             0.020494   \n",
       "weekday_is_saturday                       -0.004404  ...            -0.005700   \n",
       "weekday_is_sunday                          0.008697  ...             0.003298   \n",
       "is_weekend                                 0.003390  ...            -0.001592   \n",
       "LDA_00                                     0.078901  ...            -0.113682   \n",
       "LDA_01                                    -0.022011  ...             0.029148   \n",
       "LDA_02                                     0.099121  ...             0.189376   \n",
       "LDA_03                                    -0.181714  ...             0.005984   \n",
       "LDA_04                                     0.033738  ...            -0.109480   \n",
       "global_subjectivity                        0.597629  ...             0.132940   \n",
       "global_sentiment_polarity                  0.178537  ...            -0.650717   \n",
       "global_rate_positive_words                 0.322929  ...            -0.330125   \n",
       "global_rate_negative_words                 0.228655  ...             0.779556   \n",
       "rate_positive_words                        0.578894  ...            -0.530962   \n",
       "rate_negative_words                        0.322505  ...             1.000000   \n",
       "avg_positive_polarity                      0.540117  ...             0.145689   \n",
       "avg_negative_polarity                     -0.324529  ...            -0.346947   \n",
       "title_subjectivity                        -0.040406  ...            -0.003934   \n",
       "title_sentiment_polarity                  -0.016718  ...            -0.185787   \n",
       "abs_title_subjectivity                     0.026586  ...             0.040898   \n",
       "abs_title_sentiment_polarity              -0.036953  ...            -0.026495   \n",
       "shares                                    -0.022007  ...            -0.005183   \n",
       "shares_log                                -0.045283  ...            -0.048171   \n",
       "shares_sqrt                               -0.045283  ...            -0.048171   \n",
       "\n",
       "                               avg_positive_polarity  avg_negative_polarity  \\\n",
       "n_tokens_title                             -0.049619              -0.017096   \n",
       "n_tokens_content                            0.135123              -0.130375   \n",
       "n_unique_tokens                            -0.000487               0.001453   \n",
       "n_non_stop_words                            0.002285              -0.001372   \n",
       "n_non_stop_unique_tokens                    0.004671              -0.001972   \n",
       "num_hrefs                                   0.188236              -0.152146   \n",
       "num_self_hrefs                              0.098062              -0.058222   \n",
       "num_imgs                                    0.096446              -0.072500   \n",
       "num_videos                                  0.097440              -0.115976   \n",
       "average_token_length                        0.540117              -0.324529   \n",
       "num_keywords                                0.033700               0.021114   \n",
       "data_channel_is_lifestyle                   0.065715              -0.006529   \n",
       "data_channel_is_entertainment               0.053275              -0.126114   \n",
       "data_channel_is_bus                        -0.002238               0.056621   \n",
       "data_channel_is_socmed                      0.010062               0.004235   \n",
       "data_channel_is_tech                        0.014761               0.114834   \n",
       "data_channel_is_world                      -0.145500               0.029447   \n",
       "self_reference_avg_sharess                  0.043946              -0.054093   \n",
       "weekday_is_monday                           0.002689               0.000464   \n",
       "weekday_is_tuesday                         -0.013772               0.011395   \n",
       "weekday_is_wednesday                       -0.007413               0.009808   \n",
       "weekday_is_thursday                        -0.007547               0.008962   \n",
       "weekday_is_friday                           0.002151              -0.009267   \n",
       "weekday_is_saturday                         0.012488              -0.015478   \n",
       "weekday_is_sunday                           0.025277              -0.019432   \n",
       "is_weekend                                  0.027918              -0.025661   \n",
       "LDA_00                                      0.006287               0.041026   \n",
       "LDA_01                                      0.045091              -0.102900   \n",
       "LDA_02                                     -0.138263               0.038317   \n",
       "LDA_03                                      0.071775              -0.114381   \n",
       "LDA_04                                      0.021952               0.120066   \n",
       "global_subjectivity                         0.631749              -0.443187   \n",
       "global_sentiment_polarity                   0.496704               0.229764   \n",
       "global_rate_positive_words                  0.331326              -0.131794   \n",
       "global_rate_negative_words                  0.192985              -0.352242   \n",
       "rate_positive_words                         0.412733              -0.034753   \n",
       "rate_negative_words                         0.145689              -0.346947   \n",
       "avg_positive_polarity                       1.000000              -0.275705   \n",
       "avg_negative_polarity                      -0.275705               1.000000   \n",
       "title_subjectivity                          0.052364              -0.075814   \n",
       "title_sentiment_polarity                    0.079529               0.085878   \n",
       "abs_title_subjectivity                      0.015141              -0.006573   \n",
       "abs_title_sentiment_polarity                0.101191              -0.075594   \n",
       "shares                                      0.012142              -0.032029   \n",
       "shares_log                                  0.034453              -0.034310   \n",
       "shares_sqrt                                 0.034453              -0.034310   \n",
       "\n",
       "                               title_subjectivity  title_sentiment_polarity  \\\n",
       "n_tokens_title                           0.077245                  0.000240   \n",
       "n_tokens_content                         0.004484                  0.023358   \n",
       "n_unique_tokens                         -0.004678                 -0.002333   \n",
       "n_non_stop_words                        -0.005389                 -0.001650   \n",
       "n_non_stop_unique_tokens                -0.005860                 -0.002910   \n",
       "num_hrefs                                0.043950                  0.039041   \n",
       "num_self_hrefs                          -0.011239                  0.026224   \n",
       "num_imgs                                 0.056815                  0.046310   \n",
       "num_videos                               0.061028                  0.021980   \n",
       "average_token_length                    -0.040406                 -0.016718   \n",
       "num_keywords                             0.016014                  0.031705   \n",
       "data_channel_is_lifestyle                0.002736                  0.033536   \n",
       "data_channel_is_entertainment            0.047998                 -0.011935   \n",
       "data_channel_is_bus                     -0.044445                  0.014296   \n",
       "data_channel_is_socmed                  -0.016793                  0.024436   \n",
       "data_channel_is_tech                    -0.043031                  0.026831   \n",
       "data_channel_is_world                   -0.062115                 -0.080964   \n",
       "self_reference_avg_sharess               0.010175                  0.000930   \n",
       "weekday_is_monday                       -0.009642                 -0.010047   \n",
       "weekday_is_tuesday                      -0.003977                  0.003275   \n",
       "weekday_is_wednesday                    -0.010825                 -0.013845   \n",
       "weekday_is_thursday                      0.003116                 -0.002120   \n",
       "weekday_is_friday                        0.000266                 -0.006281   \n",
       "weekday_is_saturday                      0.007701                  0.025164   \n",
       "weekday_is_sunday                        0.024554                  0.019118   \n",
       "is_weekend                               0.023956                  0.032343   \n",
       "LDA_00                                  -0.048812                  0.027982   \n",
       "LDA_01                                   0.054447                 -0.006426   \n",
       "LDA_02                                  -0.076511                 -0.074275   \n",
       "LDA_03                                   0.129062                  0.027687   \n",
       "LDA_04                                  -0.053996                  0.023665   \n",
       "global_subjectivity                      0.114123                  0.034075   \n",
       "global_sentiment_polarity                0.023620                  0.238266   \n",
       "global_rate_positive_words               0.109938                  0.136469   \n",
       "global_rate_negative_words               0.090229                 -0.138152   \n",
       "rate_positive_words                     -0.024194                  0.144467   \n",
       "rate_negative_words                     -0.003934                 -0.185787   \n",
       "avg_positive_polarity                    0.052364                  0.079529   \n",
       "avg_negative_polarity                   -0.075814                  0.085878   \n",
       "title_subjectivity                       1.000000                  0.232130   \n",
       "title_sentiment_polarity                 0.232130                  1.000000   \n",
       "abs_title_subjectivity                  -0.487172                 -0.240112   \n",
       "abs_title_sentiment_polarity             0.714528                  0.410205   \n",
       "shares                                   0.021967                  0.012772   \n",
       "shares_log                               0.052714                  0.051035   \n",
       "shares_sqrt                              0.052714                  0.051035   \n",
       "\n",
       "                               abs_title_subjectivity  \\\n",
       "n_tokens_title                              -0.146954   \n",
       "n_tokens_content                             0.007136   \n",
       "n_unique_tokens                             -0.009242   \n",
       "n_non_stop_words                            -0.008511   \n",
       "n_non_stop_unique_tokens                    -0.008572   \n",
       "num_hrefs                                    0.009443   \n",
       "num_self_hrefs                               0.008961   \n",
       "num_imgs                                    -0.013759   \n",
       "num_videos                                  -0.021982   \n",
       "average_token_length                         0.026586   \n",
       "num_keywords                                -0.010992   \n",
       "data_channel_is_lifestyle                    0.006861   \n",
       "data_channel_is_entertainment               -0.051300   \n",
       "data_channel_is_bus                         -0.002488   \n",
       "data_channel_is_socmed                       0.011669   \n",
       "data_channel_is_tech                         0.007188   \n",
       "data_channel_is_world                        0.053145   \n",
       "self_reference_avg_sharess                  -0.001442   \n",
       "weekday_is_monday                           -0.002393   \n",
       "weekday_is_tuesday                           0.011584   \n",
       "weekday_is_wednesday                         0.008071   \n",
       "weekday_is_thursday                          0.004394   \n",
       "weekday_is_friday                            0.009530   \n",
       "weekday_is_saturday                         -0.019946   \n",
       "weekday_is_sunday                           -0.027632   \n",
       "is_weekend                                  -0.035015   \n",
       "LDA_00                                       0.001337   \n",
       "LDA_01                                      -0.071821   \n",
       "LDA_02                                       0.059309   \n",
       "LDA_03                                      -0.013784   \n",
       "LDA_04                                       0.009713   \n",
       "global_subjectivity                         -0.003758   \n",
       "global_sentiment_polarity                   -0.028717   \n",
       "global_rate_positive_words                  -0.137288   \n",
       "global_rate_negative_words                  -0.055071   \n",
       "rate_positive_words                         -0.017876   \n",
       "rate_negative_words                          0.040898   \n",
       "avg_positive_polarity                        0.015141   \n",
       "avg_negative_polarity                       -0.006573   \n",
       "title_subjectivity                          -0.487172   \n",
       "title_sentiment_polarity                    -0.240112   \n",
       "abs_title_subjectivity                       1.000000   \n",
       "abs_title_sentiment_polarity                -0.400272   \n",
       "shares                                       0.001481   \n",
       "shares_log                                   0.000739   \n",
       "shares_sqrt                                  0.000739   \n",
       "\n",
       "                               abs_title_sentiment_polarity    shares  \\\n",
       "n_tokens_title                                     0.040550  0.008783   \n",
       "n_tokens_content                                   0.013439  0.002459   \n",
       "n_unique_tokens                                   -0.004217  0.000806   \n",
       "n_non_stop_words                                  -0.004391  0.000443   \n",
       "n_non_stop_unique_tokens                          -0.005342  0.000114   \n",
       "num_hrefs                                          0.056525  0.045404   \n",
       "num_self_hrefs                                    -0.006709 -0.001900   \n",
       "num_imgs                                           0.063307  0.039388   \n",
       "num_videos                                         0.055231  0.023936   \n",
       "average_token_length                              -0.036953 -0.022007   \n",
       "num_keywords                                       0.023533  0.021818   \n",
       "data_channel_is_lifestyle                          0.017966  0.005831   \n",
       "data_channel_is_entertainment                      0.032396 -0.017006   \n",
       "data_channel_is_bus                               -0.032490 -0.012376   \n",
       "data_channel_is_socmed                            -0.003181  0.005021   \n",
       "data_channel_is_tech                              -0.042207 -0.013253   \n",
       "data_channel_is_world                             -0.065068 -0.049497   \n",
       "self_reference_avg_sharess                         0.006897  0.057789   \n",
       "weekday_is_monday                                 -0.010282  0.009726   \n",
       "weekday_is_tuesday                                -0.002879 -0.007941   \n",
       "weekday_is_wednesday                              -0.011989 -0.003801   \n",
       "weekday_is_thursday                               -0.004450 -0.008833   \n",
       "weekday_is_friday                                 -0.002683 -0.003884   \n",
       "weekday_is_saturday                                0.015463  0.015082   \n",
       "weekday_is_sunday                                  0.033855  0.008230   \n",
       "is_weekend                                         0.036490  0.016958   \n",
       "LDA_00                                            -0.028023 -0.003793   \n",
       "LDA_01                                             0.034438 -0.010183   \n",
       "LDA_02                                            -0.081729 -0.059163   \n",
       "LDA_03                                             0.122120  0.083771   \n",
       "LDA_04                                            -0.045538 -0.016622   \n",
       "global_subjectivity                                0.091067  0.031604   \n",
       "global_sentiment_polarity                          0.071898  0.004163   \n",
       "global_rate_positive_words                         0.103391  0.000543   \n",
       "global_rate_negative_words                         0.055872  0.006615   \n",
       "rate_positive_words                               -0.003356 -0.013241   \n",
       "rate_negative_words                               -0.026495 -0.005183   \n",
       "avg_positive_polarity                              0.101191  0.012142   \n",
       "avg_negative_polarity                             -0.075594 -0.032029   \n",
       "title_subjectivity                                 0.714528  0.021967   \n",
       "title_sentiment_polarity                           0.410205  0.012772   \n",
       "abs_title_subjectivity                            -0.400272  0.001481   \n",
       "abs_title_sentiment_polarity                       1.000000  0.027135   \n",
       "shares                                             0.027135  1.000000   \n",
       "shares_log                                         0.059191  0.509906   \n",
       "shares_sqrt                                        0.059191  0.509906   \n",
       "\n",
       "                               shares_log  shares_sqrt  \n",
       "n_tokens_title                  -0.019030    -0.019030  \n",
       "n_tokens_content                 0.024842     0.024842  \n",
       "n_unique_tokens                  0.004971     0.004971  \n",
       "n_non_stop_words                 0.005406     0.005406  \n",
       "n_non_stop_unique_tokens         0.003709     0.003709  \n",
       "num_hrefs                        0.105105     0.105105  \n",
       "num_self_hrefs                   0.029148     0.029148  \n",
       "num_imgs                         0.091518     0.091518  \n",
       "num_videos                       0.032049     0.032049  \n",
       "average_token_length            -0.045283    -0.045283  \n",
       "num_keywords                     0.065948     0.065948  \n",
       "data_channel_is_lifestyle        0.033225     0.033225  \n",
       "data_channel_is_entertainment   -0.082504    -0.082504  \n",
       "data_channel_is_bus             -0.030599    -0.030599  \n",
       "data_channel_is_socmed           0.081106     0.081106  \n",
       "data_channel_is_tech             0.054573     0.054573  \n",
       "data_channel_is_world           -0.151651    -0.151651  \n",
       "self_reference_avg_sharess       0.087217     0.087217  \n",
       "weekday_is_monday               -0.008287    -0.008287  \n",
       "weekday_is_tuesday              -0.031073    -0.031073  \n",
       "weekday_is_wednesday            -0.036590    -0.036590  \n",
       "weekday_is_thursday             -0.028171    -0.028171  \n",
       "weekday_is_friday                0.005125     0.005125  \n",
       "weekday_is_saturday              0.079147     0.079147  \n",
       "weekday_is_sunday                0.076975     0.076975  \n",
       "is_weekend                       0.114387     0.114387  \n",
       "LDA_00                           0.030588     0.030588  \n",
       "LDA_01                          -0.052993    -0.052993  \n",
       "LDA_02                          -0.165034    -0.165034  \n",
       "LDA_03                           0.125962     0.125962  \n",
       "LDA_04                           0.044772     0.044772  \n",
       "global_subjectivity              0.075145     0.075145  \n",
       "global_sentiment_polarity        0.048922     0.048922  \n",
       "global_rate_positive_words       0.040968     0.040968  \n",
       "global_rate_negative_words      -0.006037    -0.006037  \n",
       "rate_positive_words              0.009027     0.009027  \n",
       "rate_negative_words             -0.048171    -0.048171  \n",
       "avg_positive_polarity            0.034453     0.034453  \n",
       "avg_negative_polarity           -0.034310    -0.034310  \n",
       "title_subjectivity               0.052714     0.052714  \n",
       "title_sentiment_polarity         0.051035     0.051035  \n",
       "abs_title_subjectivity           0.000739     0.000739  \n",
       "abs_title_sentiment_polarity     0.059191     0.059191  \n",
       "shares                           0.509906     0.509906  \n",
       "shares_log                       1.000000     1.000000  \n",
       "shares_sqrt                      1.000000     1.000000  \n",
       "\n",
       "[46 rows x 46 columns]"
      ]
     },
     "execution_count": 6,
     "metadata": {},
     "output_type": "execute_result"
    }
   ],
   "source": [
    "dropped_news.corr()"
   ]
  },
  {
   "cell_type": "markdown",
   "metadata": {},
   "source": [
    "# EDA looking at relationship between 'shares' and other variables"
   ]
  },
  {
   "cell_type": "code",
   "execution_count": 36,
   "metadata": {
    "collapsed": true
   },
   "outputs": [
    {
     "data": {
      "text/plain": [
       "<matplotlib.axes._subplots.AxesSubplot at 0x1c2435b210>"
      ]
     },
     "execution_count": 36,
     "metadata": {},
     "output_type": "execute_result"
    },
    {
     "data": {
      "image/png": "[encoded data removed]",
      "text/plain": [
       "<Figure size 432x288 with 1 Axes>"
      ]
     },
     "metadata": {
      "needs_background": "light"
     },
     "output_type": "display_data"
    }
   ],
   "source": [
    "dropped_news.plot.scatter('n_tokens_title', 'shares')"
   ]
  },
  {
   "cell_type": "code",
   "execution_count": 71,
   "metadata": {
    "collapsed": true
   },
   "outputs": [
    {
     "data": {
      "text/plain": [
       "<matplotlib.axes._subplots.AxesSubplot at 0x119e42210>"
      ]
     },
     "execution_count": 71,
     "metadata": {},
     "output_type": "execute_result"
    },
    {
     "data": {
      "image/png": "[encoded data removed]",
      "text/plain": [
       "<Figure size 432x288 with 1 Axes>"
      ]
     },
     "metadata": {
      "needs_background": "light"
     },
     "output_type": "display_data"
    }
   ],
   "source": [
    "dropped_news.plot.scatter('n_tokens_content', 'shares')"
   ]
  },
  {
   "cell_type": "code",
   "execution_count": 72,
   "metadata": {
    "collapsed": true
   },
   "outputs": [
    {
     "data": {
      "text/plain": [
       "<matplotlib.axes._subplots.AxesSubplot at 0x119fd0dd0>"
      ]
     },
     "execution_count": 72,
     "metadata": {},
     "output_type": "execute_result"
    },
    {
     "data": {
      "image/png": "[encoded data removed]",
      "text/plain": [
       "<Figure size 432x288 with 1 Axes>"
      ]
     },
     "metadata": {
      "needs_background": "light"
     },
     "output_type": "display_data"
    }
   ],
   "source": [
    "dropped_news.plot.scatter('n_unique_tokens', 'shares')"
   ]
  },
  {
   "cell_type": "code",
   "execution_count": 74,
   "metadata": {
    "collapsed": true
   },
   "outputs": [
    {
     "data": {
      "text/plain": [
       "<matplotlib.axes._subplots.AxesSubplot at 0x1c29566850>"
      ]
     },
     "execution_count": 74,
     "metadata": {},
     "output_type": "execute_result"
    },
    {
     "data": {
      "image/png": "[encoded data removed]",
      "text/plain": [
       "<Figure size 432x288 with 1 Axes>"
      ]
     },
     "metadata": {
      "needs_background": "light"
     },
     "output_type": "display_data"
    }
   ],
   "source": [
    "dropped_news.plot.scatter('num_hrefs', 'shares')"
   ]
  },
  {
   "cell_type": "code",
   "execution_count": 77,
   "metadata": {
    "collapsed": true
   },
   "outputs": [
    {
     "data": {
      "text/plain": [
       "<matplotlib.axes._subplots.AxesSubplot at 0x1c291d8790>"
      ]
     },
     "execution_count": 77,
     "metadata": {},
     "output_type": "execute_result"
    },
    {
     "data": {
      "image/png": "[encoded data removed]",
      "text/plain": [
       "<Figure size 432x288 with 1 Axes>"
      ]
     },
     "metadata": {
      "needs_background": "light"
     },
     "output_type": "display_data"
    }
   ],
   "source": [
    "dropped_news.plot.scatter('num_self_hrefs', 'shares')"
   ]
  },
  {
   "cell_type": "code",
   "execution_count": 78,
   "metadata": {
    "collapsed": true
   },
   "outputs": [
    {
     "data": {
      "text/plain": [
       "<matplotlib.axes._subplots.AxesSubplot at 0x1243cc250>"
      ]
     },
     "execution_count": 78,
     "metadata": {},
     "output_type": "execute_result"
    },
    {
     "data": {
      "image/png": "[encoded data removed]",
      "text/plain": [
       "<Figure size 432x288 with 1 Axes>"
      ]
     },
     "metadata": {
      "needs_background": "light"
     },
     "output_type": "display_data"
    }
   ],
   "source": [
    "dropped_news.plot.scatter('num_imgs', 'shares')"
   ]
  },
  {
   "cell_type": "code",
   "execution_count": 79,
   "metadata": {
    "collapsed": true
   },
   "outputs": [
    {
     "data": {
      "text/plain": [
       "<matplotlib.axes._subplots.AxesSubplot at 0x1c2ab43fd0>"
      ]
     },
     "execution_count": 79,
     "metadata": {},
     "output_type": "execute_result"
    },
    {
     "data": {
      "image/png": "[encoded data removed]",
      "text/plain": [
       "<Figure size 432x288 with 1 Axes>"
      ]
     },
     "metadata": {
      "needs_background": "light"
     },
     "output_type": "display_data"
    }
   ],
   "source": [
    "dropped_news.plot.scatter('num_videos', 'shares')"
   ]
  },
  {
   "cell_type": "code",
   "execution_count": 83,
   "metadata": {
    "collapsed": true
   },
   "outputs": [
    {
     "data": {
      "text/plain": [
       "<matplotlib.axes._subplots.AxesSubplot at 0x1c2c096d90>"
      ]
     },
     "execution_count": 83,
     "metadata": {},
     "output_type": "execute_result"
    },
    {
     "data": {
      "image/png": "[encoded data removed]",
      "text/plain": [
       "<Figure size 432x288 with 1 Axes>"
      ]
     },
     "metadata": {
      "needs_background": "light"
     },
     "output_type": "display_data"
    }
   ],
   "source": [
    "dropped_news.plot.scatter('average_token_length', 'shares')\n",
    "# what does it mean when the average length of words in the content is 0"
   ]
  },
  {
   "cell_type": "code",
   "execution_count": 90,
   "metadata": {
    "collapsed": true
   },
   "outputs": [
    {
     "data": {
      "text/plain": [
       "<matplotlib.axes._subplots.AxesSubplot at 0x1c49df3950>"
      ]
     },
     "execution_count": 90,
     "metadata": {},
     "output_type": "execute_result"
    },
    {
     "data": {
      "image/png": "[encoded data removed]",
      "text/plain": [
       "<Figure size 432x288 with 1 Axes>"
      ]
     },
     "metadata": {
      "needs_background": "light"
     },
     "output_type": "display_data"
    }
   ],
   "source": [
    "dropped_news.plot.scatter('data_channel_is_lifestyle', 'shares')"
   ]
  },
  {
   "cell_type": "code",
   "execution_count": 91,
   "metadata": {
    "collapsed": true
   },
   "outputs": [
    {
     "data": {
      "text/plain": [
       "<matplotlib.axes._subplots.AxesSubplot at 0x1c3ba53e90>"
      ]
     },
     "execution_count": 91,
     "metadata": {},
     "output_type": "execute_result"
    },
    {
     "data": {
      "image/png": "[encoded data removed]",
      "text/plain": [
       "<Figure size 432x288 with 1 Axes>"
      ]
     },
     "metadata": {
      "needs_background": "light"
     },
     "output_type": "display_data"
    }
   ],
   "source": [
    "dropped_news.plot.scatter('data_channel_is_entertainment', 'shares')"
   ]
  },
  {
   "cell_type": "code",
   "execution_count": 92,
   "metadata": {
    "collapsed": true
   },
   "outputs": [
    {
     "data": {
      "text/plain": [
       "<matplotlib.axes._subplots.AxesSubplot at 0x1c49e3e0d0>"
      ]
     },
     "execution_count": 92,
     "metadata": {},
     "output_type": "execute_result"
    },
    {
     "data": {
      "image/png": "[encoded data removed]",
      "text/plain": [
       "<Figure size 432x288 with 1 Axes>"
      ]
     },
     "metadata": {
      "needs_background": "light"
     },
     "output_type": "display_data"
    }
   ],
   "source": [
    "dropped_news.plot.scatter('data_channel_is_bus', 'shares')"
   ]
  },
  {
   "cell_type": "code",
   "execution_count": 93,
   "metadata": {
    "collapsed": true
   },
   "outputs": [
    {
     "data": {
      "text/plain": [
       "<matplotlib.axes._subplots.AxesSubplot at 0x1c2752dc10>"
      ]
     },
     "execution_count": 93,
     "metadata": {},
     "output_type": "execute_result"
    },
    {
     "data": {
      "image/png": "[encoded data removed]",
      "text/plain": [
       "<Figure size 432x288 with 1 Axes>"
      ]
     },
     "metadata": {
      "needs_background": "light"
     },
     "output_type": "display_data"
    }
   ],
   "source": [
    "dropped_news.plot.scatter('data_channel_is_socmed', 'shares')"
   ]
  },
  {
   "cell_type": "code",
   "execution_count": 102,
   "metadata": {
    "collapsed": true
   },
   "outputs": [
    {
     "ename": "KeyboardInterrupt",
     "evalue": "",
     "output_type": "error",
     "traceback": [
      "\u001b[0;31m---------------------------------------------------------------------------\u001b[0m",
      "\u001b[0;31mKeyboardInterrupt\u001b[0m                         Traceback (most recent call last)",
      "\u001b[0;32m<ipython-input-102-500fe64372be>\u001b[0m in \u001b[0;36m<module>\u001b[0;34m\u001b[0m\n\u001b[0;32m----> 1\u001b[0;31m \u001b[0mdropped_news\u001b[0m\u001b[0;34m.\u001b[0m\u001b[0mboxplot\u001b[0m\u001b[0;34m(\u001b[0m\u001b[0mcolumn\u001b[0m\u001b[0;34m=\u001b[0m\u001b[0mbox_col\u001b[0m\u001b[0;34m,\u001b[0m \u001b[0mby\u001b[0m\u001b[0;34m=\u001b[0m\u001b[0;34m' shares'\u001b[0m\u001b[0;34m)\u001b[0m\u001b[0;34m\u001b[0m\u001b[0;34m\u001b[0m\u001b[0m\n\u001b[0m",
      "\u001b[0;32m~/opt/anaconda3/lib/python3.7/site-packages/pandas/plotting/_core.py\u001b[0m in \u001b[0;36mboxplot_frame\u001b[0;34m(self, column, by, ax, fontsize, rot, grid, figsize, layout, return_type, **kwds)\u001b[0m\n\u001b[1;32m    418\u001b[0m         \u001b[0mlayout\u001b[0m\u001b[0;34m=\u001b[0m\u001b[0mlayout\u001b[0m\u001b[0;34m,\u001b[0m\u001b[0;34m\u001b[0m\u001b[0;34m\u001b[0m\u001b[0m\n\u001b[1;32m    419\u001b[0m         \u001b[0mreturn_type\u001b[0m\u001b[0;34m=\u001b[0m\u001b[0mreturn_type\u001b[0m\u001b[0;34m,\u001b[0m\u001b[0;34m\u001b[0m\u001b[0;34m\u001b[0m\u001b[0m\n\u001b[0;32m--> 420\u001b[0;31m         \u001b[0;34m**\u001b[0m\u001b[0mkwds\u001b[0m\u001b[0;34m\u001b[0m\u001b[0;34m\u001b[0m\u001b[0m\n\u001b[0m\u001b[1;32m    421\u001b[0m     )\n\u001b[1;32m    422\u001b[0m \u001b[0;34m\u001b[0m\u001b[0m\n",
      "\u001b[0;32m~/opt/anaconda3/lib/python3.7/site-packages/pandas/plotting/_matplotlib/boxplot.py\u001b[0m in \u001b[0;36mboxplot_frame\u001b[0;34m(self, column, by, ax, fontsize, rot, grid, figsize, layout, return_type, **kwds)\u001b[0m\n\u001b[1;32m    353\u001b[0m         \u001b[0mlayout\u001b[0m\u001b[0;34m=\u001b[0m\u001b[0mlayout\u001b[0m\u001b[0;34m,\u001b[0m\u001b[0;34m\u001b[0m\u001b[0;34m\u001b[0m\u001b[0m\n\u001b[1;32m    354\u001b[0m         \u001b[0mreturn_type\u001b[0m\u001b[0;34m=\u001b[0m\u001b[0mreturn_type\u001b[0m\u001b[0;34m,\u001b[0m\u001b[0;34m\u001b[0m\u001b[0;34m\u001b[0m\u001b[0m\n\u001b[0;32m--> 355\u001b[0;31m         \u001b[0;34m**\u001b[0m\u001b[0mkwds\u001b[0m\u001b[0;34m\u001b[0m\u001b[0;34m\u001b[0m\u001b[0m\n\u001b[0m\u001b[1;32m    356\u001b[0m     )\n\u001b[1;32m    357\u001b[0m     \u001b[0mplt\u001b[0m\u001b[0;34m.\u001b[0m\u001b[0mdraw_if_interactive\u001b[0m\u001b[0;34m(\u001b[0m\u001b[0;34m)\u001b[0m\u001b[0;34m\u001b[0m\u001b[0;34m\u001b[0m\u001b[0m\n",
      "\u001b[0;32m~/opt/anaconda3/lib/python3.7/site-packages/pandas/plotting/_matplotlib/boxplot.py\u001b[0m in \u001b[0;36mboxplot\u001b[0;34m(data, column, by, ax, fontsize, rot, grid, figsize, layout, return_type, **kwds)\u001b[0m\n\u001b[1;32m    300\u001b[0m             \u001b[0max\u001b[0m\u001b[0;34m=\u001b[0m\u001b[0max\u001b[0m\u001b[0;34m,\u001b[0m\u001b[0;34m\u001b[0m\u001b[0;34m\u001b[0m\u001b[0m\n\u001b[1;32m    301\u001b[0m             \u001b[0mlayout\u001b[0m\u001b[0;34m=\u001b[0m\u001b[0mlayout\u001b[0m\u001b[0;34m,\u001b[0m\u001b[0;34m\u001b[0m\u001b[0;34m\u001b[0m\u001b[0m\n\u001b[0;32m--> 302\u001b[0;31m             \u001b[0mreturn_type\u001b[0m\u001b[0;34m=\u001b[0m\u001b[0mreturn_type\u001b[0m\u001b[0;34m,\u001b[0m\u001b[0;34m\u001b[0m\u001b[0;34m\u001b[0m\u001b[0m\n\u001b[0m\u001b[1;32m    303\u001b[0m         )\n\u001b[1;32m    304\u001b[0m     \u001b[0;32melse\u001b[0m\u001b[0;34m:\u001b[0m\u001b[0;34m\u001b[0m\u001b[0;34m\u001b[0m\u001b[0m\n",
      "\u001b[0;32m~/opt/anaconda3/lib/python3.7/site-packages/pandas/plotting/_matplotlib/boxplot.py\u001b[0m in \u001b[0;36m_grouped_plot_by_column\u001b[0;34m(plotf, data, columns, by, numeric_only, grid, figsize, ax, layout, return_type, **kwargs)\u001b[0m\n\u001b[1;32m    205\u001b[0m         \u001b[0mgp_col\u001b[0m \u001b[0;34m=\u001b[0m \u001b[0mgrouped\u001b[0m\u001b[0;34m[\u001b[0m\u001b[0mcol\u001b[0m\u001b[0;34m]\u001b[0m\u001b[0;34m\u001b[0m\u001b[0;34m\u001b[0m\u001b[0m\n\u001b[1;32m    206\u001b[0m         \u001b[0mkeys\u001b[0m\u001b[0;34m,\u001b[0m \u001b[0mvalues\u001b[0m \u001b[0;34m=\u001b[0m \u001b[0mzip\u001b[0m\u001b[0;34m(\u001b[0m\u001b[0;34m*\u001b[0m\u001b[0mgp_col\u001b[0m\u001b[0;34m)\u001b[0m\u001b[0;34m\u001b[0m\u001b[0;34m\u001b[0m\u001b[0m\n\u001b[0;32m--> 207\u001b[0;31m         \u001b[0mre_plotf\u001b[0m \u001b[0;34m=\u001b[0m \u001b[0mplotf\u001b[0m\u001b[0;34m(\u001b[0m\u001b[0mkeys\u001b[0m\u001b[0;34m,\u001b[0m \u001b[0mvalues\u001b[0m\u001b[0;34m,\u001b[0m \u001b[0max\u001b[0m\u001b[0;34m,\u001b[0m \u001b[0;34m**\u001b[0m\u001b[0mkwargs\u001b[0m\u001b[0;34m)\u001b[0m\u001b[0;34m\u001b[0m\u001b[0;34m\u001b[0m\u001b[0m\n\u001b[0m\u001b[1;32m    208\u001b[0m         \u001b[0max\u001b[0m\u001b[0;34m.\u001b[0m\u001b[0mset_title\u001b[0m\u001b[0;34m(\u001b[0m\u001b[0mcol\u001b[0m\u001b[0;34m)\u001b[0m\u001b[0;34m\u001b[0m\u001b[0;34m\u001b[0m\u001b[0m\n\u001b[1;32m    209\u001b[0m         \u001b[0max\u001b[0m\u001b[0;34m.\u001b[0m\u001b[0mset_xlabel\u001b[0m\u001b[0;34m(\u001b[0m\u001b[0mpprint_thing\u001b[0m\u001b[0;34m(\u001b[0m\u001b[0mby\u001b[0m\u001b[0;34m)\u001b[0m\u001b[0;34m)\u001b[0m\u001b[0;34m\u001b[0m\u001b[0;34m\u001b[0m\u001b[0m\n",
      "\u001b[0;32m~/opt/anaconda3/lib/python3.7/site-packages/pandas/plotting/_matplotlib/boxplot.py\u001b[0m in \u001b[0;36mplot_group\u001b[0;34m(keys, values, ax)\u001b[0m\n\u001b[1;32m    262\u001b[0m         \u001b[0mkeys\u001b[0m \u001b[0;34m=\u001b[0m \u001b[0;34m[\u001b[0m\u001b[0mpprint_thing\u001b[0m\u001b[0;34m(\u001b[0m\u001b[0mx\u001b[0m\u001b[0;34m)\u001b[0m \u001b[0;32mfor\u001b[0m \u001b[0mx\u001b[0m \u001b[0;32min\u001b[0m \u001b[0mkeys\u001b[0m\u001b[0;34m]\u001b[0m\u001b[0;34m\u001b[0m\u001b[0;34m\u001b[0m\u001b[0m\n\u001b[1;32m    263\u001b[0m         \u001b[0mvalues\u001b[0m \u001b[0;34m=\u001b[0m \u001b[0;34m[\u001b[0m\u001b[0mnp\u001b[0m\u001b[0;34m.\u001b[0m\u001b[0masarray\u001b[0m\u001b[0;34m(\u001b[0m\u001b[0mremove_na_arraylike\u001b[0m\u001b[0;34m(\u001b[0m\u001b[0mv\u001b[0m\u001b[0;34m)\u001b[0m\u001b[0;34m)\u001b[0m \u001b[0;32mfor\u001b[0m \u001b[0mv\u001b[0m \u001b[0;32min\u001b[0m \u001b[0mvalues\u001b[0m\u001b[0;34m]\u001b[0m\u001b[0;34m\u001b[0m\u001b[0;34m\u001b[0m\u001b[0m\n\u001b[0;32m--> 264\u001b[0;31m         \u001b[0mbp\u001b[0m \u001b[0;34m=\u001b[0m \u001b[0max\u001b[0m\u001b[0;34m.\u001b[0m\u001b[0mboxplot\u001b[0m\u001b[0;34m(\u001b[0m\u001b[0mvalues\u001b[0m\u001b[0;34m,\u001b[0m \u001b[0;34m**\u001b[0m\u001b[0mkwds\u001b[0m\u001b[0;34m)\u001b[0m\u001b[0;34m\u001b[0m\u001b[0;34m\u001b[0m\u001b[0m\n\u001b[0m\u001b[1;32m    265\u001b[0m         \u001b[0;32mif\u001b[0m \u001b[0mfontsize\u001b[0m \u001b[0;32mis\u001b[0m \u001b[0;32mnot\u001b[0m \u001b[0;32mNone\u001b[0m\u001b[0;34m:\u001b[0m\u001b[0;34m\u001b[0m\u001b[0;34m\u001b[0m\u001b[0m\n\u001b[1;32m    266\u001b[0m             \u001b[0max\u001b[0m\u001b[0;34m.\u001b[0m\u001b[0mtick_params\u001b[0m\u001b[0;34m(\u001b[0m\u001b[0maxis\u001b[0m\u001b[0;34m=\u001b[0m\u001b[0;34m\"both\"\u001b[0m\u001b[0;34m,\u001b[0m \u001b[0mlabelsize\u001b[0m\u001b[0;34m=\u001b[0m\u001b[0mfontsize\u001b[0m\u001b[0;34m)\u001b[0m\u001b[0;34m\u001b[0m\u001b[0;34m\u001b[0m\u001b[0m\n",
      "\u001b[0;32m~/opt/anaconda3/lib/python3.7/site-packages/matplotlib/cbook/deprecation.py\u001b[0m in \u001b[0;36mwrapper\u001b[0;34m(*args, **kwargs)\u001b[0m\n\u001b[1;32m    305\u001b[0m                 f\"for the old name will be dropped %(removal)s.\")\n\u001b[1;32m    306\u001b[0m             \u001b[0mkwargs\u001b[0m\u001b[0;34m[\u001b[0m\u001b[0mnew\u001b[0m\u001b[0;34m]\u001b[0m \u001b[0;34m=\u001b[0m \u001b[0mkwargs\u001b[0m\u001b[0;34m.\u001b[0m\u001b[0mpop\u001b[0m\u001b[0;34m(\u001b[0m\u001b[0mold\u001b[0m\u001b[0;34m)\u001b[0m\u001b[0;34m\u001b[0m\u001b[0;34m\u001b[0m\u001b[0m\n\u001b[0;32m--> 307\u001b[0;31m         \u001b[0;32mreturn\u001b[0m \u001b[0mfunc\u001b[0m\u001b[0;34m(\u001b[0m\u001b[0;34m*\u001b[0m\u001b[0margs\u001b[0m\u001b[0;34m,\u001b[0m \u001b[0;34m**\u001b[0m\u001b[0mkwargs\u001b[0m\u001b[0;34m)\u001b[0m\u001b[0;34m\u001b[0m\u001b[0;34m\u001b[0m\u001b[0m\n\u001b[0m\u001b[1;32m    308\u001b[0m \u001b[0;34m\u001b[0m\u001b[0m\n\u001b[1;32m    309\u001b[0m     \u001b[0;31m# wrapper() must keep the same documented signature as func(): if we\u001b[0m\u001b[0;34m\u001b[0m\u001b[0;34m\u001b[0m\u001b[0;34m\u001b[0m\u001b[0m\n",
      "\u001b[0;32m~/opt/anaconda3/lib/python3.7/site-packages/matplotlib/__init__.py\u001b[0m in \u001b[0;36minner\u001b[0;34m(ax, data, *args, **kwargs)\u001b[0m\n\u001b[1;32m   1599\u001b[0m     \u001b[0;32mdef\u001b[0m \u001b[0minner\u001b[0m\u001b[0;34m(\u001b[0m\u001b[0max\u001b[0m\u001b[0;34m,\u001b[0m \u001b[0;34m*\u001b[0m\u001b[0margs\u001b[0m\u001b[0;34m,\u001b[0m \u001b[0mdata\u001b[0m\u001b[0;34m=\u001b[0m\u001b[0;32mNone\u001b[0m\u001b[0;34m,\u001b[0m \u001b[0;34m**\u001b[0m\u001b[0mkwargs\u001b[0m\u001b[0;34m)\u001b[0m\u001b[0;34m:\u001b[0m\u001b[0;34m\u001b[0m\u001b[0;34m\u001b[0m\u001b[0m\n\u001b[1;32m   1600\u001b[0m         \u001b[0;32mif\u001b[0m \u001b[0mdata\u001b[0m \u001b[0;32mis\u001b[0m \u001b[0;32mNone\u001b[0m\u001b[0;34m:\u001b[0m\u001b[0;34m\u001b[0m\u001b[0;34m\u001b[0m\u001b[0m\n\u001b[0;32m-> 1601\u001b[0;31m             \u001b[0;32mreturn\u001b[0m \u001b[0mfunc\u001b[0m\u001b[0;34m(\u001b[0m\u001b[0max\u001b[0m\u001b[0;34m,\u001b[0m \u001b[0;34m*\u001b[0m\u001b[0mmap\u001b[0m\u001b[0;34m(\u001b[0m\u001b[0msanitize_sequence\u001b[0m\u001b[0;34m,\u001b[0m \u001b[0margs\u001b[0m\u001b[0;34m)\u001b[0m\u001b[0;34m,\u001b[0m \u001b[0;34m**\u001b[0m\u001b[0mkwargs\u001b[0m\u001b[0;34m)\u001b[0m\u001b[0;34m\u001b[0m\u001b[0;34m\u001b[0m\u001b[0m\n\u001b[0m\u001b[1;32m   1602\u001b[0m \u001b[0;34m\u001b[0m\u001b[0m\n\u001b[1;32m   1603\u001b[0m         \u001b[0mbound\u001b[0m \u001b[0;34m=\u001b[0m \u001b[0mnew_sig\u001b[0m\u001b[0;34m.\u001b[0m\u001b[0mbind\u001b[0m\u001b[0;34m(\u001b[0m\u001b[0max\u001b[0m\u001b[0;34m,\u001b[0m \u001b[0;34m*\u001b[0m\u001b[0margs\u001b[0m\u001b[0;34m,\u001b[0m \u001b[0;34m**\u001b[0m\u001b[0mkwargs\u001b[0m\u001b[0;34m)\u001b[0m\u001b[0;34m\u001b[0m\u001b[0;34m\u001b[0m\u001b[0m\n",
      "\u001b[0;32m~/opt/anaconda3/lib/python3.7/site-packages/matplotlib/axes/_axes.py\u001b[0m in \u001b[0;36mboxplot\u001b[0;34m(self, x, notch, sym, vert, whis, positions, widths, patch_artist, bootstrap, usermedians, conf_intervals, meanline, showmeans, showcaps, showbox, showfliers, boxprops, labels, flierprops, medianprops, meanprops, capprops, whiskerprops, manage_ticks, autorange, zorder)\u001b[0m\n\u001b[1;32m   3770\u001b[0m                            \u001b[0mmeanline\u001b[0m\u001b[0;34m=\u001b[0m\u001b[0mmeanline\u001b[0m\u001b[0;34m,\u001b[0m \u001b[0mshowfliers\u001b[0m\u001b[0;34m=\u001b[0m\u001b[0mshowfliers\u001b[0m\u001b[0;34m,\u001b[0m\u001b[0;34m\u001b[0m\u001b[0;34m\u001b[0m\u001b[0m\n\u001b[1;32m   3771\u001b[0m                            \u001b[0mcapprops\u001b[0m\u001b[0;34m=\u001b[0m\u001b[0mcapprops\u001b[0m\u001b[0;34m,\u001b[0m \u001b[0mwhiskerprops\u001b[0m\u001b[0;34m=\u001b[0m\u001b[0mwhiskerprops\u001b[0m\u001b[0;34m,\u001b[0m\u001b[0;34m\u001b[0m\u001b[0;34m\u001b[0m\u001b[0m\n\u001b[0;32m-> 3772\u001b[0;31m                            manage_ticks=manage_ticks, zorder=zorder)\n\u001b[0m\u001b[1;32m   3773\u001b[0m         \u001b[0;32mreturn\u001b[0m \u001b[0martists\u001b[0m\u001b[0;34m\u001b[0m\u001b[0;34m\u001b[0m\u001b[0m\n\u001b[1;32m   3774\u001b[0m \u001b[0;34m\u001b[0m\u001b[0m\n",
      "\u001b[0;32m~/opt/anaconda3/lib/python3.7/site-packages/matplotlib/cbook/deprecation.py\u001b[0m in \u001b[0;36mwrapper\u001b[0;34m(*args, **kwargs)\u001b[0m\n\u001b[1;32m    305\u001b[0m                 f\"for the old name will be dropped %(removal)s.\")\n\u001b[1;32m    306\u001b[0m             \u001b[0mkwargs\u001b[0m\u001b[0;34m[\u001b[0m\u001b[0mnew\u001b[0m\u001b[0;34m]\u001b[0m \u001b[0;34m=\u001b[0m \u001b[0mkwargs\u001b[0m\u001b[0;34m.\u001b[0m\u001b[0mpop\u001b[0m\u001b[0;34m(\u001b[0m\u001b[0mold\u001b[0m\u001b[0;34m)\u001b[0m\u001b[0;34m\u001b[0m\u001b[0;34m\u001b[0m\u001b[0m\n\u001b[0;32m--> 307\u001b[0;31m         \u001b[0;32mreturn\u001b[0m \u001b[0mfunc\u001b[0m\u001b[0;34m(\u001b[0m\u001b[0;34m*\u001b[0m\u001b[0margs\u001b[0m\u001b[0;34m,\u001b[0m \u001b[0;34m**\u001b[0m\u001b[0mkwargs\u001b[0m\u001b[0;34m)\u001b[0m\u001b[0;34m\u001b[0m\u001b[0;34m\u001b[0m\u001b[0m\n\u001b[0m\u001b[1;32m    308\u001b[0m \u001b[0;34m\u001b[0m\u001b[0m\n\u001b[1;32m    309\u001b[0m     \u001b[0;31m# wrapper() must keep the same documented signature as func(): if we\u001b[0m\u001b[0;34m\u001b[0m\u001b[0;34m\u001b[0m\u001b[0;34m\u001b[0m\u001b[0m\n",
      "\u001b[0;32m~/opt/anaconda3/lib/python3.7/site-packages/matplotlib/axes/_axes.py\u001b[0m in \u001b[0;36mbxp\u001b[0;34m(self, bxpstats, positions, widths, vert, patch_artist, shownotches, showmeans, showcaps, showbox, showfliers, boxprops, whiskerprops, flierprops, medianprops, capprops, meanprops, meanline, manage_ticks, zorder)\u001b[0m\n\u001b[1;32m   4082\u001b[0m             \u001b[0;31m# draw the whiskers\u001b[0m\u001b[0;34m\u001b[0m\u001b[0;34m\u001b[0m\u001b[0;34m\u001b[0m\u001b[0m\n\u001b[1;32m   4083\u001b[0m             whiskers.extend(doplot(\n\u001b[0;32m-> 4084\u001b[0;31m                 \u001b[0mwhisker_x\u001b[0m\u001b[0;34m,\u001b[0m \u001b[0mwhiskerlo_y\u001b[0m\u001b[0;34m,\u001b[0m \u001b[0;34m**\u001b[0m\u001b[0mfinal_whiskerprops\u001b[0m\u001b[0;34m\u001b[0m\u001b[0;34m\u001b[0m\u001b[0m\n\u001b[0m\u001b[1;32m   4085\u001b[0m             ))\n\u001b[1;32m   4086\u001b[0m             whiskers.extend(doplot(\n",
      "\u001b[0;32m~/opt/anaconda3/lib/python3.7/site-packages/matplotlib/axes/_axes.py\u001b[0m in \u001b[0;36mdoplot\u001b[0;34m(*args, **kwargs)\u001b[0m\n\u001b[1;32m   3996\u001b[0m         \u001b[0;32mif\u001b[0m \u001b[0mvert\u001b[0m\u001b[0;34m:\u001b[0m\u001b[0;34m\u001b[0m\u001b[0;34m\u001b[0m\u001b[0m\n\u001b[1;32m   3997\u001b[0m             \u001b[0;32mdef\u001b[0m \u001b[0mdoplot\u001b[0m\u001b[0;34m(\u001b[0m\u001b[0;34m*\u001b[0m\u001b[0margs\u001b[0m\u001b[0;34m,\u001b[0m \u001b[0;34m**\u001b[0m\u001b[0mkwargs\u001b[0m\u001b[0;34m)\u001b[0m\u001b[0;34m:\u001b[0m\u001b[0;34m\u001b[0m\u001b[0;34m\u001b[0m\u001b[0m\n\u001b[0;32m-> 3998\u001b[0;31m                 \u001b[0;32mreturn\u001b[0m \u001b[0mself\u001b[0m\u001b[0;34m.\u001b[0m\u001b[0mplot\u001b[0m\u001b[0;34m(\u001b[0m\u001b[0;34m*\u001b[0m\u001b[0margs\u001b[0m\u001b[0;34m,\u001b[0m \u001b[0;34m**\u001b[0m\u001b[0mkwargs\u001b[0m\u001b[0;34m)\u001b[0m\u001b[0;34m\u001b[0m\u001b[0;34m\u001b[0m\u001b[0m\n\u001b[0m\u001b[1;32m   3999\u001b[0m \u001b[0;34m\u001b[0m\u001b[0m\n\u001b[1;32m   4000\u001b[0m             \u001b[0;32mdef\u001b[0m \u001b[0mdopatch\u001b[0m\u001b[0;34m(\u001b[0m\u001b[0mxs\u001b[0m\u001b[0;34m,\u001b[0m \u001b[0mys\u001b[0m\u001b[0;34m,\u001b[0m \u001b[0;34m**\u001b[0m\u001b[0mkwargs\u001b[0m\u001b[0;34m)\u001b[0m\u001b[0;34m:\u001b[0m\u001b[0;34m\u001b[0m\u001b[0;34m\u001b[0m\u001b[0m\n",
      "\u001b[0;32m~/opt/anaconda3/lib/python3.7/site-packages/matplotlib/axes/_axes.py\u001b[0m in \u001b[0;36mplot\u001b[0;34m(self, scalex, scaley, data, *args, **kwargs)\u001b[0m\n\u001b[1;32m   1667\u001b[0m         \u001b[0;32mfor\u001b[0m \u001b[0mline\u001b[0m \u001b[0;32min\u001b[0m \u001b[0mlines\u001b[0m\u001b[0;34m:\u001b[0m\u001b[0;34m\u001b[0m\u001b[0;34m\u001b[0m\u001b[0m\n\u001b[1;32m   1668\u001b[0m             \u001b[0mself\u001b[0m\u001b[0;34m.\u001b[0m\u001b[0madd_line\u001b[0m\u001b[0;34m(\u001b[0m\u001b[0mline\u001b[0m\u001b[0;34m)\u001b[0m\u001b[0;34m\u001b[0m\u001b[0;34m\u001b[0m\u001b[0m\n\u001b[0;32m-> 1669\u001b[0;31m         \u001b[0mself\u001b[0m\u001b[0;34m.\u001b[0m\u001b[0mautoscale_view\u001b[0m\u001b[0;34m(\u001b[0m\u001b[0mscalex\u001b[0m\u001b[0;34m=\u001b[0m\u001b[0mscalex\u001b[0m\u001b[0;34m,\u001b[0m \u001b[0mscaley\u001b[0m\u001b[0;34m=\u001b[0m\u001b[0mscaley\u001b[0m\u001b[0;34m)\u001b[0m\u001b[0;34m\u001b[0m\u001b[0;34m\u001b[0m\u001b[0m\n\u001b[0m\u001b[1;32m   1670\u001b[0m         \u001b[0;32mreturn\u001b[0m \u001b[0mlines\u001b[0m\u001b[0;34m\u001b[0m\u001b[0;34m\u001b[0m\u001b[0m\n\u001b[1;32m   1671\u001b[0m \u001b[0;34m\u001b[0m\u001b[0m\n",
      "\u001b[0;32m~/opt/anaconda3/lib/python3.7/site-packages/matplotlib/axes/_base.py\u001b[0m in \u001b[0;36mautoscale_view\u001b[0;34m(self, tight, scalex, scaley)\u001b[0m\n\u001b[1;32m   2496\u001b[0m         handle_single_axis(\n\u001b[1;32m   2497\u001b[0m             \u001b[0mscaley\u001b[0m\u001b[0;34m,\u001b[0m \u001b[0mself\u001b[0m\u001b[0;34m.\u001b[0m\u001b[0m_autoscaleYon\u001b[0m\u001b[0;34m,\u001b[0m \u001b[0mself\u001b[0m\u001b[0;34m.\u001b[0m\u001b[0m_shared_y_axes\u001b[0m\u001b[0;34m,\u001b[0m \u001b[0;34m'intervaly'\u001b[0m\u001b[0;34m,\u001b[0m\u001b[0;34m\u001b[0m\u001b[0;34m\u001b[0m\u001b[0m\n\u001b[0;32m-> 2498\u001b[0;31m             'minposy', self.yaxis, self._ymargin, y_stickies, self.set_ybound)\n\u001b[0m\u001b[1;32m   2499\u001b[0m \u001b[0;34m\u001b[0m\u001b[0m\n\u001b[1;32m   2500\u001b[0m     \u001b[0;32mdef\u001b[0m \u001b[0m_get_axis_list\u001b[0m\u001b[0;34m(\u001b[0m\u001b[0mself\u001b[0m\u001b[0;34m)\u001b[0m\u001b[0;34m:\u001b[0m\u001b[0;34m\u001b[0m\u001b[0;34m\u001b[0m\u001b[0m\n",
      "\u001b[0;32m~/opt/anaconda3/lib/python3.7/site-packages/matplotlib/axes/_base.py\u001b[0m in \u001b[0;36mhandle_single_axis\u001b[0;34m(scale, autoscaleon, shared_axes, interval, minpos, axis, margin, stickies, set_bound)\u001b[0m\n\u001b[1;32m   2447\u001b[0m                 \u001b[0mdl\u001b[0m\u001b[0;34m.\u001b[0m\u001b[0mextend\u001b[0m\u001b[0;34m(\u001b[0m\u001b[0my_finite\u001b[0m\u001b[0;34m)\u001b[0m\u001b[0;34m\u001b[0m\u001b[0;34m\u001b[0m\u001b[0m\n\u001b[1;32m   2448\u001b[0m \u001b[0;34m\u001b[0m\u001b[0m\n\u001b[0;32m-> 2449\u001b[0;31m             \u001b[0mbb\u001b[0m \u001b[0;34m=\u001b[0m \u001b[0mmtransforms\u001b[0m\u001b[0;34m.\u001b[0m\u001b[0mBboxBase\u001b[0m\u001b[0;34m.\u001b[0m\u001b[0munion\u001b[0m\u001b[0;34m(\u001b[0m\u001b[0mdl\u001b[0m\u001b[0;34m)\u001b[0m\u001b[0;34m\u001b[0m\u001b[0;34m\u001b[0m\u001b[0m\n\u001b[0m\u001b[1;32m   2450\u001b[0m             \u001b[0;31m# fall back on the viewlimits if this is not finite:\u001b[0m\u001b[0;34m\u001b[0m\u001b[0;34m\u001b[0m\u001b[0;34m\u001b[0m\u001b[0m\n\u001b[1;32m   2451\u001b[0m             \u001b[0mvl\u001b[0m \u001b[0;34m=\u001b[0m \u001b[0;32mNone\u001b[0m\u001b[0;34m\u001b[0m\u001b[0;34m\u001b[0m\u001b[0m\n",
      "\u001b[0;32m~/opt/anaconda3/lib/python3.7/site-packages/matplotlib/transforms.py\u001b[0m in \u001b[0;36munion\u001b[0;34m(bboxes)\u001b[0m\n\u001b[1;32m    704\u001b[0m         \u001b[0my0\u001b[0m \u001b[0;34m=\u001b[0m \u001b[0mnp\u001b[0m\u001b[0;34m.\u001b[0m\u001b[0mmin\u001b[0m\u001b[0;34m(\u001b[0m\u001b[0;34m[\u001b[0m\u001b[0mbbox\u001b[0m\u001b[0;34m.\u001b[0m\u001b[0mymin\u001b[0m \u001b[0;32mfor\u001b[0m \u001b[0mbbox\u001b[0m \u001b[0;32min\u001b[0m \u001b[0mbboxes\u001b[0m\u001b[0;34m]\u001b[0m\u001b[0;34m)\u001b[0m\u001b[0;34m\u001b[0m\u001b[0;34m\u001b[0m\u001b[0m\n\u001b[1;32m    705\u001b[0m         \u001b[0my1\u001b[0m \u001b[0;34m=\u001b[0m \u001b[0mnp\u001b[0m\u001b[0;34m.\u001b[0m\u001b[0mmax\u001b[0m\u001b[0;34m(\u001b[0m\u001b[0;34m[\u001b[0m\u001b[0mbbox\u001b[0m\u001b[0;34m.\u001b[0m\u001b[0mymax\u001b[0m \u001b[0;32mfor\u001b[0m \u001b[0mbbox\u001b[0m \u001b[0;32min\u001b[0m \u001b[0mbboxes\u001b[0m\u001b[0;34m]\u001b[0m\u001b[0;34m)\u001b[0m\u001b[0;34m\u001b[0m\u001b[0;34m\u001b[0m\u001b[0m\n\u001b[0;32m--> 706\u001b[0;31m         \u001b[0;32mreturn\u001b[0m \u001b[0mBbox\u001b[0m\u001b[0;34m(\u001b[0m\u001b[0;34m[\u001b[0m\u001b[0;34m[\u001b[0m\u001b[0mx0\u001b[0m\u001b[0;34m,\u001b[0m \u001b[0my0\u001b[0m\u001b[0;34m]\u001b[0m\u001b[0;34m,\u001b[0m \u001b[0;34m[\u001b[0m\u001b[0mx1\u001b[0m\u001b[0;34m,\u001b[0m \u001b[0my1\u001b[0m\u001b[0;34m]\u001b[0m\u001b[0;34m]\u001b[0m\u001b[0;34m)\u001b[0m\u001b[0;34m\u001b[0m\u001b[0;34m\u001b[0m\u001b[0m\n\u001b[0m\u001b[1;32m    707\u001b[0m \u001b[0;34m\u001b[0m\u001b[0m\n\u001b[1;32m    708\u001b[0m     \u001b[0;34m@\u001b[0m\u001b[0mstaticmethod\u001b[0m\u001b[0;34m\u001b[0m\u001b[0;34m\u001b[0m\u001b[0m\n",
      "\u001b[0;32m~/opt/anaconda3/lib/python3.7/site-packages/matplotlib/transforms.py\u001b[0m in \u001b[0;36m__init__\u001b[0;34m(self, points, **kwargs)\u001b[0m\n\u001b[1;32m    748\u001b[0m         \u001b[0;31m# default or has been mutated; we store the orig points to\u001b[0m\u001b[0;34m\u001b[0m\u001b[0;34m\u001b[0m\u001b[0;34m\u001b[0m\u001b[0m\n\u001b[1;32m    749\u001b[0m         \u001b[0;31m# support the mutated methods\u001b[0m\u001b[0;34m\u001b[0m\u001b[0;34m\u001b[0m\u001b[0;34m\u001b[0m\u001b[0m\n\u001b[0;32m--> 750\u001b[0;31m         \u001b[0mself\u001b[0m\u001b[0;34m.\u001b[0m\u001b[0m_points_orig\u001b[0m \u001b[0;34m=\u001b[0m \u001b[0mself\u001b[0m\u001b[0;34m.\u001b[0m\u001b[0m_points\u001b[0m\u001b[0;34m.\u001b[0m\u001b[0mcopy\u001b[0m\u001b[0;34m(\u001b[0m\u001b[0;34m)\u001b[0m\u001b[0;34m\u001b[0m\u001b[0;34m\u001b[0m\u001b[0m\n\u001b[0m\u001b[1;32m    751\u001b[0m     \u001b[0;32mif\u001b[0m \u001b[0mDEBUG\u001b[0m\u001b[0;34m:\u001b[0m\u001b[0;34m\u001b[0m\u001b[0;34m\u001b[0m\u001b[0m\n\u001b[1;32m    752\u001b[0m         \u001b[0m___init__\u001b[0m \u001b[0;34m=\u001b[0m \u001b[0m__init__\u001b[0m\u001b[0;34m\u001b[0m\u001b[0;34m\u001b[0m\u001b[0m\n",
      "\u001b[0;31mKeyboardInterrupt\u001b[0m: "
     ]
    },
    {
     "name": "stdout",
     "output_type": "stream",
     "text": [
      "Error in callback <function install_repl_displayhook.<locals>.post_execute at 0x11bb90cb0> (for post_execute):\n"
     ]
    },
    {
     "ename": "KeyboardInterrupt",
     "evalue": "",
     "output_type": "error",
     "traceback": [
      "\u001b[0;31m---------------------------------------------------------------------------\u001b[0m",
      "\u001b[0;31mKeyboardInterrupt\u001b[0m                         Traceback (most recent call last)",
      "\u001b[0;32m~/opt/anaconda3/lib/python3.7/site-packages/matplotlib/pyplot.py\u001b[0m in \u001b[0;36mpost_execute\u001b[0;34m()\u001b[0m\n\u001b[1;32m    107\u001b[0m             \u001b[0;32mdef\u001b[0m \u001b[0mpost_execute\u001b[0m\u001b[0;34m(\u001b[0m\u001b[0;34m)\u001b[0m\u001b[0;34m:\u001b[0m\u001b[0;34m\u001b[0m\u001b[0;34m\u001b[0m\u001b[0m\n\u001b[1;32m    108\u001b[0m                 \u001b[0;32mif\u001b[0m \u001b[0mmatplotlib\u001b[0m\u001b[0;34m.\u001b[0m\u001b[0mis_interactive\u001b[0m\u001b[0;34m(\u001b[0m\u001b[0;34m)\u001b[0m\u001b[0;34m:\u001b[0m\u001b[0;34m\u001b[0m\u001b[0;34m\u001b[0m\u001b[0m\n\u001b[0;32m--> 109\u001b[0;31m                     \u001b[0mdraw_all\u001b[0m\u001b[0;34m(\u001b[0m\u001b[0;34m)\u001b[0m\u001b[0;34m\u001b[0m\u001b[0;34m\u001b[0m\u001b[0m\n\u001b[0m\u001b[1;32m    110\u001b[0m \u001b[0;34m\u001b[0m\u001b[0m\n\u001b[1;32m    111\u001b[0m             \u001b[0;31m# IPython >= 2\u001b[0m\u001b[0;34m\u001b[0m\u001b[0;34m\u001b[0m\u001b[0;34m\u001b[0m\u001b[0m\n",
      "\u001b[0;32m~/opt/anaconda3/lib/python3.7/site-packages/matplotlib/_pylab_helpers.py\u001b[0m in \u001b[0;36mdraw_all\u001b[0;34m(cls, force)\u001b[0m\n\u001b[1;32m    126\u001b[0m         \u001b[0;32mfor\u001b[0m \u001b[0mf_mgr\u001b[0m \u001b[0;32min\u001b[0m \u001b[0mcls\u001b[0m\u001b[0;34m.\u001b[0m\u001b[0mget_all_fig_managers\u001b[0m\u001b[0;34m(\u001b[0m\u001b[0;34m)\u001b[0m\u001b[0;34m:\u001b[0m\u001b[0;34m\u001b[0m\u001b[0;34m\u001b[0m\u001b[0m\n\u001b[1;32m    127\u001b[0m             \u001b[0;32mif\u001b[0m \u001b[0mforce\u001b[0m \u001b[0;32mor\u001b[0m \u001b[0mf_mgr\u001b[0m\u001b[0;34m.\u001b[0m\u001b[0mcanvas\u001b[0m\u001b[0;34m.\u001b[0m\u001b[0mfigure\u001b[0m\u001b[0;34m.\u001b[0m\u001b[0mstale\u001b[0m\u001b[0;34m:\u001b[0m\u001b[0;34m\u001b[0m\u001b[0;34m\u001b[0m\u001b[0m\n\u001b[0;32m--> 128\u001b[0;31m                 \u001b[0mf_mgr\u001b[0m\u001b[0;34m.\u001b[0m\u001b[0mcanvas\u001b[0m\u001b[0;34m.\u001b[0m\u001b[0mdraw_idle\u001b[0m\u001b[0;34m(\u001b[0m\u001b[0;34m)\u001b[0m\u001b[0;34m\u001b[0m\u001b[0;34m\u001b[0m\u001b[0m\n\u001b[0m\u001b[1;32m    129\u001b[0m \u001b[0;34m\u001b[0m\u001b[0m\n\u001b[1;32m    130\u001b[0m \u001b[0matexit\u001b[0m\u001b[0;34m.\u001b[0m\u001b[0mregister\u001b[0m\u001b[0;34m(\u001b[0m\u001b[0mGcf\u001b[0m\u001b[0;34m.\u001b[0m\u001b[0mdestroy_all\u001b[0m\u001b[0;34m)\u001b[0m\u001b[0;34m\u001b[0m\u001b[0;34m\u001b[0m\u001b[0m\n",
      "\u001b[0;32m~/opt/anaconda3/lib/python3.7/site-packages/matplotlib/backend_bases.py\u001b[0m in \u001b[0;36mdraw_idle\u001b[0;34m(self, *args, **kwargs)\u001b[0m\n\u001b[1;32m   1905\u001b[0m         \u001b[0;32mif\u001b[0m \u001b[0;32mnot\u001b[0m \u001b[0mself\u001b[0m\u001b[0;34m.\u001b[0m\u001b[0m_is_idle_drawing\u001b[0m\u001b[0;34m:\u001b[0m\u001b[0;34m\u001b[0m\u001b[0;34m\u001b[0m\u001b[0m\n\u001b[1;32m   1906\u001b[0m             \u001b[0;32mwith\u001b[0m \u001b[0mself\u001b[0m\u001b[0;34m.\u001b[0m\u001b[0m_idle_draw_cntx\u001b[0m\u001b[0;34m(\u001b[0m\u001b[0;34m)\u001b[0m\u001b[0;34m:\u001b[0m\u001b[0;34m\u001b[0m\u001b[0;34m\u001b[0m\u001b[0m\n\u001b[0;32m-> 1907\u001b[0;31m                 \u001b[0mself\u001b[0m\u001b[0;34m.\u001b[0m\u001b[0mdraw\u001b[0m\u001b[0;34m(\u001b[0m\u001b[0;34m*\u001b[0m\u001b[0margs\u001b[0m\u001b[0;34m,\u001b[0m \u001b[0;34m**\u001b[0m\u001b[0mkwargs\u001b[0m\u001b[0;34m)\u001b[0m\u001b[0;34m\u001b[0m\u001b[0;34m\u001b[0m\u001b[0m\n\u001b[0m\u001b[1;32m   1908\u001b[0m \u001b[0;34m\u001b[0m\u001b[0m\n\u001b[1;32m   1909\u001b[0m     \u001b[0;32mdef\u001b[0m \u001b[0mdraw_cursor\u001b[0m\u001b[0;34m(\u001b[0m\u001b[0mself\u001b[0m\u001b[0;34m,\u001b[0m \u001b[0mevent\u001b[0m\u001b[0;34m)\u001b[0m\u001b[0;34m:\u001b[0m\u001b[0;34m\u001b[0m\u001b[0;34m\u001b[0m\u001b[0m\n",
      "\u001b[0;32m~/opt/anaconda3/lib/python3.7/site-packages/matplotlib/backends/backend_agg.py\u001b[0m in \u001b[0;36mdraw\u001b[0;34m(self)\u001b[0m\n\u001b[1;32m    386\u001b[0m         \u001b[0mself\u001b[0m\u001b[0;34m.\u001b[0m\u001b[0mrenderer\u001b[0m \u001b[0;34m=\u001b[0m \u001b[0mself\u001b[0m\u001b[0;34m.\u001b[0m\u001b[0mget_renderer\u001b[0m\u001b[0;34m(\u001b[0m\u001b[0mcleared\u001b[0m\u001b[0;34m=\u001b[0m\u001b[0;32mTrue\u001b[0m\u001b[0;34m)\u001b[0m\u001b[0;34m\u001b[0m\u001b[0;34m\u001b[0m\u001b[0m\n\u001b[1;32m    387\u001b[0m         \u001b[0;32mwith\u001b[0m \u001b[0mRendererAgg\u001b[0m\u001b[0;34m.\u001b[0m\u001b[0mlock\u001b[0m\u001b[0;34m:\u001b[0m\u001b[0;34m\u001b[0m\u001b[0;34m\u001b[0m\u001b[0m\n\u001b[0;32m--> 388\u001b[0;31m             \u001b[0mself\u001b[0m\u001b[0;34m.\u001b[0m\u001b[0mfigure\u001b[0m\u001b[0;34m.\u001b[0m\u001b[0mdraw\u001b[0m\u001b[0;34m(\u001b[0m\u001b[0mself\u001b[0m\u001b[0;34m.\u001b[0m\u001b[0mrenderer\u001b[0m\u001b[0;34m)\u001b[0m\u001b[0;34m\u001b[0m\u001b[0;34m\u001b[0m\u001b[0m\n\u001b[0m\u001b[1;32m    389\u001b[0m             \u001b[0;31m# A GUI class may be need to update a window using this draw, so\u001b[0m\u001b[0;34m\u001b[0m\u001b[0;34m\u001b[0m\u001b[0;34m\u001b[0m\u001b[0m\n\u001b[1;32m    390\u001b[0m             \u001b[0;31m# don't forget to call the superclass.\u001b[0m\u001b[0;34m\u001b[0m\u001b[0;34m\u001b[0m\u001b[0;34m\u001b[0m\u001b[0m\n",
      "\u001b[0;32m~/opt/anaconda3/lib/python3.7/site-packages/matplotlib/artist.py\u001b[0m in \u001b[0;36mdraw_wrapper\u001b[0;34m(artist, renderer, *args, **kwargs)\u001b[0m\n\u001b[1;32m     36\u001b[0m                 \u001b[0mrenderer\u001b[0m\u001b[0;34m.\u001b[0m\u001b[0mstart_filter\u001b[0m\u001b[0;34m(\u001b[0m\u001b[0;34m)\u001b[0m\u001b[0;34m\u001b[0m\u001b[0;34m\u001b[0m\u001b[0m\n\u001b[1;32m     37\u001b[0m \u001b[0;34m\u001b[0m\u001b[0m\n\u001b[0;32m---> 38\u001b[0;31m             \u001b[0;32mreturn\u001b[0m \u001b[0mdraw\u001b[0m\u001b[0;34m(\u001b[0m\u001b[0martist\u001b[0m\u001b[0;34m,\u001b[0m \u001b[0mrenderer\u001b[0m\u001b[0;34m,\u001b[0m \u001b[0;34m*\u001b[0m\u001b[0margs\u001b[0m\u001b[0;34m,\u001b[0m \u001b[0;34m**\u001b[0m\u001b[0mkwargs\u001b[0m\u001b[0;34m)\u001b[0m\u001b[0;34m\u001b[0m\u001b[0;34m\u001b[0m\u001b[0m\n\u001b[0m\u001b[1;32m     39\u001b[0m         \u001b[0;32mfinally\u001b[0m\u001b[0;34m:\u001b[0m\u001b[0;34m\u001b[0m\u001b[0;34m\u001b[0m\u001b[0m\n\u001b[1;32m     40\u001b[0m             \u001b[0;32mif\u001b[0m \u001b[0martist\u001b[0m\u001b[0;34m.\u001b[0m\u001b[0mget_agg_filter\u001b[0m\u001b[0;34m(\u001b[0m\u001b[0;34m)\u001b[0m \u001b[0;32mis\u001b[0m \u001b[0;32mnot\u001b[0m \u001b[0;32mNone\u001b[0m\u001b[0;34m:\u001b[0m\u001b[0;34m\u001b[0m\u001b[0;34m\u001b[0m\u001b[0m\n",
      "\u001b[0;32m~/opt/anaconda3/lib/python3.7/site-packages/matplotlib/figure.py\u001b[0m in \u001b[0;36mdraw\u001b[0;34m(self, renderer)\u001b[0m\n\u001b[1;32m   1707\u001b[0m             \u001b[0mself\u001b[0m\u001b[0;34m.\u001b[0m\u001b[0mpatch\u001b[0m\u001b[0;34m.\u001b[0m\u001b[0mdraw\u001b[0m\u001b[0;34m(\u001b[0m\u001b[0mrenderer\u001b[0m\u001b[0;34m)\u001b[0m\u001b[0;34m\u001b[0m\u001b[0;34m\u001b[0m\u001b[0m\n\u001b[1;32m   1708\u001b[0m             mimage._draw_list_compositing_images(\n\u001b[0;32m-> 1709\u001b[0;31m                 renderer, self, artists, self.suppressComposite)\n\u001b[0m\u001b[1;32m   1710\u001b[0m \u001b[0;34m\u001b[0m\u001b[0m\n\u001b[1;32m   1711\u001b[0m             \u001b[0mrenderer\u001b[0m\u001b[0;34m.\u001b[0m\u001b[0mclose_group\u001b[0m\u001b[0;34m(\u001b[0m\u001b[0;34m'figure'\u001b[0m\u001b[0;34m)\u001b[0m\u001b[0;34m\u001b[0m\u001b[0;34m\u001b[0m\u001b[0m\n",
      "\u001b[0;32m~/opt/anaconda3/lib/python3.7/site-packages/matplotlib/image.py\u001b[0m in \u001b[0;36m_draw_list_compositing_images\u001b[0;34m(renderer, parent, artists, suppress_composite)\u001b[0m\n\u001b[1;32m    133\u001b[0m     \u001b[0;32mif\u001b[0m \u001b[0mnot_composite\u001b[0m \u001b[0;32mor\u001b[0m \u001b[0;32mnot\u001b[0m \u001b[0mhas_images\u001b[0m\u001b[0;34m:\u001b[0m\u001b[0;34m\u001b[0m\u001b[0;34m\u001b[0m\u001b[0m\n\u001b[1;32m    134\u001b[0m         \u001b[0;32mfor\u001b[0m \u001b[0ma\u001b[0m \u001b[0;32min\u001b[0m \u001b[0martists\u001b[0m\u001b[0;34m:\u001b[0m\u001b[0;34m\u001b[0m\u001b[0;34m\u001b[0m\u001b[0m\n\u001b[0;32m--> 135\u001b[0;31m             \u001b[0ma\u001b[0m\u001b[0;34m.\u001b[0m\u001b[0mdraw\u001b[0m\u001b[0;34m(\u001b[0m\u001b[0mrenderer\u001b[0m\u001b[0;34m)\u001b[0m\u001b[0;34m\u001b[0m\u001b[0;34m\u001b[0m\u001b[0m\n\u001b[0m\u001b[1;32m    136\u001b[0m     \u001b[0;32melse\u001b[0m\u001b[0;34m:\u001b[0m\u001b[0;34m\u001b[0m\u001b[0;34m\u001b[0m\u001b[0m\n\u001b[1;32m    137\u001b[0m         \u001b[0;31m# Composite any adjacent images together\u001b[0m\u001b[0;34m\u001b[0m\u001b[0;34m\u001b[0m\u001b[0;34m\u001b[0m\u001b[0m\n",
      "\u001b[0;32m~/opt/anaconda3/lib/python3.7/site-packages/matplotlib/artist.py\u001b[0m in \u001b[0;36mdraw_wrapper\u001b[0;34m(artist, renderer, *args, **kwargs)\u001b[0m\n\u001b[1;32m     36\u001b[0m                 \u001b[0mrenderer\u001b[0m\u001b[0;34m.\u001b[0m\u001b[0mstart_filter\u001b[0m\u001b[0;34m(\u001b[0m\u001b[0;34m)\u001b[0m\u001b[0;34m\u001b[0m\u001b[0;34m\u001b[0m\u001b[0m\n\u001b[1;32m     37\u001b[0m \u001b[0;34m\u001b[0m\u001b[0m\n\u001b[0;32m---> 38\u001b[0;31m             \u001b[0;32mreturn\u001b[0m \u001b[0mdraw\u001b[0m\u001b[0;34m(\u001b[0m\u001b[0martist\u001b[0m\u001b[0;34m,\u001b[0m \u001b[0mrenderer\u001b[0m\u001b[0;34m,\u001b[0m \u001b[0;34m*\u001b[0m\u001b[0margs\u001b[0m\u001b[0;34m,\u001b[0m \u001b[0;34m**\u001b[0m\u001b[0mkwargs\u001b[0m\u001b[0;34m)\u001b[0m\u001b[0;34m\u001b[0m\u001b[0;34m\u001b[0m\u001b[0m\n\u001b[0m\u001b[1;32m     39\u001b[0m         \u001b[0;32mfinally\u001b[0m\u001b[0;34m:\u001b[0m\u001b[0;34m\u001b[0m\u001b[0;34m\u001b[0m\u001b[0m\n\u001b[1;32m     40\u001b[0m             \u001b[0;32mif\u001b[0m \u001b[0martist\u001b[0m\u001b[0;34m.\u001b[0m\u001b[0mget_agg_filter\u001b[0m\u001b[0;34m(\u001b[0m\u001b[0;34m)\u001b[0m \u001b[0;32mis\u001b[0m \u001b[0;32mnot\u001b[0m \u001b[0;32mNone\u001b[0m\u001b[0;34m:\u001b[0m\u001b[0;34m\u001b[0m\u001b[0;34m\u001b[0m\u001b[0m\n",
      "\u001b[0;32m~/opt/anaconda3/lib/python3.7/site-packages/matplotlib/axes/_base.py\u001b[0m in \u001b[0;36mdraw\u001b[0;34m(self, renderer, inframe)\u001b[0m\n\u001b[1;32m   2617\u001b[0m \u001b[0;34m\u001b[0m\u001b[0m\n\u001b[1;32m   2618\u001b[0m         \u001b[0;32mif\u001b[0m \u001b[0;32mnot\u001b[0m \u001b[0mself\u001b[0m\u001b[0;34m.\u001b[0m\u001b[0mfigure\u001b[0m\u001b[0;34m.\u001b[0m\u001b[0mcanvas\u001b[0m\u001b[0;34m.\u001b[0m\u001b[0mis_saving\u001b[0m\u001b[0;34m(\u001b[0m\u001b[0;34m)\u001b[0m\u001b[0;34m:\u001b[0m\u001b[0;34m\u001b[0m\u001b[0;34m\u001b[0m\u001b[0m\n\u001b[0;32m-> 2619\u001b[0;31m             artists = [a for a in artists\n\u001b[0m\u001b[1;32m   2620\u001b[0m                        if not a.get_animated() or a in self.images]\n\u001b[1;32m   2621\u001b[0m         \u001b[0martists\u001b[0m \u001b[0;34m=\u001b[0m \u001b[0msorted\u001b[0m\u001b[0;34m(\u001b[0m\u001b[0martists\u001b[0m\u001b[0;34m,\u001b[0m \u001b[0mkey\u001b[0m\u001b[0;34m=\u001b[0m\u001b[0mattrgetter\u001b[0m\u001b[0;34m(\u001b[0m\u001b[0;34m'zorder'\u001b[0m\u001b[0;34m)\u001b[0m\u001b[0;34m)\u001b[0m\u001b[0;34m\u001b[0m\u001b[0;34m\u001b[0m\u001b[0m\n",
      "\u001b[0;32m~/opt/anaconda3/lib/python3.7/site-packages/matplotlib/axes/_base.py\u001b[0m in \u001b[0;36m<listcomp>\u001b[0;34m(.0)\u001b[0m\n\u001b[1;32m   2618\u001b[0m         \u001b[0;32mif\u001b[0m \u001b[0;32mnot\u001b[0m \u001b[0mself\u001b[0m\u001b[0;34m.\u001b[0m\u001b[0mfigure\u001b[0m\u001b[0;34m.\u001b[0m\u001b[0mcanvas\u001b[0m\u001b[0;34m.\u001b[0m\u001b[0mis_saving\u001b[0m\u001b[0;34m(\u001b[0m\u001b[0;34m)\u001b[0m\u001b[0;34m:\u001b[0m\u001b[0;34m\u001b[0m\u001b[0;34m\u001b[0m\u001b[0m\n\u001b[1;32m   2619\u001b[0m             artists = [a for a in artists\n\u001b[0;32m-> 2620\u001b[0;31m                        if not a.get_animated() or a in self.images]\n\u001b[0m\u001b[1;32m   2621\u001b[0m         \u001b[0martists\u001b[0m \u001b[0;34m=\u001b[0m \u001b[0msorted\u001b[0m\u001b[0;34m(\u001b[0m\u001b[0martists\u001b[0m\u001b[0;34m,\u001b[0m \u001b[0mkey\u001b[0m\u001b[0;34m=\u001b[0m\u001b[0mattrgetter\u001b[0m\u001b[0;34m(\u001b[0m\u001b[0;34m'zorder'\u001b[0m\u001b[0;34m)\u001b[0m\u001b[0;34m)\u001b[0m\u001b[0;34m\u001b[0m\u001b[0;34m\u001b[0m\u001b[0m\n\u001b[1;32m   2622\u001b[0m \u001b[0;34m\u001b[0m\u001b[0m\n",
      "\u001b[0;32m~/opt/anaconda3/lib/python3.7/site-packages/matplotlib/artist.py\u001b[0m in \u001b[0;36mget_animated\u001b[0;34m(self)\u001b[0m\n\u001b[1;32m    772\u001b[0m         \u001b[0;32mreturn\u001b[0m \u001b[0mself\u001b[0m\u001b[0;34m.\u001b[0m\u001b[0m_visible\u001b[0m\u001b[0;34m\u001b[0m\u001b[0;34m\u001b[0m\u001b[0m\n\u001b[1;32m    773\u001b[0m \u001b[0;34m\u001b[0m\u001b[0m\n\u001b[0;32m--> 774\u001b[0;31m     \u001b[0;32mdef\u001b[0m \u001b[0mget_animated\u001b[0m\u001b[0;34m(\u001b[0m\u001b[0mself\u001b[0m\u001b[0;34m)\u001b[0m\u001b[0;34m:\u001b[0m\u001b[0;34m\u001b[0m\u001b[0;34m\u001b[0m\u001b[0m\n\u001b[0m\u001b[1;32m    775\u001b[0m         \u001b[0;34m\"\"\"Return the animated state.\"\"\"\u001b[0m\u001b[0;34m\u001b[0m\u001b[0;34m\u001b[0m\u001b[0m\n\u001b[1;32m    776\u001b[0m         \u001b[0;32mreturn\u001b[0m \u001b[0mself\u001b[0m\u001b[0;34m.\u001b[0m\u001b[0m_animated\u001b[0m\u001b[0;34m\u001b[0m\u001b[0;34m\u001b[0m\u001b[0m\n",
      "\u001b[0;31mKeyboardInterrupt\u001b[0m: "
     ]
    },
    {
     "name": "stdout",
     "output_type": "stream",
     "text": [
      "Error in callback <function flush_figures at 0x11bcf6200> (for post_execute):\n"
     ]
    },
    {
     "ename": "KeyboardInterrupt",
     "evalue": "",
     "output_type": "error",
     "traceback": [
      "\u001b[0;31m---------------------------------------------------------------------------\u001b[0m",
      "\u001b[0;31mKeyboardInterrupt\u001b[0m                         Traceback (most recent call last)",
      "\u001b[0;32m~/opt/anaconda3/lib/python3.7/site-packages/ipykernel/pylab/backend_inline.py\u001b[0m in \u001b[0;36mflush_figures\u001b[0;34m()\u001b[0m\n\u001b[1;32m    115\u001b[0m         \u001b[0;31m# ignore the tracking, just draw and close all figures\u001b[0m\u001b[0;34m\u001b[0m\u001b[0;34m\u001b[0m\u001b[0;34m\u001b[0m\u001b[0m\n\u001b[1;32m    116\u001b[0m         \u001b[0;32mtry\u001b[0m\u001b[0;34m:\u001b[0m\u001b[0;34m\u001b[0m\u001b[0;34m\u001b[0m\u001b[0m\n\u001b[0;32m--> 117\u001b[0;31m             \u001b[0;32mreturn\u001b[0m \u001b[0mshow\u001b[0m\u001b[0;34m(\u001b[0m\u001b[0;32mTrue\u001b[0m\u001b[0;34m)\u001b[0m\u001b[0;34m\u001b[0m\u001b[0;34m\u001b[0m\u001b[0m\n\u001b[0m\u001b[1;32m    118\u001b[0m         \u001b[0;32mexcept\u001b[0m \u001b[0mException\u001b[0m \u001b[0;32mas\u001b[0m \u001b[0me\u001b[0m\u001b[0;34m:\u001b[0m\u001b[0;34m\u001b[0m\u001b[0;34m\u001b[0m\u001b[0m\n\u001b[1;32m    119\u001b[0m             \u001b[0;31m# safely show traceback if in IPython, else raise\u001b[0m\u001b[0;34m\u001b[0m\u001b[0;34m\u001b[0m\u001b[0;34m\u001b[0m\u001b[0m\n",
      "\u001b[0;32m~/opt/anaconda3/lib/python3.7/site-packages/ipykernel/pylab/backend_inline.py\u001b[0m in \u001b[0;36mshow\u001b[0;34m(close, block)\u001b[0m\n\u001b[1;32m     37\u001b[0m             display(\n\u001b[1;32m     38\u001b[0m                 \u001b[0mfigure_manager\u001b[0m\u001b[0;34m.\u001b[0m\u001b[0mcanvas\u001b[0m\u001b[0;34m.\u001b[0m\u001b[0mfigure\u001b[0m\u001b[0;34m,\u001b[0m\u001b[0;34m\u001b[0m\u001b[0;34m\u001b[0m\u001b[0m\n\u001b[0;32m---> 39\u001b[0;31m                 \u001b[0mmetadata\u001b[0m\u001b[0;34m=\u001b[0m\u001b[0m_fetch_figure_metadata\u001b[0m\u001b[0;34m(\u001b[0m\u001b[0mfigure_manager\u001b[0m\u001b[0;34m.\u001b[0m\u001b[0mcanvas\u001b[0m\u001b[0;34m.\u001b[0m\u001b[0mfigure\u001b[0m\u001b[0;34m)\u001b[0m\u001b[0;34m\u001b[0m\u001b[0;34m\u001b[0m\u001b[0m\n\u001b[0m\u001b[1;32m     40\u001b[0m             )\n\u001b[1;32m     41\u001b[0m     \u001b[0;32mfinally\u001b[0m\u001b[0;34m:\u001b[0m\u001b[0;34m\u001b[0m\u001b[0;34m\u001b[0m\u001b[0m\n",
      "\u001b[0;32m~/opt/anaconda3/lib/python3.7/site-packages/ipykernel/pylab/backend_inline.py\u001b[0m in \u001b[0;36m_fetch_figure_metadata\u001b[0;34m(fig)\u001b[0m\n\u001b[1;32m    175\u001b[0m         \u001b[0;31m# the background is transparent\u001b[0m\u001b[0;34m\u001b[0m\u001b[0;34m\u001b[0m\u001b[0;34m\u001b[0m\u001b[0m\n\u001b[1;32m    176\u001b[0m         ticksLight = _is_light([label.get_color()\n\u001b[0;32m--> 177\u001b[0;31m                                 \u001b[0;32mfor\u001b[0m \u001b[0maxes\u001b[0m \u001b[0;32min\u001b[0m \u001b[0mfig\u001b[0m\u001b[0;34m.\u001b[0m\u001b[0maxes\u001b[0m\u001b[0;34m\u001b[0m\u001b[0;34m\u001b[0m\u001b[0m\n\u001b[0m\u001b[1;32m    178\u001b[0m                                 \u001b[0;32mfor\u001b[0m \u001b[0maxis\u001b[0m \u001b[0;32min\u001b[0m \u001b[0;34m(\u001b[0m\u001b[0maxes\u001b[0m\u001b[0;34m.\u001b[0m\u001b[0mxaxis\u001b[0m\u001b[0;34m,\u001b[0m \u001b[0maxes\u001b[0m\u001b[0;34m.\u001b[0m\u001b[0myaxis\u001b[0m\u001b[0;34m)\u001b[0m\u001b[0;34m\u001b[0m\u001b[0;34m\u001b[0m\u001b[0m\n\u001b[1;32m    179\u001b[0m                                 for label in axis.get_ticklabels()])\n",
      "\u001b[0;32m~/opt/anaconda3/lib/python3.7/site-packages/ipykernel/pylab/backend_inline.py\u001b[0m in \u001b[0;36m<listcomp>\u001b[0;34m(.0)\u001b[0m\n\u001b[1;32m    177\u001b[0m                                 \u001b[0;32mfor\u001b[0m \u001b[0maxes\u001b[0m \u001b[0;32min\u001b[0m \u001b[0mfig\u001b[0m\u001b[0;34m.\u001b[0m\u001b[0maxes\u001b[0m\u001b[0;34m\u001b[0m\u001b[0;34m\u001b[0m\u001b[0m\n\u001b[1;32m    178\u001b[0m                                 \u001b[0;32mfor\u001b[0m \u001b[0maxis\u001b[0m \u001b[0;32min\u001b[0m \u001b[0;34m(\u001b[0m\u001b[0maxes\u001b[0m\u001b[0;34m.\u001b[0m\u001b[0mxaxis\u001b[0m\u001b[0;34m,\u001b[0m \u001b[0maxes\u001b[0m\u001b[0;34m.\u001b[0m\u001b[0myaxis\u001b[0m\u001b[0;34m)\u001b[0m\u001b[0;34m\u001b[0m\u001b[0;34m\u001b[0m\u001b[0m\n\u001b[0;32m--> 179\u001b[0;31m                                 for label in axis.get_ticklabels()])\n\u001b[0m\u001b[1;32m    180\u001b[0m         \u001b[0;32mif\u001b[0m \u001b[0mticksLight\u001b[0m\u001b[0;34m.\u001b[0m\u001b[0msize\u001b[0m \u001b[0;32mand\u001b[0m \u001b[0;34m(\u001b[0m\u001b[0mticksLight\u001b[0m \u001b[0;34m==\u001b[0m \u001b[0mticksLight\u001b[0m\u001b[0;34m[\u001b[0m\u001b[0;36m0\u001b[0m\u001b[0;34m]\u001b[0m\u001b[0;34m)\u001b[0m\u001b[0;34m.\u001b[0m\u001b[0mall\u001b[0m\u001b[0;34m(\u001b[0m\u001b[0;34m)\u001b[0m\u001b[0;34m:\u001b[0m\u001b[0;34m\u001b[0m\u001b[0;34m\u001b[0m\u001b[0m\n\u001b[1;32m    181\u001b[0m             \u001b[0;31m# there are one or more tick labels, all with the same lightness\u001b[0m\u001b[0;34m\u001b[0m\u001b[0;34m\u001b[0m\u001b[0;34m\u001b[0m\u001b[0m\n",
      "\u001b[0;32m~/opt/anaconda3/lib/python3.7/site-packages/matplotlib/axis.py\u001b[0m in \u001b[0;36mget_ticklabels\u001b[0;34m(self, minor, which)\u001b[0m\n\u001b[1;32m   1294\u001b[0m         \u001b[0;32mif\u001b[0m \u001b[0mminor\u001b[0m\u001b[0;34m:\u001b[0m\u001b[0;34m\u001b[0m\u001b[0;34m\u001b[0m\u001b[0m\n\u001b[1;32m   1295\u001b[0m             \u001b[0;32mreturn\u001b[0m \u001b[0mself\u001b[0m\u001b[0;34m.\u001b[0m\u001b[0mget_minorticklabels\u001b[0m\u001b[0;34m(\u001b[0m\u001b[0;34m)\u001b[0m\u001b[0;34m\u001b[0m\u001b[0;34m\u001b[0m\u001b[0m\n\u001b[0;32m-> 1296\u001b[0;31m         \u001b[0;32mreturn\u001b[0m \u001b[0mself\u001b[0m\u001b[0;34m.\u001b[0m\u001b[0mget_majorticklabels\u001b[0m\u001b[0;34m(\u001b[0m\u001b[0;34m)\u001b[0m\u001b[0;34m\u001b[0m\u001b[0;34m\u001b[0m\u001b[0m\n\u001b[0m\u001b[1;32m   1297\u001b[0m \u001b[0;34m\u001b[0m\u001b[0m\n\u001b[1;32m   1298\u001b[0m     \u001b[0;32mdef\u001b[0m \u001b[0mget_majorticklines\u001b[0m\u001b[0;34m(\u001b[0m\u001b[0mself\u001b[0m\u001b[0;34m)\u001b[0m\u001b[0;34m:\u001b[0m\u001b[0;34m\u001b[0m\u001b[0;34m\u001b[0m\u001b[0m\n",
      "\u001b[0;32m~/opt/anaconda3/lib/python3.7/site-packages/matplotlib/axis.py\u001b[0m in \u001b[0;36mget_majorticklabels\u001b[0;34m(self)\u001b[0m\n\u001b[1;32m   1250\u001b[0m     \u001b[0;32mdef\u001b[0m \u001b[0mget_majorticklabels\u001b[0m\u001b[0;34m(\u001b[0m\u001b[0mself\u001b[0m\u001b[0;34m)\u001b[0m\u001b[0;34m:\u001b[0m\u001b[0;34m\u001b[0m\u001b[0;34m\u001b[0m\u001b[0m\n\u001b[1;32m   1251\u001b[0m         \u001b[0;34m'Return a list of Text instances for the major ticklabels.'\u001b[0m\u001b[0;34m\u001b[0m\u001b[0;34m\u001b[0m\u001b[0m\n\u001b[0;32m-> 1252\u001b[0;31m         \u001b[0mticks\u001b[0m \u001b[0;34m=\u001b[0m \u001b[0mself\u001b[0m\u001b[0;34m.\u001b[0m\u001b[0mget_major_ticks\u001b[0m\u001b[0;34m(\u001b[0m\u001b[0;34m)\u001b[0m\u001b[0;34m\u001b[0m\u001b[0;34m\u001b[0m\u001b[0m\n\u001b[0m\u001b[1;32m   1253\u001b[0m         \u001b[0mlabels1\u001b[0m \u001b[0;34m=\u001b[0m \u001b[0;34m[\u001b[0m\u001b[0mtick\u001b[0m\u001b[0;34m.\u001b[0m\u001b[0mlabel1\u001b[0m \u001b[0;32mfor\u001b[0m \u001b[0mtick\u001b[0m \u001b[0;32min\u001b[0m \u001b[0mticks\u001b[0m \u001b[0;32mif\u001b[0m \u001b[0mtick\u001b[0m\u001b[0;34m.\u001b[0m\u001b[0mlabel1\u001b[0m\u001b[0;34m.\u001b[0m\u001b[0mget_visible\u001b[0m\u001b[0;34m(\u001b[0m\u001b[0;34m)\u001b[0m\u001b[0;34m]\u001b[0m\u001b[0;34m\u001b[0m\u001b[0;34m\u001b[0m\u001b[0m\n\u001b[1;32m   1254\u001b[0m         \u001b[0mlabels2\u001b[0m \u001b[0;34m=\u001b[0m \u001b[0;34m[\u001b[0m\u001b[0mtick\u001b[0m\u001b[0;34m.\u001b[0m\u001b[0mlabel2\u001b[0m \u001b[0;32mfor\u001b[0m \u001b[0mtick\u001b[0m \u001b[0;32min\u001b[0m \u001b[0mticks\u001b[0m \u001b[0;32mif\u001b[0m \u001b[0mtick\u001b[0m\u001b[0;34m.\u001b[0m\u001b[0mlabel2\u001b[0m\u001b[0;34m.\u001b[0m\u001b[0mget_visible\u001b[0m\u001b[0;34m(\u001b[0m\u001b[0;34m)\u001b[0m\u001b[0;34m]\u001b[0m\u001b[0;34m\u001b[0m\u001b[0;34m\u001b[0m\u001b[0m\n",
      "\u001b[0;32m~/opt/anaconda3/lib/python3.7/site-packages/matplotlib/axis.py\u001b[0m in \u001b[0;36mget_major_ticks\u001b[0;34m(self, numticks)\u001b[0m\n\u001b[1;32m   1409\u001b[0m         \u001b[0;32mwhile\u001b[0m \u001b[0mlen\u001b[0m\u001b[0;34m(\u001b[0m\u001b[0mself\u001b[0m\u001b[0;34m.\u001b[0m\u001b[0mmajorTicks\u001b[0m\u001b[0;34m)\u001b[0m \u001b[0;34m<\u001b[0m \u001b[0mnumticks\u001b[0m\u001b[0;34m:\u001b[0m\u001b[0;34m\u001b[0m\u001b[0;34m\u001b[0m\u001b[0m\n\u001b[1;32m   1410\u001b[0m             \u001b[0;31m# Update the new tick label properties from the old.\u001b[0m\u001b[0;34m\u001b[0m\u001b[0;34m\u001b[0m\u001b[0;34m\u001b[0m\u001b[0m\n\u001b[0;32m-> 1411\u001b[0;31m             \u001b[0mtick\u001b[0m \u001b[0;34m=\u001b[0m \u001b[0mself\u001b[0m\u001b[0;34m.\u001b[0m\u001b[0m_get_tick\u001b[0m\u001b[0;34m(\u001b[0m\u001b[0mmajor\u001b[0m\u001b[0;34m=\u001b[0m\u001b[0;32mTrue\u001b[0m\u001b[0;34m)\u001b[0m\u001b[0;34m\u001b[0m\u001b[0;34m\u001b[0m\u001b[0m\n\u001b[0m\u001b[1;32m   1412\u001b[0m             \u001b[0mself\u001b[0m\u001b[0;34m.\u001b[0m\u001b[0mmajorTicks\u001b[0m\u001b[0;34m.\u001b[0m\u001b[0mappend\u001b[0m\u001b[0;34m(\u001b[0m\u001b[0mtick\u001b[0m\u001b[0;34m)\u001b[0m\u001b[0;34m\u001b[0m\u001b[0;34m\u001b[0m\u001b[0m\n\u001b[1;32m   1413\u001b[0m             \u001b[0mtick\u001b[0m\u001b[0;34m.\u001b[0m\u001b[0mgridline\u001b[0m\u001b[0;34m.\u001b[0m\u001b[0mset_visible\u001b[0m\u001b[0;34m(\u001b[0m\u001b[0mself\u001b[0m\u001b[0;34m.\u001b[0m\u001b[0m_gridOnMajor\u001b[0m\u001b[0;34m)\u001b[0m\u001b[0;34m\u001b[0m\u001b[0;34m\u001b[0m\u001b[0m\n",
      "\u001b[0;32m~/opt/anaconda3/lib/python3.7/site-packages/matplotlib/axis.py\u001b[0m in \u001b[0;36m_get_tick\u001b[0;34m(self, major)\u001b[0m\n\u001b[1;32m   1931\u001b[0m         \u001b[0;32melse\u001b[0m\u001b[0;34m:\u001b[0m\u001b[0;34m\u001b[0m\u001b[0;34m\u001b[0m\u001b[0m\n\u001b[1;32m   1932\u001b[0m             \u001b[0mtick_kw\u001b[0m \u001b[0;34m=\u001b[0m \u001b[0mself\u001b[0m\u001b[0;34m.\u001b[0m\u001b[0m_minor_tick_kw\u001b[0m\u001b[0;34m\u001b[0m\u001b[0;34m\u001b[0m\u001b[0m\n\u001b[0;32m-> 1933\u001b[0;31m         \u001b[0;32mreturn\u001b[0m \u001b[0mXTick\u001b[0m\u001b[0;34m(\u001b[0m\u001b[0mself\u001b[0m\u001b[0;34m.\u001b[0m\u001b[0maxes\u001b[0m\u001b[0;34m,\u001b[0m \u001b[0;36m0\u001b[0m\u001b[0;34m,\u001b[0m \u001b[0;34m''\u001b[0m\u001b[0;34m,\u001b[0m \u001b[0mmajor\u001b[0m\u001b[0;34m=\u001b[0m\u001b[0mmajor\u001b[0m\u001b[0;34m,\u001b[0m \u001b[0;34m**\u001b[0m\u001b[0mtick_kw\u001b[0m\u001b[0;34m)\u001b[0m\u001b[0;34m\u001b[0m\u001b[0;34m\u001b[0m\u001b[0m\n\u001b[0m\u001b[1;32m   1934\u001b[0m \u001b[0;34m\u001b[0m\u001b[0m\n\u001b[1;32m   1935\u001b[0m     \u001b[0;32mdef\u001b[0m \u001b[0m_get_label\u001b[0m\u001b[0;34m(\u001b[0m\u001b[0mself\u001b[0m\u001b[0;34m)\u001b[0m\u001b[0;34m:\u001b[0m\u001b[0;34m\u001b[0m\u001b[0;34m\u001b[0m\u001b[0m\n",
      "\u001b[0;32m~/opt/anaconda3/lib/python3.7/site-packages/matplotlib/axis.py\u001b[0m in \u001b[0;36m__init__\u001b[0;34m(self, axes, loc, label, size, width, color, tickdir, pad, labelsize, labelcolor, zorder, gridOn, tick1On, tick2On, label1On, label2On, major, labelrotation, grid_color, grid_linestyle, grid_linewidth, grid_alpha, **kw)\u001b[0m\n\u001b[1;32m    158\u001b[0m         \u001b[0mself\u001b[0m\u001b[0;34m.\u001b[0m\u001b[0mtick1line\u001b[0m \u001b[0;34m=\u001b[0m \u001b[0mself\u001b[0m\u001b[0;34m.\u001b[0m\u001b[0m_get_tick1line\u001b[0m\u001b[0;34m(\u001b[0m\u001b[0;34m)\u001b[0m\u001b[0;34m\u001b[0m\u001b[0;34m\u001b[0m\u001b[0m\n\u001b[1;32m    159\u001b[0m         \u001b[0mself\u001b[0m\u001b[0;34m.\u001b[0m\u001b[0mtick2line\u001b[0m \u001b[0;34m=\u001b[0m \u001b[0mself\u001b[0m\u001b[0;34m.\u001b[0m\u001b[0m_get_tick2line\u001b[0m\u001b[0;34m(\u001b[0m\u001b[0;34m)\u001b[0m\u001b[0;34m\u001b[0m\u001b[0;34m\u001b[0m\u001b[0m\n\u001b[0;32m--> 160\u001b[0;31m         \u001b[0mself\u001b[0m\u001b[0;34m.\u001b[0m\u001b[0mgridline\u001b[0m \u001b[0;34m=\u001b[0m \u001b[0mself\u001b[0m\u001b[0;34m.\u001b[0m\u001b[0m_get_gridline\u001b[0m\u001b[0;34m(\u001b[0m\u001b[0;34m)\u001b[0m\u001b[0;34m\u001b[0m\u001b[0;34m\u001b[0m\u001b[0m\n\u001b[0m\u001b[1;32m    161\u001b[0m         \u001b[0mself\u001b[0m\u001b[0;34m.\u001b[0m\u001b[0mlabel1\u001b[0m \u001b[0;34m=\u001b[0m \u001b[0mself\u001b[0m\u001b[0;34m.\u001b[0m\u001b[0m_get_text1\u001b[0m\u001b[0;34m(\u001b[0m\u001b[0;34m)\u001b[0m\u001b[0;34m\u001b[0m\u001b[0;34m\u001b[0m\u001b[0m\n\u001b[1;32m    162\u001b[0m         \u001b[0mself\u001b[0m\u001b[0;34m.\u001b[0m\u001b[0mlabel2\u001b[0m \u001b[0;34m=\u001b[0m \u001b[0mself\u001b[0m\u001b[0;34m.\u001b[0m\u001b[0m_get_text2\u001b[0m\u001b[0;34m(\u001b[0m\u001b[0;34m)\u001b[0m\u001b[0;34m\u001b[0m\u001b[0;34m\u001b[0m\u001b[0m\n",
      "\u001b[0;32m~/opt/anaconda3/lib/python3.7/site-packages/matplotlib/axis.py\u001b[0m in \u001b[0;36m_get_gridline\u001b[0;34m(self)\u001b[0m\n\u001b[1;32m    491\u001b[0m                           \u001b[0malpha\u001b[0m\u001b[0;34m=\u001b[0m\u001b[0mself\u001b[0m\u001b[0;34m.\u001b[0m\u001b[0m_grid_alpha\u001b[0m\u001b[0;34m,\u001b[0m\u001b[0;34m\u001b[0m\u001b[0;34m\u001b[0m\u001b[0m\n\u001b[1;32m    492\u001b[0m                           \u001b[0mmarkersize\u001b[0m\u001b[0;34m=\u001b[0m\u001b[0;36m0\u001b[0m\u001b[0;34m,\u001b[0m\u001b[0;34m\u001b[0m\u001b[0;34m\u001b[0m\u001b[0m\n\u001b[0;32m--> 493\u001b[0;31m                           **self._grid_kw)\n\u001b[0m\u001b[1;32m    494\u001b[0m         \u001b[0ml\u001b[0m\u001b[0;34m.\u001b[0m\u001b[0mset_transform\u001b[0m\u001b[0;34m(\u001b[0m\u001b[0mself\u001b[0m\u001b[0;34m.\u001b[0m\u001b[0maxes\u001b[0m\u001b[0;34m.\u001b[0m\u001b[0mget_xaxis_transform\u001b[0m\u001b[0;34m(\u001b[0m\u001b[0mwhich\u001b[0m\u001b[0;34m=\u001b[0m\u001b[0;34m'grid'\u001b[0m\u001b[0;34m)\u001b[0m\u001b[0;34m)\u001b[0m\u001b[0;34m\u001b[0m\u001b[0;34m\u001b[0m\u001b[0m\n\u001b[1;32m    495\u001b[0m         \u001b[0ml\u001b[0m\u001b[0;34m.\u001b[0m\u001b[0mget_path\u001b[0m\u001b[0;34m(\u001b[0m\u001b[0;34m)\u001b[0m\u001b[0;34m.\u001b[0m\u001b[0m_interpolation_steps\u001b[0m \u001b[0;34m=\u001b[0m \u001b[0mGRIDLINE_INTERPOLATION_STEPS\u001b[0m\u001b[0;34m\u001b[0m\u001b[0;34m\u001b[0m\u001b[0m\n",
      "\u001b[0;32m~/opt/anaconda3/lib/python3.7/site-packages/matplotlib/lines.py\u001b[0m in \u001b[0;36m__init__\u001b[0;34m(self, xdata, ydata, linewidth, linestyle, color, marker, markersize, markeredgewidth, markeredgecolor, markerfacecolor, markerfacecoloralt, fillstyle, antialiased, dash_capstyle, solid_capstyle, dash_joinstyle, solid_joinstyle, pickradius, drawstyle, markevery, **kwargs)\u001b[0m\n\u001b[1;32m    395\u001b[0m         \u001b[0mself\u001b[0m\u001b[0;34m.\u001b[0m\u001b[0m_markerfacecoloralt\u001b[0m \u001b[0;34m=\u001b[0m \u001b[0;32mNone\u001b[0m\u001b[0;34m\u001b[0m\u001b[0;34m\u001b[0m\u001b[0m\n\u001b[1;32m    396\u001b[0m \u001b[0;34m\u001b[0m\u001b[0m\n\u001b[0;32m--> 397\u001b[0;31m         \u001b[0mself\u001b[0m\u001b[0;34m.\u001b[0m\u001b[0mset_markerfacecolor\u001b[0m\u001b[0;34m(\u001b[0m\u001b[0mmarkerfacecolor\u001b[0m\u001b[0;34m)\u001b[0m\u001b[0;34m\u001b[0m\u001b[0;34m\u001b[0m\u001b[0m\n\u001b[0m\u001b[1;32m    398\u001b[0m         \u001b[0mself\u001b[0m\u001b[0;34m.\u001b[0m\u001b[0mset_markerfacecoloralt\u001b[0m\u001b[0;34m(\u001b[0m\u001b[0mmarkerfacecoloralt\u001b[0m\u001b[0;34m)\u001b[0m\u001b[0;34m\u001b[0m\u001b[0;34m\u001b[0m\u001b[0m\n\u001b[1;32m    399\u001b[0m         \u001b[0mself\u001b[0m\u001b[0;34m.\u001b[0m\u001b[0mset_markeredgecolor\u001b[0m\u001b[0;34m(\u001b[0m\u001b[0mmarkeredgecolor\u001b[0m\u001b[0;34m)\u001b[0m\u001b[0;34m\u001b[0m\u001b[0;34m\u001b[0m\u001b[0m\n",
      "\u001b[0;32m~/opt/anaconda3/lib/python3.7/site-packages/matplotlib/lines.py\u001b[0m in \u001b[0;36mset_markerfacecolor\u001b[0;34m(self, fc)\u001b[0m\n\u001b[1;32m   1249\u001b[0m         \u001b[0;32mif\u001b[0m \u001b[0mfc\u001b[0m \u001b[0;32mis\u001b[0m \u001b[0;32mNone\u001b[0m\u001b[0;34m:\u001b[0m\u001b[0;34m\u001b[0m\u001b[0;34m\u001b[0m\u001b[0m\n\u001b[1;32m   1250\u001b[0m             \u001b[0mfc\u001b[0m \u001b[0;34m=\u001b[0m \u001b[0;34m'auto'\u001b[0m\u001b[0;34m\u001b[0m\u001b[0;34m\u001b[0m\u001b[0m\n\u001b[0;32m-> 1251\u001b[0;31m         \u001b[0;32mif\u001b[0m \u001b[0mnp\u001b[0m\u001b[0;34m.\u001b[0m\u001b[0many\u001b[0m\u001b[0;34m(\u001b[0m\u001b[0mself\u001b[0m\u001b[0;34m.\u001b[0m\u001b[0m_markerfacecolor\u001b[0m \u001b[0;34m!=\u001b[0m \u001b[0mfc\u001b[0m\u001b[0;34m)\u001b[0m\u001b[0;34m:\u001b[0m\u001b[0;34m\u001b[0m\u001b[0;34m\u001b[0m\u001b[0m\n\u001b[0m\u001b[1;32m   1252\u001b[0m             \u001b[0mself\u001b[0m\u001b[0;34m.\u001b[0m\u001b[0mstale\u001b[0m \u001b[0;34m=\u001b[0m \u001b[0;32mTrue\u001b[0m\u001b[0;34m\u001b[0m\u001b[0;34m\u001b[0m\u001b[0m\n\u001b[1;32m   1253\u001b[0m         \u001b[0mself\u001b[0m\u001b[0;34m.\u001b[0m\u001b[0m_markerfacecolor\u001b[0m \u001b[0;34m=\u001b[0m \u001b[0mfc\u001b[0m\u001b[0;34m\u001b[0m\u001b[0;34m\u001b[0m\u001b[0m\n",
      "\u001b[0;32m<__array_function__ internals>\u001b[0m in \u001b[0;36many\u001b[0;34m(*args, **kwargs)\u001b[0m\n",
      "\u001b[0;32m~/opt/anaconda3/lib/python3.7/site-packages/numpy/core/fromnumeric.py\u001b[0m in \u001b[0;36many\u001b[0;34m(a, axis, out, keepdims)\u001b[0m\n\u001b[1;32m   2268\u001b[0m \u001b[0;34m\u001b[0m\u001b[0m\n\u001b[1;32m   2269\u001b[0m     \"\"\"\n\u001b[0;32m-> 2270\u001b[0;31m     \u001b[0;32mreturn\u001b[0m \u001b[0m_wrapreduction\u001b[0m\u001b[0;34m(\u001b[0m\u001b[0ma\u001b[0m\u001b[0;34m,\u001b[0m \u001b[0mnp\u001b[0m\u001b[0;34m.\u001b[0m\u001b[0mlogical_or\u001b[0m\u001b[0;34m,\u001b[0m \u001b[0;34m'any'\u001b[0m\u001b[0;34m,\u001b[0m \u001b[0maxis\u001b[0m\u001b[0;34m,\u001b[0m \u001b[0;32mNone\u001b[0m\u001b[0;34m,\u001b[0m \u001b[0mout\u001b[0m\u001b[0;34m,\u001b[0m \u001b[0mkeepdims\u001b[0m\u001b[0;34m=\u001b[0m\u001b[0mkeepdims\u001b[0m\u001b[0;34m)\u001b[0m\u001b[0;34m\u001b[0m\u001b[0;34m\u001b[0m\u001b[0m\n\u001b[0m\u001b[1;32m   2271\u001b[0m \u001b[0;34m\u001b[0m\u001b[0m\n\u001b[1;32m   2272\u001b[0m \u001b[0;34m\u001b[0m\u001b[0m\n",
      "\u001b[0;32m~/opt/anaconda3/lib/python3.7/site-packages/numpy/core/fromnumeric.py\u001b[0m in \u001b[0;36m_wrapreduction\u001b[0;34m(obj, ufunc, method, axis, dtype, out, **kwargs)\u001b[0m\n\u001b[1;32m     88\u001b[0m                 \u001b[0;32mreturn\u001b[0m \u001b[0mreduction\u001b[0m\u001b[0;34m(\u001b[0m\u001b[0maxis\u001b[0m\u001b[0;34m=\u001b[0m\u001b[0maxis\u001b[0m\u001b[0;34m,\u001b[0m \u001b[0mout\u001b[0m\u001b[0;34m=\u001b[0m\u001b[0mout\u001b[0m\u001b[0;34m,\u001b[0m \u001b[0;34m**\u001b[0m\u001b[0mpasskwargs\u001b[0m\u001b[0;34m)\u001b[0m\u001b[0;34m\u001b[0m\u001b[0;34m\u001b[0m\u001b[0m\n\u001b[1;32m     89\u001b[0m \u001b[0;34m\u001b[0m\u001b[0m\n\u001b[0;32m---> 90\u001b[0;31m     \u001b[0;32mreturn\u001b[0m \u001b[0mufunc\u001b[0m\u001b[0;34m.\u001b[0m\u001b[0mreduce\u001b[0m\u001b[0;34m(\u001b[0m\u001b[0mobj\u001b[0m\u001b[0;34m,\u001b[0m \u001b[0maxis\u001b[0m\u001b[0;34m,\u001b[0m \u001b[0mdtype\u001b[0m\u001b[0;34m,\u001b[0m \u001b[0mout\u001b[0m\u001b[0;34m,\u001b[0m \u001b[0;34m**\u001b[0m\u001b[0mpasskwargs\u001b[0m\u001b[0;34m)\u001b[0m\u001b[0;34m\u001b[0m\u001b[0;34m\u001b[0m\u001b[0m\n\u001b[0m\u001b[1;32m     91\u001b[0m \u001b[0;34m\u001b[0m\u001b[0m\n\u001b[1;32m     92\u001b[0m \u001b[0;34m\u001b[0m\u001b[0m\n",
      "\u001b[0;31mKeyboardInterrupt\u001b[0m: "
     ]
    }
   ],
   "source": [
    "dropped_news.boxplot(column=box_col, by='shares')"
   ]
  },
  {
   "cell_type": "code",
   "execution_count": 101,
   "metadata": {},
   "outputs": [],
   "source": [
    "# box_col = ['data_channel_is_lifestyle', 'data_channel_is_entertainment', 'data_channel_is_bus',\n",
    "#            'data_channel_is_socmed', 'data_channel_is_tech', 'data_channel_is_world']"
   ]
  },
  {
   "cell_type": "code",
   "execution_count": 107,
   "metadata": {
    "collapsed": true
   },
   "outputs": [
    {
     "data": {
      "text/plain": [
       "Index([' n_tokens_title', ' n_tokens_content', ' n_unique_tokens',\n",
       "       ' n_non_stop_words', ' n_non_stop_unique_tokens', ' num_hrefs',\n",
       "       ' num_self_hrefs', ' num_imgs', ' num_videos', ' average_token_length',\n",
       "       ' num_keywords', ' data_channel_is_lifestyle',\n",
       "       ' data_channel_is_entertainment', ' data_channel_is_bus',\n",
       "       ' data_channel_is_socmed', ' data_channel_is_tech',\n",
       "       ' data_channel_is_world', ' self_reference_avg_sharess',\n",
       "       ' weekday_is_monday', ' weekday_is_tuesday', ' weekday_is_wednesday',\n",
       "       ' weekday_is_thursday', ' weekday_is_friday', ' weekday_is_saturday',\n",
       "       ' weekday_is_sunday', ' is_weekend', ' LDA_00', ' LDA_01', ' LDA_02',\n",
       "       ' LDA_03', ' LDA_04', ' global_subjectivity',\n",
       "       ' global_sentiment_polarity', ' global_rate_positive_words',\n",
       "       ' global_rate_negative_words', ' rate_positive_words',\n",
       "       ' rate_negative_words', ' avg_positive_polarity',\n",
       "       ' avg_negative_polarity', ' title_subjectivity',\n",
       "       ' title_sentiment_polarity', ' abs_title_subjectivity',\n",
       "       ' abs_title_sentiment_polarity', ' shares', 'shares_log',\n",
       "       'shares_sqrt'],\n",
       "      dtype='object')"
      ]
     },
     "execution_count": 107,
     "metadata": {},
     "output_type": "execute_result"
    }
   ],
   "source": [
    "dropped_news.columns"
   ]
  },
  {
   "cell_type": "code",
   "execution_count": 109,
   "metadata": {
    "collapsed": true
   },
   "outputs": [
    {
     "data": {
      "text/plain": [
       "<matplotlib.axes._subplots.AxesSubplot at 0x1c758d6510>"
      ]
     },
     "execution_count": 109,
     "metadata": {},
     "output_type": "execute_result"
    },
    {
     "data": {
      "image/png": "[encoded data removed]",
      "text/plain": [
       "<Figure size 432x288 with 1 Axes>"
      ]
     },
     "metadata": {
      "needs_background": "light"
     },
     "output_type": "display_data"
    }
   ],
   "source": [
    "dropped_news.plot.scatter('is_weekend', 'shares')"
   ]
  },
  {
   "cell_type": "code",
   "execution_count": 139,
   "metadata": {
    "collapsed": true
   },
   "outputs": [
    {
     "data": {
      "text/plain": [
       "<matplotlib.axes._subplots.AxesSubplot at 0x1c6ca58590>"
      ]
     },
     "execution_count": 139,
     "metadata": {},
     "output_type": "execute_result"
    },
    {
     "data": {
      "image/png": "[encoded data removed]",
      "text/plain": [
       "<Figure size 432x288 with 1 Axes>"
      ]
     },
     "metadata": {
      "needs_background": "light"
     },
     "output_type": "display_data"
    }
   ],
   "source": [
    "dropped_news.plot.scatter('weekday_is_monday', 'shares')"
   ]
  },
  {
   "cell_type": "code",
   "execution_count": 140,
   "metadata": {
    "collapsed": true
   },
   "outputs": [
    {
     "data": {
      "text/plain": [
       "<matplotlib.axes._subplots.AxesSubplot at 0x1c6dc9fdd0>"
      ]
     },
     "execution_count": 140,
     "metadata": {},
     "output_type": "execute_result"
    },
    {
     "data": {
      "image/png": "[encoded data removed]",
      "text/plain": [
       "<Figure size 432x288 with 1 Axes>"
      ]
     },
     "metadata": {
      "needs_background": "light"
     },
     "output_type": "display_data"
    }
   ],
   "source": [
    "dropped_news.plot.scatter('LDA_00', 'shares')"
   ]
  },
  {
   "cell_type": "code",
   "execution_count": 141,
   "metadata": {
    "collapsed": true
   },
   "outputs": [
    {
     "data": {
      "text/plain": [
       "<matplotlib.axes._subplots.AxesSubplot at 0x1c6d982110>"
      ]
     },
     "execution_count": 141,
     "metadata": {},
     "output_type": "execute_result"
    },
    {
     "data": {
      "image/png": "[encoded data removed]",
      "text/plain": [
       "<Figure size 432x288 with 1 Axes>"
      ]
     },
     "metadata": {
      "needs_background": "light"
     },
     "output_type": "display_data"
    }
   ],
   "source": [
    "dropped_news.plot.scatter('LDA_01', 'shares')"
   ]
  },
  {
   "cell_type": "code",
   "execution_count": 142,
   "metadata": {
    "collapsed": true
   },
   "outputs": [
    {
     "data": {
      "text/plain": [
       "<matplotlib.axes._subplots.AxesSubplot at 0x1c6dae3c10>"
      ]
     },
     "execution_count": 142,
     "metadata": {},
     "output_type": "execute_result"
    },
    {
     "data": {
      "image/png": "[encoded data removed]",
      "text/plain": [
       "<Figure size 432x288 with 1 Axes>"
      ]
     },
     "metadata": {
      "needs_background": "light"
     },
     "output_type": "display_data"
    }
   ],
   "source": [
    "dropped_news.plot.scatter('LDA_02', 'shares')"
   ]
  },
  {
   "cell_type": "code",
   "execution_count": 143,
   "metadata": {
    "collapsed": true
   },
   "outputs": [
    {
     "data": {
      "text/plain": [
       "<matplotlib.axes._subplots.AxesSubplot at 0x1c6de89890>"
      ]
     },
     "execution_count": 143,
     "metadata": {},
     "output_type": "execute_result"
    },
    {
     "data": {
      "image/png": "[encoded data removed]",
      "text/plain": [
       "<Figure size 432x288 with 1 Axes>"
      ]
     },
     "metadata": {
      "needs_background": "light"
     },
     "output_type": "display_data"
    }
   ],
   "source": [
    "dropped_news.plot.scatter('LDA_03', 'shares')"
   ]
  },
  {
   "cell_type": "code",
   "execution_count": 144,
   "metadata": {
    "collapsed": true
   },
   "outputs": [
    {
     "data": {
      "text/plain": [
       "<matplotlib.axes._subplots.AxesSubplot at 0x1c6e043a90>"
      ]
     },
     "execution_count": 144,
     "metadata": {},
     "output_type": "execute_result"
    },
    {
     "data": {
      "image/png": "[encoded data removed]",
      "text/plain": [
       "<Figure size 432x288 with 1 Axes>"
      ]
     },
     "metadata": {
      "needs_background": "light"
     },
     "output_type": "display_data"
    }
   ],
   "source": [
    "dropped_news.plot.scatter('LDA_04', 'shares')"
   ]
  },
  {
   "cell_type": "code",
   "execution_count": 148,
   "metadata": {
    "collapsed": true
   },
   "outputs": [
    {
     "data": {
      "text/plain": [
       "<matplotlib.axes._subplots.AxesSubplot at 0x1c6e3100d0>"
      ]
     },
     "execution_count": 148,
     "metadata": {},
     "output_type": "execute_result"
    },
    {
     "data": {
      "image/png": "[encoded data removed]",
      "text/plain": [
       "<Figure size 432x288 with 1 Axes>"
      ]
     },
     "metadata": {
      "needs_background": "light"
     },
     "output_type": "display_data"
    }
   ],
   "source": [
    "dropped_news.plot.scatter('self_reference_avg_sharess', 'shares')\n",
    "# dropped_news.corr()"
   ]
  },
  {
   "cell_type": "code",
   "execution_count": 150,
   "metadata": {
    "collapsed": true
   },
   "outputs": [
    {
     "data": {
      "text/plain": [
       "<matplotlib.axes._subplots.AxesSubplot at 0x1c6dc352d0>"
      ]
     },
     "execution_count": 150,
     "metadata": {},
     "output_type": "execute_result"
    },
    {
     "data": {
      "image/png": "[encoded data removed]",
      "text/plain": [
       "<Figure size 432x288 with 1 Axes>"
      ]
     },
     "metadata": {
      "needs_background": "light"
     },
     "output_type": "display_data"
    }
   ],
   "source": [
    "dropped_news.plot.scatter('global_subjectivity', 'shares')\n",
    "# text subjectivity\n",
    "# if the text has no subjectivity then, on average it receives more shares than subjective text"
   ]
  },
  {
   "cell_type": "code",
   "execution_count": 151,
   "metadata": {
    "collapsed": true
   },
   "outputs": [
    {
     "data": {
      "text/plain": [
       "<matplotlib.axes._subplots.AxesSubplot at 0x1c6e5a2050>"
      ]
     },
     "execution_count": 151,
     "metadata": {},
     "output_type": "execute_result"
    },
    {
     "data": {
      "image/png": "[encoded data removed]",
      "text/plain": [
       "<Figure size 432x288 with 1 Axes>"
      ]
     },
     "metadata": {
      "needs_background": "light"
     },
     "output_type": "display_data"
    }
   ],
   "source": [
    "dropped_news.plot.scatter('global_sentiment_polarity', 'shares')\n",
    "# text sentiment polarity"
   ]
  },
  {
   "cell_type": "code",
   "execution_count": 152,
   "metadata": {
    "collapsed": true
   },
   "outputs": [
    {
     "data": {
      "text/plain": [
       "<matplotlib.axes._subplots.AxesSubplot at 0x1c6ec38710>"
      ]
     },
     "execution_count": 152,
     "metadata": {},
     "output_type": "execute_result"
    },
    {
     "data": {
      "image/png": "[encoded data removed]",
      "text/plain": [
       "<Figure size 432x288 with 1 Axes>"
      ]
     },
     "metadata": {
      "needs_background": "light"
     },
     "output_type": "display_data"
    }
   ],
   "source": [
    "dropped_news.plot.scatter('global_rate_positive_words', 'shares')\n",
    "\n",
    "# an article is on average more likely to be shared if there are no positive words in the article, but\n",
    "# articles with more positive words are shared more often than articles with negative words (on average)"
   ]
  },
  {
   "cell_type": "code",
   "execution_count": 153,
   "metadata": {
    "collapsed": true
   },
   "outputs": [
    {
     "data": {
      "text/plain": [
       "<matplotlib.axes._subplots.AxesSubplot at 0x1c6e8b3310>"
      ]
     },
     "execution_count": 153,
     "metadata": {},
     "output_type": "execute_result"
    },
    {
     "data": {
      "image/png": "[encoded data removed]",
      "text/plain": [
       "<Figure size 432x288 with 1 Axes>"
      ]
     },
     "metadata": {
      "needs_background": "light"
     },
     "output_type": "display_data"
    }
   ],
   "source": [
    "dropped_news.plot.scatter('global_rate_negative_words', 'shares')"
   ]
  },
  {
   "cell_type": "code",
   "execution_count": 154,
   "metadata": {
    "collapsed": true
   },
   "outputs": [
    {
     "data": {
      "text/plain": [
       "<matplotlib.axes._subplots.AxesSubplot at 0x1c6e808410>"
      ]
     },
     "execution_count": 154,
     "metadata": {},
     "output_type": "execute_result"
    },
    {
     "data": {
      "image/png": "[encoded data removed]",
      "text/plain": [
       "<Figure size 432x288 with 1 Axes>"
      ]
     },
     "metadata": {
      "needs_background": "light"
     },
     "output_type": "display_data"
    }
   ],
   "source": [
    "dropped_news.plot.scatter('rate_positive_words', 'shares')\n",
    "# higher rate of positive words than negative words"
   ]
  },
  {
   "cell_type": "code",
   "execution_count": 155,
   "metadata": {
    "collapsed": true
   },
   "outputs": [
    {
     "data": {
      "text/plain": [
       "<matplotlib.axes._subplots.AxesSubplot at 0x1c6f24e690>"
      ]
     },
     "execution_count": 155,
     "metadata": {},
     "output_type": "execute_result"
    },
    {
     "data": {
      "image/png": "[encoded data removed]",
      "text/plain": [
       "<Figure size 432x288 with 1 Axes>"
      ]
     },
     "metadata": {
      "needs_background": "light"
     },
     "output_type": "display_data"
    }
   ],
   "source": [
    "dropped_news.plot.scatter('rate_negative_words', 'shares')"
   ]
  },
  {
   "cell_type": "code",
   "execution_count": 156,
   "metadata": {
    "collapsed": true
   },
   "outputs": [
    {
     "data": {
      "text/plain": [
       "<matplotlib.axes._subplots.AxesSubplot at 0x1c6f1d9c10>"
      ]
     },
     "execution_count": 156,
     "metadata": {},
     "output_type": "execute_result"
    },
    {
     "data": {
      "image/png": "[encoded data removed]",
      "text/plain": [
       "<Figure size 432x288 with 1 Axes>"
      ]
     },
     "metadata": {
      "needs_background": "light"
     },
     "output_type": "display_data"
    }
   ],
   "source": [
    "dropped_news.plot.scatter('avg_positive_polarity', 'shares')"
   ]
  },
  {
   "cell_type": "code",
   "execution_count": 157,
   "metadata": {
    "collapsed": true
   },
   "outputs": [
    {
     "data": {
      "text/plain": [
       "<matplotlib.axes._subplots.AxesSubplot at 0x1c6f63c790>"
      ]
     },
     "execution_count": 157,
     "metadata": {},
     "output_type": "execute_result"
    },
    {
     "data": {
      "image/png": "[encoded data removed]",
      "text/plain": [
       "<Figure size 432x288 with 1 Axes>"
      ]
     },
     "metadata": {
      "needs_background": "light"
     },
     "output_type": "display_data"
    }
   ],
   "source": [
    "dropped_news.plot.scatter('avg_negative_polarity', 'shares')"
   ]
  },
  {
   "cell_type": "code",
   "execution_count": 158,
   "metadata": {
    "collapsed": true
   },
   "outputs": [
    {
     "data": {
      "text/plain": [
       "<matplotlib.axes._subplots.AxesSubplot at 0x1c6f386490>"
      ]
     },
     "execution_count": 158,
     "metadata": {},
     "output_type": "execute_result"
    },
    {
     "data": {
      "image/png": "[encoded data removed]",
      "text/plain": [
       "<Figure size 432x288 with 1 Axes>"
      ]
     },
     "metadata": {
      "needs_background": "light"
     },
     "output_type": "display_data"
    }
   ],
   "source": [
    "dropped_news.plot.scatter('title_subjectivity', 'shares')"
   ]
  },
  {
   "cell_type": "code",
   "execution_count": 159,
   "metadata": {
    "collapsed": true
   },
   "outputs": [
    {
     "data": {
      "text/plain": [
       "<matplotlib.axes._subplots.AxesSubplot at 0x1c6fd01ad0>"
      ]
     },
     "execution_count": 159,
     "metadata": {},
     "output_type": "execute_result"
    },
    {
     "data": {
      "image/png": "[encoded data removed]",
      "text/plain": [
       "<Figure size 432x288 with 1 Axes>"
      ]
     },
     "metadata": {
      "needs_background": "light"
     },
     "output_type": "display_data"
    }
   ],
   "source": [
    "dropped_news.plot.scatter('title_sentiment_polarity', 'shares')"
   ]
  },
  {
   "cell_type": "code",
   "execution_count": 160,
   "metadata": {
    "collapsed": true
   },
   "outputs": [
    {
     "data": {
      "text/plain": [
       "<matplotlib.axes._subplots.AxesSubplot at 0x1c6ffad7d0>"
      ]
     },
     "execution_count": 160,
     "metadata": {},
     "output_type": "execute_result"
    },
    {
     "data": {
      "image/png": "[encoded data removed]",
      "text/plain": [
       "<Figure size 432x288 with 1 Axes>"
      ]
     },
     "metadata": {
      "needs_background": "light"
     },
     "output_type": "display_data"
    }
   ],
   "source": [
    "dropped_news.plot.scatter('abs_title_subjectivity', 'shares')"
   ]
  },
  {
   "cell_type": "code",
   "execution_count": 161,
   "metadata": {
    "collapsed": true
   },
   "outputs": [
    {
     "data": {
      "text/plain": [
       "<matplotlib.axes._subplots.AxesSubplot at 0x1c6e8e8b90>"
      ]
     },
     "execution_count": 161,
     "metadata": {},
     "output_type": "execute_result"
    },
    {
     "data": {
      "image/png": "[encoded data removed]",
      "text/plain": [
       "<Figure size 432x288 with 1 Axes>"
      ]
     },
     "metadata": {
      "needs_background": "light"
     },
     "output_type": "display_data"
    }
   ],
   "source": [
    "dropped_news.plot.scatter('abs_title_sentiment_polarity', 'shares')"
   ]
  },
  {
   "cell_type": "code",
   "execution_count": null,
   "metadata": {},
   "outputs": [],
   "source": []
  },
  {
   "cell_type": "markdown",
   "metadata": {},
   "source": [
    "#  ols models for categorical variables"
   ]
  },
  {
   "cell_type": "code",
   "execution_count": 15,
   "metadata": {
    "collapsed": true
   },
   "outputs": [
    {
     "data": {
      "text/html": [
       "<table class=\"simpletable\">\n",
       "<caption>OLS Regression Results</caption>\n",
       "<tr>\n",
       "  <th>Dep. Variable:</th>         <td>shares</td>      <th>  R-squared:         </th>  <td>   0.000</td>  \n",
       "</tr>\n",
       "<tr>\n",
       "  <th>Model:</th>                   <td>OLS</td>       <th>  Adj. R-squared:    </th>  <td>   0.000</td>  \n",
       "</tr>\n",
       "<tr>\n",
       "  <th>Method:</th>             <td>Least Squares</td>  <th>  F-statistic:       </th>  <td>   2.788</td>  \n",
       "</tr>\n",
       "<tr>\n",
       "  <th>Date:</th>             <td>Wed, 06 May 2020</td> <th>  Prob (F-statistic):</th>   <td>0.00673</td>  \n",
       "</tr>\n",
       "<tr>\n",
       "  <th>Time:</th>                 <td>21:51:02</td>     <th>  Log-Likelihood:    </th> <td>-4.2735e+05</td>\n",
       "</tr>\n",
       "<tr>\n",
       "  <th>No. Observations:</th>      <td> 39644</td>      <th>  AIC:               </th>  <td>8.547e+05</td> \n",
       "</tr>\n",
       "<tr>\n",
       "  <th>Df Residuals:</th>          <td> 39636</td>      <th>  BIC:               </th>  <td>8.548e+05</td> \n",
       "</tr>\n",
       "<tr>\n",
       "  <th>Df Model:</th>              <td>     7</td>      <th>                     </th>      <td> </td>     \n",
       "</tr>\n",
       "<tr>\n",
       "  <th>Covariance Type:</th>      <td>nonrobust</td>    <th>                     </th>      <td> </td>     \n",
       "</tr>\n",
       "</table>\n",
       "<table class=\"simpletable\">\n",
       "<tr>\n",
       "            <td></td>              <th>coef</th>     <th>std err</th>      <th>t</th>      <th>P>|t|</th>  <th>[0.025</th>    <th>0.975]</th>  \n",
       "</tr>\n",
       "<tr>\n",
       "  <th>Intercept</th>            <td>-1.804e+15</td> <td> 5.74e+15</td> <td>   -0.314</td> <td> 0.753</td> <td>-1.31e+16</td> <td> 9.45e+15</td>\n",
       "</tr>\n",
       "<tr>\n",
       "  <th>weekday_is_monday</th>    <td> 1.804e+15</td> <td> 5.74e+15</td> <td>    0.314</td> <td> 0.753</td> <td>-9.45e+15</td> <td> 1.31e+16</td>\n",
       "</tr>\n",
       "<tr>\n",
       "  <th>weekday_is_tuesday</th>   <td> 1.804e+15</td> <td> 5.74e+15</td> <td>    0.314</td> <td> 0.753</td> <td>-9.45e+15</td> <td> 1.31e+16</td>\n",
       "</tr>\n",
       "<tr>\n",
       "  <th>weekday_is_wednesday</th> <td> 1.804e+15</td> <td> 5.74e+15</td> <td>    0.314</td> <td> 0.753</td> <td>-9.45e+15</td> <td> 1.31e+16</td>\n",
       "</tr>\n",
       "<tr>\n",
       "  <th>weekday_is_thursday</th>  <td> 1.804e+15</td> <td> 5.74e+15</td> <td>    0.314</td> <td> 0.753</td> <td>-9.45e+15</td> <td> 1.31e+16</td>\n",
       "</tr>\n",
       "<tr>\n",
       "  <th>weekday_is_friday</th>    <td> 1.804e+15</td> <td> 5.74e+15</td> <td>    0.314</td> <td> 0.753</td> <td>-9.45e+15</td> <td> 1.31e+16</td>\n",
       "</tr>\n",
       "<tr>\n",
       "  <th>weekday_is_saturday</th>  <td> 1.804e+15</td> <td> 5.74e+15</td> <td>    0.314</td> <td> 0.753</td> <td>-9.45e+15</td> <td> 1.31e+16</td>\n",
       "</tr>\n",
       "<tr>\n",
       "  <th>weekday_is_sunday</th>    <td> 1.804e+15</td> <td> 5.74e+15</td> <td>    0.314</td> <td> 0.753</td> <td>-9.45e+15</td> <td> 1.31e+16</td>\n",
       "</tr>\n",
       "</table>\n",
       "<table class=\"simpletable\">\n",
       "<tr>\n",
       "  <th>Omnibus:</th>       <td>108124.645</td> <th>  Durbin-Watson:     </th>    <td>   1.996</td>   \n",
       "</tr>\n",
       "<tr>\n",
       "  <th>Prob(Omnibus):</th>   <td> 0.000</td>   <th>  Jarque-Bera (JB):  </th> <td>5559098262.753</td>\n",
       "</tr>\n",
       "<tr>\n",
       "  <th>Skew:</th>            <td>33.975</td>   <th>  Prob(JB):          </th>    <td>    0.00</td>   \n",
       "</tr>\n",
       "<tr>\n",
       "  <th>Kurtosis:</th>       <td>1836.247</td>  <th>  Cond. No.          </th>    <td>3.00e+14</td>   \n",
       "</tr>\n",
       "</table><br/><br/>Warnings:<br/>[1] Standard Errors assume that the covariance matrix of the errors is correctly specified.<br/>[2] The smallest eigenvalue is 5.12e-25. This might indicate that there are<br/>strong multicollinearity problems or that the design matrix is singular."
      ],
      "text/plain": [
       "<class 'statsmodels.iolib.summary.Summary'>\n",
       "\"\"\"\n",
       "                            OLS Regression Results                            \n",
       "==============================================================================\n",
       "Dep. Variable:                 shares   R-squared:                       0.000\n",
       "Model:                            OLS   Adj. R-squared:                  0.000\n",
       "Method:                 Least Squares   F-statistic:                     2.788\n",
       "Date:                Wed, 06 May 2020   Prob (F-statistic):            0.00673\n",
       "Time:                        21:51:02   Log-Likelihood:            -4.2735e+05\n",
       "No. Observations:               39644   AIC:                         8.547e+05\n",
       "Df Residuals:                   39636   BIC:                         8.548e+05\n",
       "Df Model:                           7                                         \n",
       "Covariance Type:            nonrobust                                         \n",
       "========================================================================================\n",
       "                           coef    std err          t      P>|t|      [0.025      0.975]\n",
       "----------------------------------------------------------------------------------------\n",
       "Intercept            -1.804e+15   5.74e+15     -0.314      0.753   -1.31e+16    9.45e+15\n",
       "weekday_is_monday     1.804e+15   5.74e+15      0.314      0.753   -9.45e+15    1.31e+16\n",
       "weekday_is_tuesday    1.804e+15   5.74e+15      0.314      0.753   -9.45e+15    1.31e+16\n",
       "weekday_is_wednesday  1.804e+15   5.74e+15      0.314      0.753   -9.45e+15    1.31e+16\n",
       "weekday_is_thursday   1.804e+15   5.74e+15      0.314      0.753   -9.45e+15    1.31e+16\n",
       "weekday_is_friday     1.804e+15   5.74e+15      0.314      0.753   -9.45e+15    1.31e+16\n",
       "weekday_is_saturday   1.804e+15   5.74e+15      0.314      0.753   -9.45e+15    1.31e+16\n",
       "weekday_is_sunday     1.804e+15   5.74e+15      0.314      0.753   -9.45e+15    1.31e+16\n",
       "==============================================================================\n",
       "Omnibus:                   108124.645   Durbin-Watson:                   1.996\n",
       "Prob(Omnibus):                  0.000   Jarque-Bera (JB):       5559098262.753\n",
       "Skew:                          33.975   Prob(JB):                         0.00\n",
       "Kurtosis:                    1836.247   Cond. No.                     3.00e+14\n",
       "==============================================================================\n",
       "\n",
       "Warnings:\n",
       "[1] Standard Errors assume that the covariance matrix of the errors is correctly specified.\n",
       "[2] The smallest eigenvalue is 5.12e-25. This might indicate that there are\n",
       "strong multicollinearity problems or that the design matrix is singular.\n",
       "\"\"\""
      ]
     },
     "execution_count": 15,
     "metadata": {},
     "output_type": "execute_result"
    }
   ],
   "source": [
    "day_ols = ols(formula='shares~weekday_is_monday+weekday_is_tuesday+weekday_is_wednesday+weekday_is_thursday+weekday_is_friday+weekday_is_saturday+weekday_is_sunday',\n",
    "              data=dropped_news).fit()\n",
    "day_ols.summary()"
   ]
  },
  {
   "cell_type": "code",
   "execution_count": 16,
   "metadata": {
    "collapsed": true
   },
   "outputs": [
    {
     "data": {
      "text/html": [
       "<table class=\"simpletable\">\n",
       "<caption>OLS Regression Results</caption>\n",
       "<tr>\n",
       "  <th>Dep. Variable:</th>         <td>shares</td>      <th>  R-squared:         </th>  <td>   0.008</td>  \n",
       "</tr>\n",
       "<tr>\n",
       "  <th>Model:</th>                   <td>OLS</td>       <th>  Adj. R-squared:    </th>  <td>   0.008</td>  \n",
       "</tr>\n",
       "<tr>\n",
       "  <th>Method:</th>             <td>Least Squares</td>  <th>  F-statistic:       </th>  <td>   66.04</td>  \n",
       "</tr>\n",
       "<tr>\n",
       "  <th>Date:</th>             <td>Wed, 06 May 2020</td> <th>  Prob (F-statistic):</th>  <td>6.19e-69</td>  \n",
       "</tr>\n",
       "<tr>\n",
       "  <th>Time:</th>                 <td>21:51:03</td>     <th>  Log-Likelihood:    </th> <td>-4.2720e+05</td>\n",
       "</tr>\n",
       "<tr>\n",
       "  <th>No. Observations:</th>      <td> 39644</td>      <th>  AIC:               </th>  <td>8.544e+05</td> \n",
       "</tr>\n",
       "<tr>\n",
       "  <th>Df Residuals:</th>          <td> 39638</td>      <th>  BIC:               </th>  <td>8.545e+05</td> \n",
       "</tr>\n",
       "<tr>\n",
       "  <th>Df Model:</th>              <td>     5</td>      <th>                     </th>      <td> </td>     \n",
       "</tr>\n",
       "<tr>\n",
       "  <th>Covariance Type:</th>      <td>nonrobust</td>    <th>                     </th>      <td> </td>     \n",
       "</tr>\n",
       "</table>\n",
       "<table class=\"simpletable\">\n",
       "<tr>\n",
       "      <td></td>         <th>coef</th>     <th>std err</th>      <th>t</th>      <th>P>|t|</th>  <th>[0.025</th>    <th>0.975]</th>  \n",
       "</tr>\n",
       "<tr>\n",
       "  <th>Intercept</th> <td> 5900.0000</td> <td> 1.16e+04</td> <td>    0.510</td> <td> 0.610</td> <td>-1.68e+04</td> <td> 2.86e+04</td>\n",
       "</tr>\n",
       "<tr>\n",
       "  <th>LDA_00</th>    <td>-2564.7107</td> <td> 1.16e+04</td> <td>   -0.221</td> <td> 0.825</td> <td>-2.53e+04</td> <td> 2.01e+04</td>\n",
       "</tr>\n",
       "<tr>\n",
       "  <th>LDA_01</th>    <td>-3263.1247</td> <td> 1.16e+04</td> <td>   -0.282</td> <td> 0.778</td> <td> -2.6e+04</td> <td> 1.94e+04</td>\n",
       "</tr>\n",
       "<tr>\n",
       "  <th>LDA_02</th>    <td>-4284.6961</td> <td> 1.16e+04</td> <td>   -0.370</td> <td> 0.711</td> <td> -2.7e+04</td> <td> 1.84e+04</td>\n",
       "</tr>\n",
       "<tr>\n",
       "  <th>LDA_03</th>    <td>   50.0741</td> <td> 1.16e+04</td> <td>    0.004</td> <td> 0.997</td> <td>-2.26e+04</td> <td> 2.27e+04</td>\n",
       "</tr>\n",
       "<tr>\n",
       "  <th>LDA_04</th>    <td>-2796.9862</td> <td> 1.16e+04</td> <td>   -0.242</td> <td> 0.809</td> <td>-2.55e+04</td> <td> 1.99e+04</td>\n",
       "</tr>\n",
       "</table>\n",
       "<table class=\"simpletable\">\n",
       "<tr>\n",
       "  <th>Omnibus:</th>       <td>108394.426</td> <th>  Durbin-Watson:     </th>    <td>   1.996</td>   \n",
       "</tr>\n",
       "<tr>\n",
       "  <th>Prob(Omnibus):</th>   <td> 0.000</td>   <th>  Jarque-Bera (JB):  </th> <td>5684188134.611</td>\n",
       "</tr>\n",
       "<tr>\n",
       "  <th>Skew:</th>            <td>34.197</td>   <th>  Prob(JB):          </th>    <td>    0.00</td>   \n",
       "</tr>\n",
       "<tr>\n",
       "  <th>Kurtosis:</th>       <td>1856.769</td>  <th>  Cond. No.          </th>    <td>    536.</td>   \n",
       "</tr>\n",
       "</table><br/><br/>Warnings:<br/>[1] Standard Errors assume that the covariance matrix of the errors is correctly specified."
      ],
      "text/plain": [
       "<class 'statsmodels.iolib.summary.Summary'>\n",
       "\"\"\"\n",
       "                            OLS Regression Results                            \n",
       "==============================================================================\n",
       "Dep. Variable:                 shares   R-squared:                       0.008\n",
       "Model:                            OLS   Adj. R-squared:                  0.008\n",
       "Method:                 Least Squares   F-statistic:                     66.04\n",
       "Date:                Wed, 06 May 2020   Prob (F-statistic):           6.19e-69\n",
       "Time:                        21:51:03   Log-Likelihood:            -4.2720e+05\n",
       "No. Observations:               39644   AIC:                         8.544e+05\n",
       "Df Residuals:                   39638   BIC:                         8.545e+05\n",
       "Df Model:                           5                                         \n",
       "Covariance Type:            nonrobust                                         \n",
       "==============================================================================\n",
       "                 coef    std err          t      P>|t|      [0.025      0.975]\n",
       "------------------------------------------------------------------------------\n",
       "Intercept   5900.0000   1.16e+04      0.510      0.610   -1.68e+04    2.86e+04\n",
       "LDA_00     -2564.7107   1.16e+04     -0.221      0.825   -2.53e+04    2.01e+04\n",
       "LDA_01     -3263.1247   1.16e+04     -0.282      0.778    -2.6e+04    1.94e+04\n",
       "LDA_02     -4284.6961   1.16e+04     -0.370      0.711    -2.7e+04    1.84e+04\n",
       "LDA_03        50.0741   1.16e+04      0.004      0.997   -2.26e+04    2.27e+04\n",
       "LDA_04     -2796.9862   1.16e+04     -0.242      0.809   -2.55e+04    1.99e+04\n",
       "==============================================================================\n",
       "Omnibus:                   108394.426   Durbin-Watson:                   1.996\n",
       "Prob(Omnibus):                  0.000   Jarque-Bera (JB):       5684188134.611\n",
       "Skew:                          34.197   Prob(JB):                         0.00\n",
       "Kurtosis:                    1856.769   Cond. No.                         536.\n",
       "==============================================================================\n",
       "\n",
       "Warnings:\n",
       "[1] Standard Errors assume that the covariance matrix of the errors is correctly specified.\n",
       "\"\"\""
      ]
     },
     "execution_count": 16,
     "metadata": {},
     "output_type": "execute_result"
    }
   ],
   "source": [
    "lda_ols = ols(formula='shares~LDA_00+LDA_01+LDA_02+LDA_03+LDA_04', data=dropped_news).fit()\n",
    "lda_ols.summary()"
   ]
  },
  {
   "cell_type": "code",
   "execution_count": 17,
   "metadata": {
    "collapsed": true
   },
   "outputs": [
    {
     "data": {
      "text/html": [
       "<table class=\"simpletable\">\n",
       "<caption>OLS Regression Results</caption>\n",
       "<tr>\n",
       "  <th>Dep. Variable:</th>         <td>shares</td>      <th>  R-squared:         </th>  <td>   0.001</td>  \n",
       "</tr>\n",
       "<tr>\n",
       "  <th>Model:</th>                   <td>OLS</td>       <th>  Adj. R-squared:    </th>  <td>   0.000</td>  \n",
       "</tr>\n",
       "<tr>\n",
       "  <th>Method:</th>             <td>Least Squares</td>  <th>  F-statistic:       </th>  <td>   5.701</td>  \n",
       "</tr>\n",
       "<tr>\n",
       "  <th>Date:</th>             <td>Wed, 06 May 2020</td> <th>  Prob (F-statistic):</th>  <td>0.000139</td>  \n",
       "</tr>\n",
       "<tr>\n",
       "  <th>Time:</th>                 <td>21:51:03</td>     <th>  Log-Likelihood:    </th> <td>-4.2735e+05</td>\n",
       "</tr>\n",
       "<tr>\n",
       "  <th>No. Observations:</th>      <td> 39644</td>      <th>  AIC:               </th>  <td>8.547e+05</td> \n",
       "</tr>\n",
       "<tr>\n",
       "  <th>Df Residuals:</th>          <td> 39639</td>      <th>  BIC:               </th>  <td>8.548e+05</td> \n",
       "</tr>\n",
       "<tr>\n",
       "  <th>Df Model:</th>              <td>     4</td>      <th>                     </th>      <td> </td>     \n",
       "</tr>\n",
       "<tr>\n",
       "  <th>Covariance Type:</th>      <td>nonrobust</td>    <th>                     </th>      <td> </td>     \n",
       "</tr>\n",
       "</table>\n",
       "<table class=\"simpletable\">\n",
       "<tr>\n",
       "            <td></td>              <th>coef</th>     <th>std err</th>      <th>t</th>      <th>P>|t|</th>  <th>[0.025</th>    <th>0.975]</th>  \n",
       "</tr>\n",
       "<tr>\n",
       "  <th>Intercept</th>            <td> 4319.2871</td> <td>  445.751</td> <td>    9.690</td> <td> 0.000</td> <td> 3445.605</td> <td> 5192.969</td>\n",
       "</tr>\n",
       "<tr>\n",
       "  <th>n_tokens_title</th>       <td>   38.8744</td> <td>   27.700</td> <td>    1.403</td> <td> 0.161</td> <td>  -15.419</td> <td>   93.168</td>\n",
       "</tr>\n",
       "<tr>\n",
       "  <th>n_tokens_content</th>     <td>    0.1512</td> <td>    0.126</td> <td>    1.202</td> <td> 0.229</td> <td>   -0.095</td> <td>    0.398</td>\n",
       "</tr>\n",
       "<tr>\n",
       "  <th>n_unique_tokens</th>      <td>    4.8510</td> <td>   16.589</td> <td>    0.292</td> <td> 0.770</td> <td>  -27.664</td> <td>   37.366</td>\n",
       "</tr>\n",
       "<tr>\n",
       "  <th>average_token_length</th> <td> -310.7615</td> <td>   70.361</td> <td>   -4.417</td> <td> 0.000</td> <td> -448.671</td> <td> -172.852</td>\n",
       "</tr>\n",
       "</table>\n",
       "<table class=\"simpletable\">\n",
       "<tr>\n",
       "  <th>Omnibus:</th>       <td>108127.940</td> <th>  Durbin-Watson:     </th>    <td>   1.995</td>   \n",
       "</tr>\n",
       "<tr>\n",
       "  <th>Prob(Omnibus):</th>   <td> 0.000</td>   <th>  Jarque-Bera (JB):  </th> <td>5563312741.345</td>\n",
       "</tr>\n",
       "<tr>\n",
       "  <th>Skew:</th>            <td>33.977</td>   <th>  Prob(JB):          </th>    <td>    0.00</td>   \n",
       "</tr>\n",
       "<tr>\n",
       "  <th>Kurtosis:</th>       <td>1836.942</td>  <th>  Cond. No.          </th>    <td>5.55e+03</td>   \n",
       "</tr>\n",
       "</table><br/><br/>Warnings:<br/>[1] Standard Errors assume that the covariance matrix of the errors is correctly specified.<br/>[2] The condition number is large, 5.55e+03. This might indicate that there are<br/>strong multicollinearity or other numerical problems."
      ],
      "text/plain": [
       "<class 'statsmodels.iolib.summary.Summary'>\n",
       "\"\"\"\n",
       "                            OLS Regression Results                            \n",
       "==============================================================================\n",
       "Dep. Variable:                 shares   R-squared:                       0.001\n",
       "Model:                            OLS   Adj. R-squared:                  0.000\n",
       "Method:                 Least Squares   F-statistic:                     5.701\n",
       "Date:                Wed, 06 May 2020   Prob (F-statistic):           0.000139\n",
       "Time:                        21:51:03   Log-Likelihood:            -4.2735e+05\n",
       "No. Observations:               39644   AIC:                         8.547e+05\n",
       "Df Residuals:                   39639   BIC:                         8.548e+05\n",
       "Df Model:                           4                                         \n",
       "Covariance Type:            nonrobust                                         \n",
       "========================================================================================\n",
       "                           coef    std err          t      P>|t|      [0.025      0.975]\n",
       "----------------------------------------------------------------------------------------\n",
       "Intercept             4319.2871    445.751      9.690      0.000    3445.605    5192.969\n",
       "n_tokens_title          38.8744     27.700      1.403      0.161     -15.419      93.168\n",
       "n_tokens_content         0.1512      0.126      1.202      0.229      -0.095       0.398\n",
       "n_unique_tokens          4.8510     16.589      0.292      0.770     -27.664      37.366\n",
       "average_token_length  -310.7615     70.361     -4.417      0.000    -448.671    -172.852\n",
       "==============================================================================\n",
       "Omnibus:                   108127.940   Durbin-Watson:                   1.995\n",
       "Prob(Omnibus):                  0.000   Jarque-Bera (JB):       5563312741.345\n",
       "Skew:                          33.977   Prob(JB):                         0.00\n",
       "Kurtosis:                    1836.942   Cond. No.                     5.55e+03\n",
       "==============================================================================\n",
       "\n",
       "Warnings:\n",
       "[1] Standard Errors assume that the covariance matrix of the errors is correctly specified.\n",
       "[2] The condition number is large, 5.55e+03. This might indicate that there are\n",
       "strong multicollinearity or other numerical problems.\n",
       "\"\"\""
      ]
     },
     "execution_count": 17,
     "metadata": {},
     "output_type": "execute_result"
    }
   ],
   "source": [
    "token_ols = ols(formula='shares~n_tokens_title+n_tokens_content+n_unique_tokens+average_token_length',\n",
    "                data=dropped_news).fit()\n",
    "token_ols.summary()"
   ]
  },
  {
   "cell_type": "code",
   "execution_count": 18,
   "metadata": {
    "collapsed": true
   },
   "outputs": [
    {
     "ename": "TypeError",
     "evalue": "from_formula() missing 2 required positional arguments: 'formula' and 'data'",
     "output_type": "error",
     "traceback": [
      "\u001b[0;31m---------------------------------------------------------------------------\u001b[0m",
      "\u001b[0;31mTypeError\u001b[0m                                 Traceback (most recent call last)",
      "\u001b[0;32m<ipython-input-18-c270edad98fa>\u001b[0m in \u001b[0;36m<module>\u001b[0;34m\u001b[0m\n\u001b[0;32m----> 1\u001b[0;31m \u001b[0mpos_or_neg_ols\u001b[0m \u001b[0;34m=\u001b[0m \u001b[0mols\u001b[0m\u001b[0;34m(\u001b[0m\u001b[0;34m)\u001b[0m\u001b[0;34m\u001b[0m\u001b[0;34m\u001b[0m\u001b[0m\n\u001b[0m",
      "\u001b[0;31mTypeError\u001b[0m: from_formula() missing 2 required positional arguments: 'formula' and 'data'"
     ]
    }
   ],
   "source": [
    "pos_or_neg_ols = ols()"
   ]
  },
  {
   "cell_type": "code",
   "execution_count": null,
   "metadata": {},
   "outputs": [],
   "source": [
    "# ols for title subjectivity and polarity"
   ]
  },
  {
   "cell_type": "code",
   "execution_count": null,
   "metadata": {},
   "outputs": [],
   "source": [
    "# ols for visuals {images & videos and/or links (look at relationship between outside links and other links by \n",
    "# mashable)}"
   ]
  },
  {
   "cell_type": "code",
   "execution_count": null,
   "metadata": {},
   "outputs": [],
   "source": []
  },
  {
   "cell_type": "markdown",
   "metadata": {},
   "source": [
    "# attempt at setting up interaction terms automatically"
   ]
  },
  {
   "cell_type": "code",
   "execution_count": 28,
   "metadata": {},
   "outputs": [],
   "source": [
    "# interactions = []\n",
    "# feat_combinations = combinations(X.columns, 2)\n",
    "# data = X.copy()\n",
    "# for i, (a,b) in enumerate(feat_combinations):\n",
    "#     data['interaction'] = data[a]*data[b]\n",
    "#     score = np.mean(cross_val_score(regression, data, y, scoring='r2', cv=crossvalidation))\n",
    "#     if score > baseline:\n",
    "#          interactions.append((a,b, round(score,3)))\n",
    "#     if i % 50 == 0:\n",
    "#          printa(i)\n",
    "# print('Top 3 interactions: %s' %sorted(interactions, key=lambda inter: inter[2], reverse=True)[:3])\n",
    "  '''LOOK OVER INTERACTION LEARN LAB'''"
   ]
  },
  {
   "cell_type": "code",
   "execution_count": null,
   "metadata": {},
   "outputs": [],
   "source": []
  },
  {
   "cell_type": "markdown",
   "metadata": {},
   "source": [
    "# anova tests for categorical variables"
   ]
  },
  {
   "cell_type": "code",
   "execution_count": 29,
   "metadata": {},
   "outputs": [],
   "source": [
    "day_anova = sm.stats.anova_lm(day_ols, typ=2)"
   ]
  },
  {
   "cell_type": "code",
   "execution_count": 30,
   "metadata": {
    "collapsed": true
   },
   "outputs": [
    {
     "data": {
      "text/html": [
       "<div>\n",
       "<style scoped>\n",
       "    .dataframe tbody tr th:only-of-type {\n",
       "        vertical-align: middle;\n",
       "    }\n",
       "\n",
       "    .dataframe tbody tr th {\n",
       "        vertical-align: top;\n",
       "    }\n",
       "\n",
       "    .dataframe thead th {\n",
       "        text-align: right;\n",
       "    }\n",
       "</style>\n",
       "<table border=\"1\" class=\"dataframe\">\n",
       "  <thead>\n",
       "    <tr style=\"text-align: right;\">\n",
       "      <th></th>\n",
       "      <th>sum_sq</th>\n",
       "      <th>df</th>\n",
       "      <th>F</th>\n",
       "      <th>PR(&gt;F)</th>\n",
       "    </tr>\n",
       "  </thead>\n",
       "  <tbody>\n",
       "    <tr>\n",
       "      <td>weekday_is_monday</td>\n",
       "      <td>1.333013e+07</td>\n",
       "      <td>1.0</td>\n",
       "      <td>0.098637</td>\n",
       "      <td>0.753473</td>\n",
       "    </tr>\n",
       "    <tr>\n",
       "      <td>weekday_is_tuesday</td>\n",
       "      <td>1.333013e+07</td>\n",
       "      <td>1.0</td>\n",
       "      <td>0.098637</td>\n",
       "      <td>0.753473</td>\n",
       "    </tr>\n",
       "    <tr>\n",
       "      <td>weekday_is_wednesday</td>\n",
       "      <td>1.333013e+07</td>\n",
       "      <td>1.0</td>\n",
       "      <td>0.098637</td>\n",
       "      <td>0.753473</td>\n",
       "    </tr>\n",
       "    <tr>\n",
       "      <td>weekday_is_thursday</td>\n",
       "      <td>1.333013e+07</td>\n",
       "      <td>1.0</td>\n",
       "      <td>0.098637</td>\n",
       "      <td>0.753473</td>\n",
       "    </tr>\n",
       "    <tr>\n",
       "      <td>weekday_is_friday</td>\n",
       "      <td>1.333013e+07</td>\n",
       "      <td>1.0</td>\n",
       "      <td>0.098637</td>\n",
       "      <td>0.753473</td>\n",
       "    </tr>\n",
       "    <tr>\n",
       "      <td>weekday_is_saturday</td>\n",
       "      <td>1.333013e+07</td>\n",
       "      <td>1.0</td>\n",
       "      <td>0.098637</td>\n",
       "      <td>0.753473</td>\n",
       "    </tr>\n",
       "    <tr>\n",
       "      <td>weekday_is_sunday</td>\n",
       "      <td>1.333013e+07</td>\n",
       "      <td>1.0</td>\n",
       "      <td>0.098637</td>\n",
       "      <td>0.753473</td>\n",
       "    </tr>\n",
       "    <tr>\n",
       "      <td>Residual</td>\n",
       "      <td>5.356541e+12</td>\n",
       "      <td>39636.0</td>\n",
       "      <td>NaN</td>\n",
       "      <td>NaN</td>\n",
       "    </tr>\n",
       "  </tbody>\n",
       "</table>\n",
       "</div>"
      ],
      "text/plain": [
       "                            sum_sq       df         F    PR(>F)\n",
       "weekday_is_monday     1.333013e+07      1.0  0.098637  0.753473\n",
       "weekday_is_tuesday    1.333013e+07      1.0  0.098637  0.753473\n",
       "weekday_is_wednesday  1.333013e+07      1.0  0.098637  0.753473\n",
       "weekday_is_thursday   1.333013e+07      1.0  0.098637  0.753473\n",
       "weekday_is_friday     1.333013e+07      1.0  0.098637  0.753473\n",
       "weekday_is_saturday   1.333013e+07      1.0  0.098637  0.753473\n",
       "weekday_is_sunday     1.333013e+07      1.0  0.098637  0.753473\n",
       "Residual              5.356541e+12  39636.0       NaN       NaN"
      ]
     },
     "execution_count": 30,
     "metadata": {},
     "output_type": "execute_result"
    }
   ],
   "source": [
    "day_anova"
   ]
  },
  {
   "cell_type": "code",
   "execution_count": 25,
   "metadata": {
    "collapsed": true
   },
   "outputs": [
    {
     "data": {
      "text/html": [
       "<div>\n",
       "<style scoped>\n",
       "    .dataframe tbody tr th:only-of-type {\n",
       "        vertical-align: middle;\n",
       "    }\n",
       "\n",
       "    .dataframe tbody tr th {\n",
       "        vertical-align: top;\n",
       "    }\n",
       "\n",
       "    .dataframe thead th {\n",
       "        text-align: right;\n",
       "    }\n",
       "</style>\n",
       "<table border=\"1\" class=\"dataframe\">\n",
       "  <thead>\n",
       "    <tr style=\"text-align: right;\">\n",
       "      <th></th>\n",
       "      <th>sum_sq</th>\n",
       "      <th>df</th>\n",
       "      <th>F</th>\n",
       "      <th>PR(&gt;F)</th>\n",
       "    </tr>\n",
       "  </thead>\n",
       "  <tbody>\n",
       "    <tr>\n",
       "      <td>LDA_00</td>\n",
       "      <td>6.575977e+06</td>\n",
       "      <td>1.0</td>\n",
       "      <td>0.049043</td>\n",
       "      <td>0.824738</td>\n",
       "    </tr>\n",
       "    <tr>\n",
       "      <td>LDA_01</td>\n",
       "      <td>1.064359e+07</td>\n",
       "      <td>1.0</td>\n",
       "      <td>0.079379</td>\n",
       "      <td>0.778142</td>\n",
       "    </tr>\n",
       "    <tr>\n",
       "      <td>LDA_02</td>\n",
       "      <td>1.835457e+07</td>\n",
       "      <td>1.0</td>\n",
       "      <td>0.136887</td>\n",
       "      <td>0.711398</td>\n",
       "    </tr>\n",
       "    <tr>\n",
       "      <td>LDA_03</td>\n",
       "      <td>2.506903e+03</td>\n",
       "      <td>1.0</td>\n",
       "      <td>0.000019</td>\n",
       "      <td>0.996550</td>\n",
       "    </tr>\n",
       "    <tr>\n",
       "      <td>LDA_04</td>\n",
       "      <td>7.821541e+06</td>\n",
       "      <td>1.0</td>\n",
       "      <td>0.058332</td>\n",
       "      <td>0.809153</td>\n",
       "    </tr>\n",
       "    <tr>\n",
       "      <td>Residual</td>\n",
       "      <td>5.314900e+12</td>\n",
       "      <td>39638.0</td>\n",
       "      <td>NaN</td>\n",
       "      <td>NaN</td>\n",
       "    </tr>\n",
       "  </tbody>\n",
       "</table>\n",
       "</div>"
      ],
      "text/plain": [
       "                sum_sq       df         F    PR(>F)\n",
       "LDA_00    6.575977e+06      1.0  0.049043  0.824738\n",
       "LDA_01    1.064359e+07      1.0  0.079379  0.778142\n",
       "LDA_02    1.835457e+07      1.0  0.136887  0.711398\n",
       "LDA_03    2.506903e+03      1.0  0.000019  0.996550\n",
       "LDA_04    7.821541e+06      1.0  0.058332  0.809153\n",
       "Residual  5.314900e+12  39638.0       NaN       NaN"
      ]
     },
     "execution_count": 25,
     "metadata": {},
     "output_type": "execute_result"
    }
   ],
   "source": [
    "lda_anova = sm.stats.anova_lm(lda_ols, typ=2)\n",
    "lda_anova"
   ]
  },
  {
   "cell_type": "code",
   "execution_count": 27,
   "metadata": {
    "collapsed": true
   },
   "outputs": [
    {
     "data": {
      "text/html": [
       "<div>\n",
       "<style scoped>\n",
       "    .dataframe tbody tr th:only-of-type {\n",
       "        vertical-align: middle;\n",
       "    }\n",
       "\n",
       "    .dataframe tbody tr th {\n",
       "        vertical-align: top;\n",
       "    }\n",
       "\n",
       "    .dataframe thead th {\n",
       "        text-align: right;\n",
       "    }\n",
       "</style>\n",
       "<table border=\"1\" class=\"dataframe\">\n",
       "  <thead>\n",
       "    <tr style=\"text-align: right;\">\n",
       "      <th></th>\n",
       "      <th>df</th>\n",
       "      <th>sum_sq</th>\n",
       "      <th>mean_sq</th>\n",
       "      <th>F</th>\n",
       "      <th>PR(&gt;F)</th>\n",
       "    </tr>\n",
       "  </thead>\n",
       "  <tbody>\n",
       "    <tr>\n",
       "      <td>n_tokens_title</td>\n",
       "      <td>1.0</td>\n",
       "      <td>4.134240e+08</td>\n",
       "      <td>4.134240e+08</td>\n",
       "      <td>3.059638</td>\n",
       "      <td>0.080267</td>\n",
       "    </tr>\n",
       "    <tr>\n",
       "      <td>n_tokens_content</td>\n",
       "      <td>1.0</td>\n",
       "      <td>2.834673e+07</td>\n",
       "      <td>2.834673e+07</td>\n",
       "      <td>0.209786</td>\n",
       "      <td>0.646937</td>\n",
       "    </tr>\n",
       "    <tr>\n",
       "      <td>n_unique_tokens</td>\n",
       "      <td>1.0</td>\n",
       "      <td>3.998301e+06</td>\n",
       "      <td>3.998301e+06</td>\n",
       "      <td>0.029590</td>\n",
       "      <td>0.863424</td>\n",
       "    </tr>\n",
       "    <tr>\n",
       "      <td>average_token_length</td>\n",
       "      <td>1.0</td>\n",
       "      <td>2.635803e+09</td>\n",
       "      <td>2.635803e+09</td>\n",
       "      <td>19.506855</td>\n",
       "      <td>0.000010</td>\n",
       "    </tr>\n",
       "    <tr>\n",
       "      <td>Residual</td>\n",
       "      <td>39639.0</td>\n",
       "      <td>5.356096e+12</td>\n",
       "      <td>1.351219e+08</td>\n",
       "      <td>NaN</td>\n",
       "      <td>NaN</td>\n",
       "    </tr>\n",
       "  </tbody>\n",
       "</table>\n",
       "</div>"
      ],
      "text/plain": [
       "                           df        sum_sq       mean_sq          F    PR(>F)\n",
       "n_tokens_title            1.0  4.134240e+08  4.134240e+08   3.059638  0.080267\n",
       "n_tokens_content          1.0  2.834673e+07  2.834673e+07   0.209786  0.646937\n",
       "n_unique_tokens           1.0  3.998301e+06  3.998301e+06   0.029590  0.863424\n",
       "average_token_length      1.0  2.635803e+09  2.635803e+09  19.506855  0.000010\n",
       "Residual              39639.0  5.356096e+12  1.351219e+08        NaN       NaN"
      ]
     },
     "execution_count": 27,
     "metadata": {},
     "output_type": "execute_result"
    }
   ],
   "source": [
    "token_anova = sm.stats.anova_lm(token_ols, type=2)\n",
    "token_anova"
   ]
  },
  {
   "cell_type": "code",
   "execution_count": null,
   "metadata": {},
   "outputs": [],
   "source": [
    "# anova for pos or neg ols"
   ]
  },
  {
   "cell_type": "code",
   "execution_count": null,
   "metadata": {},
   "outputs": [],
   "source": [
    "# anova for title subjectivity and polarity"
   ]
  },
  {
   "cell_type": "code",
   "execution_count": null,
   "metadata": {},
   "outputs": [],
   "source": [
    "# anova for visuals"
   ]
  },
  {
   "cell_type": "code",
   "execution_count": null,
   "metadata": {},
   "outputs": [],
   "source": []
  },
  {
   "cell_type": "markdown",
   "metadata": {},
   "source": [
    "# variance inflation method"
   ]
  },
  {
   "cell_type": "code",
   "execution_count": null,
   "metadata": {},
   "outputs": [],
   "source": [
    "# vif = pd.DataFrame()\n",
    "# vif[\"VIF Factor\"] = [variance_inflation_factor(X_train.values, i) for i in range(X_train.shape[1])]\n",
    "# vif[\"features\"] = X_train.columns\n",
    "# vif.round(5).head(20)"
   ]
  }
 ],
 "metadata": {
  "kernelspec": {
   "display_name": "Python 3",
   "language": "python",
   "name": "python3"
  },
  "language_info": {
   "codemirror_mode": {
    "name": "ipython",
    "version": 3
   },
   "file_extension": ".py",
   "mimetype": "text/x-python",
   "name": "python",
   "nbconvert_exporter": "python",
   "pygments_lexer": "ipython3",
   "version": "3.7.4"
  }
 },
 "nbformat": 4,
 "nbformat_minor": 2
}
